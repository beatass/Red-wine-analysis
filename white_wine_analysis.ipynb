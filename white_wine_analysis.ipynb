{
  "nbformat": 4,
  "nbformat_minor": 0,
  "metadata": {
    "colab": {
      "provenance": []
    },
    "kernelspec": {
      "name": "python3",
      "display_name": "Python 3"
    },
    "language_info": {
      "name": "python"
    }
  },
  "cells": [
    {
      "cell_type": "markdown",
      "metadata": {
        "id": "vjMpV_RlIiVL"
      },
      "source": [
        "##**White wine analysis**\n",
        "\n",
        "The project concerns the prediction of white wine quality using Machine Learning approaches. In this study I have performed EDA analysis and I have used a different ML algorithms such as Logistic Regression, KNN, Naive Bayes, SVM, Decision Tree and Random Forest to make a predictions.\n",
        "\n",
        "In the first part I am going to do some exploratory analysis to understand the nature of data about white wine and the underlying distribution, mostly I will focus on outliers and I will show how to cope with them. In the second I have used some Machine Learning algorithms to resolve problem assumed.\n",
        "\n",
        "The dataset can be found at Kaggle and contains data about white wine quality. It consists of the following variables:\n",
        "\n",
        "- **citric acid** - found in small quantities, citric acid can add 'freshness' and flavor to wines;\n",
        "- **free sulfur dioxide** - it prevents microbial growth and the oxidation of wine;\n",
        "- **pH** - describes how acidic or basic a wine is on a scale from 0 (very acidic) to 14 (very basic); most wines are between 3-4 on the pH scale;\n",
        "- **fixed acidity** - most acids involved with wine or fixed or nonvolatile;\n",
        "- **residual sugar** - the amount of sugar remaining after fermentation stops, it's rare to find wines with less than 1 gram/liter and wines with greater than 45 grams/liter are considered sweet;\n",
        "- **total sulfur dioxide** - amount of free and bound forms of S02; in low concentrations, SO2 is mostly undetectable in wine, but at free SO2 concentrations over 50 ppm, SO2 becomes evident in the nose and taste of wine;\n",
        "- **sulphates** - a wine additive which can contribute to sulfur dioxide gas (S02) levels, wich acts as an antimicrobial and antioxidant;\n",
        "- **volatile acidity** - the amount of acetic acid in wine, which at too high of levels can lead to an unpleasant, vinegar taste;\n",
        "- **chlorides** - the amount of salt in the wine;\n",
        "- **density** - the density of water is close to that of water depending on the percent alcohol and sugar content;\n",
        "- **alcohol** - the percent alcohol content of the wine;\n",
        "- **quality** - score between 0 and 10.\n"
      ]
    },
    {
      "cell_type": "markdown",
      "metadata": {
        "id": "T1216SgSRBIZ"
      },
      "source": [
        "### **Import libraries and data**"
      ]
    },
    {
      "cell_type": "code",
      "metadata": {
        "id": "gb9V5eZaDP2A"
      },
      "source": [
        "import pandas as pd\n",
        "import numpy as np\n",
        "import matplotlib.pyplot as plt\n",
        "import seaborn as sns\n",
        "\n",
        "import warnings\n",
        "warnings.filterwarnings('ignore')\n",
        "\n",
        "from sklearn.model_selection import train_test_split\n",
        "from sklearn.preprocessing import StandardScaler\n",
        "from sklearn.metrics import make_scorer, accuracy_score, classification_report\n",
        "\n",
        "from sklearn.model_selection import GridSearchCV\n",
        "from sklearn.tree import DecisionTreeClassifier\n",
        "from sklearn.linear_model import LogisticRegression\n",
        "from sklearn.svm import SVC\n",
        "from sklearn.naive_bayes import GaussianNB\n",
        "from sklearn.neighbors import KNeighborsClassifier\n",
        "from sklearn.ensemble import RandomForestClassifier\n",
        "\n",
        "#xgboost model\n",
        "from xgboost import XGBClassifier"
      ],
      "execution_count": null,
      "outputs": []
    },
    {
      "cell_type": "code",
      "metadata": {
        "colab": {
          "base_uri": "https://localhost:8080/"
        },
        "id": "POi3rtaeDtH2",
        "outputId": "678e053a-c0ca-44cf-ffd3-f60f318dbd22"
      },
      "source": [
        "cd \"/content/drive/My Drive/Colab Notebooks/wine_analysis\""
      ],
      "execution_count": null,
      "outputs": [
        {
          "output_type": "stream",
          "name": "stdout",
          "text": [
            "/content/drive/My Drive/Colab Notebooks/wine_analysis\n"
          ]
        }
      ]
    },
    {
      "cell_type": "code",
      "metadata": {
        "colab": {
          "base_uri": "https://localhost:8080/"
        },
        "id": "aU_D6Xb4D5yI",
        "outputId": "7f58e23f-59f5-4368-9a7d-f338df0b602e"
      },
      "source": [
        "ls"
      ],
      "execution_count": null,
      "outputs": [
        {
          "output_type": "stream",
          "name": "stdout",
          "text": [
            "winequality-red.csv  winequality-white.csv\n"
          ]
        }
      ]
    },
    {
      "cell_type": "markdown",
      "metadata": {
        "id": "seZqtQ8URQfM"
      },
      "source": [
        "First observations:"
      ]
    },
    {
      "cell_type": "code",
      "metadata": {
        "colab": {
          "base_uri": "https://localhost:8080/",
          "height": 224
        },
        "id": "FipYxgweEA27",
        "outputId": "70fba26b-5bf9-483b-b18f-6b8af95319b0"
      },
      "source": [
        "wine_white = pd.read_csv('winequality-white.csv', sep=';')\n",
        "wine_white.head()"
      ],
      "execution_count": null,
      "outputs": [
        {
          "output_type": "execute_result",
          "data": {
            "text/html": [
              "<div>\n",
              "<style scoped>\n",
              "    .dataframe tbody tr th:only-of-type {\n",
              "        vertical-align: middle;\n",
              "    }\n",
              "\n",
              "    .dataframe tbody tr th {\n",
              "        vertical-align: top;\n",
              "    }\n",
              "\n",
              "    .dataframe thead th {\n",
              "        text-align: right;\n",
              "    }\n",
              "</style>\n",
              "<table border=\"1\" class=\"dataframe\">\n",
              "  <thead>\n",
              "    <tr style=\"text-align: right;\">\n",
              "      <th></th>\n",
              "      <th>fixed acidity</th>\n",
              "      <th>volatile acidity</th>\n",
              "      <th>citric acid</th>\n",
              "      <th>residual sugar</th>\n",
              "      <th>chlorides</th>\n",
              "      <th>free sulfur dioxide</th>\n",
              "      <th>total sulfur dioxide</th>\n",
              "      <th>density</th>\n",
              "      <th>pH</th>\n",
              "      <th>sulphates</th>\n",
              "      <th>alcohol</th>\n",
              "      <th>quality</th>\n",
              "    </tr>\n",
              "  </thead>\n",
              "  <tbody>\n",
              "    <tr>\n",
              "      <th>0</th>\n",
              "      <td>7.0</td>\n",
              "      <td>0.27</td>\n",
              "      <td>0.36</td>\n",
              "      <td>20.7</td>\n",
              "      <td>0.045</td>\n",
              "      <td>45.0</td>\n",
              "      <td>170.0</td>\n",
              "      <td>1.0010</td>\n",
              "      <td>3.00</td>\n",
              "      <td>0.45</td>\n",
              "      <td>8.8</td>\n",
              "      <td>6</td>\n",
              "    </tr>\n",
              "    <tr>\n",
              "      <th>1</th>\n",
              "      <td>6.3</td>\n",
              "      <td>0.30</td>\n",
              "      <td>0.34</td>\n",
              "      <td>1.6</td>\n",
              "      <td>0.049</td>\n",
              "      <td>14.0</td>\n",
              "      <td>132.0</td>\n",
              "      <td>0.9940</td>\n",
              "      <td>3.30</td>\n",
              "      <td>0.49</td>\n",
              "      <td>9.5</td>\n",
              "      <td>6</td>\n",
              "    </tr>\n",
              "    <tr>\n",
              "      <th>2</th>\n",
              "      <td>8.1</td>\n",
              "      <td>0.28</td>\n",
              "      <td>0.40</td>\n",
              "      <td>6.9</td>\n",
              "      <td>0.050</td>\n",
              "      <td>30.0</td>\n",
              "      <td>97.0</td>\n",
              "      <td>0.9951</td>\n",
              "      <td>3.26</td>\n",
              "      <td>0.44</td>\n",
              "      <td>10.1</td>\n",
              "      <td>6</td>\n",
              "    </tr>\n",
              "    <tr>\n",
              "      <th>3</th>\n",
              "      <td>7.2</td>\n",
              "      <td>0.23</td>\n",
              "      <td>0.32</td>\n",
              "      <td>8.5</td>\n",
              "      <td>0.058</td>\n",
              "      <td>47.0</td>\n",
              "      <td>186.0</td>\n",
              "      <td>0.9956</td>\n",
              "      <td>3.19</td>\n",
              "      <td>0.40</td>\n",
              "      <td>9.9</td>\n",
              "      <td>6</td>\n",
              "    </tr>\n",
              "    <tr>\n",
              "      <th>4</th>\n",
              "      <td>7.2</td>\n",
              "      <td>0.23</td>\n",
              "      <td>0.32</td>\n",
              "      <td>8.5</td>\n",
              "      <td>0.058</td>\n",
              "      <td>47.0</td>\n",
              "      <td>186.0</td>\n",
              "      <td>0.9956</td>\n",
              "      <td>3.19</td>\n",
              "      <td>0.40</td>\n",
              "      <td>9.9</td>\n",
              "      <td>6</td>\n",
              "    </tr>\n",
              "  </tbody>\n",
              "</table>\n",
              "</div>"
            ],
            "text/plain": [
              "   fixed acidity  volatile acidity  citric acid  ...  sulphates  alcohol  quality\n",
              "0            7.0              0.27         0.36  ...       0.45      8.8        6\n",
              "1            6.3              0.30         0.34  ...       0.49      9.5        6\n",
              "2            8.1              0.28         0.40  ...       0.44     10.1        6\n",
              "3            7.2              0.23         0.32  ...       0.40      9.9        6\n",
              "4            7.2              0.23         0.32  ...       0.40      9.9        6\n",
              "\n",
              "[5 rows x 12 columns]"
            ]
          },
          "metadata": {},
          "execution_count": 4
        }
      ]
    },
    {
      "cell_type": "code",
      "metadata": {
        "colab": {
          "base_uri": "https://localhost:8080/",
          "height": 224
        },
        "id": "7Kg6vsfAHfsI",
        "outputId": "fa5429f0-652d-475b-d041-cdd4c6e1837c"
      },
      "source": [
        "wine_white.tail()"
      ],
      "execution_count": null,
      "outputs": [
        {
          "output_type": "execute_result",
          "data": {
            "text/html": [
              "<div>\n",
              "<style scoped>\n",
              "    .dataframe tbody tr th:only-of-type {\n",
              "        vertical-align: middle;\n",
              "    }\n",
              "\n",
              "    .dataframe tbody tr th {\n",
              "        vertical-align: top;\n",
              "    }\n",
              "\n",
              "    .dataframe thead th {\n",
              "        text-align: right;\n",
              "    }\n",
              "</style>\n",
              "<table border=\"1\" class=\"dataframe\">\n",
              "  <thead>\n",
              "    <tr style=\"text-align: right;\">\n",
              "      <th></th>\n",
              "      <th>fixed acidity</th>\n",
              "      <th>volatile acidity</th>\n",
              "      <th>citric acid</th>\n",
              "      <th>residual sugar</th>\n",
              "      <th>chlorides</th>\n",
              "      <th>free sulfur dioxide</th>\n",
              "      <th>total sulfur dioxide</th>\n",
              "      <th>density</th>\n",
              "      <th>pH</th>\n",
              "      <th>sulphates</th>\n",
              "      <th>alcohol</th>\n",
              "      <th>quality</th>\n",
              "    </tr>\n",
              "  </thead>\n",
              "  <tbody>\n",
              "    <tr>\n",
              "      <th>4893</th>\n",
              "      <td>6.2</td>\n",
              "      <td>0.21</td>\n",
              "      <td>0.29</td>\n",
              "      <td>1.6</td>\n",
              "      <td>0.039</td>\n",
              "      <td>24.0</td>\n",
              "      <td>92.0</td>\n",
              "      <td>0.99114</td>\n",
              "      <td>3.27</td>\n",
              "      <td>0.50</td>\n",
              "      <td>11.2</td>\n",
              "      <td>6</td>\n",
              "    </tr>\n",
              "    <tr>\n",
              "      <th>4894</th>\n",
              "      <td>6.6</td>\n",
              "      <td>0.32</td>\n",
              "      <td>0.36</td>\n",
              "      <td>8.0</td>\n",
              "      <td>0.047</td>\n",
              "      <td>57.0</td>\n",
              "      <td>168.0</td>\n",
              "      <td>0.99490</td>\n",
              "      <td>3.15</td>\n",
              "      <td>0.46</td>\n",
              "      <td>9.6</td>\n",
              "      <td>5</td>\n",
              "    </tr>\n",
              "    <tr>\n",
              "      <th>4895</th>\n",
              "      <td>6.5</td>\n",
              "      <td>0.24</td>\n",
              "      <td>0.19</td>\n",
              "      <td>1.2</td>\n",
              "      <td>0.041</td>\n",
              "      <td>30.0</td>\n",
              "      <td>111.0</td>\n",
              "      <td>0.99254</td>\n",
              "      <td>2.99</td>\n",
              "      <td>0.46</td>\n",
              "      <td>9.4</td>\n",
              "      <td>6</td>\n",
              "    </tr>\n",
              "    <tr>\n",
              "      <th>4896</th>\n",
              "      <td>5.5</td>\n",
              "      <td>0.29</td>\n",
              "      <td>0.30</td>\n",
              "      <td>1.1</td>\n",
              "      <td>0.022</td>\n",
              "      <td>20.0</td>\n",
              "      <td>110.0</td>\n",
              "      <td>0.98869</td>\n",
              "      <td>3.34</td>\n",
              "      <td>0.38</td>\n",
              "      <td>12.8</td>\n",
              "      <td>7</td>\n",
              "    </tr>\n",
              "    <tr>\n",
              "      <th>4897</th>\n",
              "      <td>6.0</td>\n",
              "      <td>0.21</td>\n",
              "      <td>0.38</td>\n",
              "      <td>0.8</td>\n",
              "      <td>0.020</td>\n",
              "      <td>22.0</td>\n",
              "      <td>98.0</td>\n",
              "      <td>0.98941</td>\n",
              "      <td>3.26</td>\n",
              "      <td>0.32</td>\n",
              "      <td>11.8</td>\n",
              "      <td>6</td>\n",
              "    </tr>\n",
              "  </tbody>\n",
              "</table>\n",
              "</div>"
            ],
            "text/plain": [
              "      fixed acidity  volatile acidity  citric acid  ...  sulphates  alcohol  quality\n",
              "4893            6.2              0.21         0.29  ...       0.50     11.2        6\n",
              "4894            6.6              0.32         0.36  ...       0.46      9.6        5\n",
              "4895            6.5              0.24         0.19  ...       0.46      9.4        6\n",
              "4896            5.5              0.29         0.30  ...       0.38     12.8        7\n",
              "4897            6.0              0.21         0.38  ...       0.32     11.8        6\n",
              "\n",
              "[5 rows x 12 columns]"
            ]
          },
          "metadata": {},
          "execution_count": 5
        }
      ]
    },
    {
      "cell_type": "code",
      "metadata": {
        "colab": {
          "base_uri": "https://localhost:8080/"
        },
        "id": "a_7LnQo5EMGg",
        "outputId": "a55320a8-49f2-4d31-b4d6-b026109c8c7c"
      },
      "source": [
        "wine_white.info()"
      ],
      "execution_count": null,
      "outputs": [
        {
          "output_type": "stream",
          "name": "stdout",
          "text": [
            "<class 'pandas.core.frame.DataFrame'>\n",
            "RangeIndex: 4898 entries, 0 to 4897\n",
            "Data columns (total 12 columns):\n",
            " #   Column                Non-Null Count  Dtype  \n",
            "---  ------                --------------  -----  \n",
            " 0   fixed acidity         4898 non-null   float64\n",
            " 1   volatile acidity      4898 non-null   float64\n",
            " 2   citric acid           4898 non-null   float64\n",
            " 3   residual sugar        4898 non-null   float64\n",
            " 4   chlorides             4898 non-null   float64\n",
            " 5   free sulfur dioxide   4898 non-null   float64\n",
            " 6   total sulfur dioxide  4898 non-null   float64\n",
            " 7   density               4898 non-null   float64\n",
            " 8   pH                    4898 non-null   float64\n",
            " 9   sulphates             4898 non-null   float64\n",
            " 10  alcohol               4898 non-null   float64\n",
            " 11  quality               4898 non-null   int64  \n",
            "dtypes: float64(11), int64(1)\n",
            "memory usage: 459.3 KB\n"
          ]
        }
      ]
    },
    {
      "cell_type": "code",
      "metadata": {
        "colab": {
          "base_uri": "https://localhost:8080/"
        },
        "id": "c3DOgQ3uEbAu",
        "outputId": "51265576-7b59-410a-cdec-891c48748166"
      },
      "source": [
        "#shape of data\n",
        "wine_white.shape"
      ],
      "execution_count": null,
      "outputs": [
        {
          "output_type": "execute_result",
          "data": {
            "text/plain": [
              "(4898, 12)"
            ]
          },
          "metadata": {},
          "execution_count": 8
        }
      ]
    },
    {
      "cell_type": "code",
      "metadata": {
        "colab": {
          "base_uri": "https://localhost:8080/"
        },
        "id": "OtBc_pl7EgQB",
        "outputId": "da93274d-baec-4f79-efac-58b577c31422"
      },
      "source": [
        "#check any missing values:\n",
        "wine_white.isnull().any()"
      ],
      "execution_count": null,
      "outputs": [
        {
          "output_type": "execute_result",
          "data": {
            "text/plain": [
              "fixed acidity           False\n",
              "volatile acidity        False\n",
              "citric acid             False\n",
              "residual sugar          False\n",
              "chlorides               False\n",
              "free sulfur dioxide     False\n",
              "total sulfur dioxide    False\n",
              "density                 False\n",
              "pH                      False\n",
              "sulphates               False\n",
              "alcohol                 False\n",
              "quality                 False\n",
              "dtype: bool"
            ]
          },
          "metadata": {},
          "execution_count": 9
        }
      ]
    },
    {
      "cell_type": "code",
      "metadata": {
        "colab": {
          "base_uri": "https://localhost:8080/",
          "height": 335
        },
        "id": "6knR5cKXERBB",
        "outputId": "677016ae-df36-4ead-8e29-bbbb8eeda98c"
      },
      "source": [
        "#statistics\n",
        "wine_white.describe()"
      ],
      "execution_count": null,
      "outputs": [
        {
          "output_type": "execute_result",
          "data": {
            "text/html": [
              "<div>\n",
              "<style scoped>\n",
              "    .dataframe tbody tr th:only-of-type {\n",
              "        vertical-align: middle;\n",
              "    }\n",
              "\n",
              "    .dataframe tbody tr th {\n",
              "        vertical-align: top;\n",
              "    }\n",
              "\n",
              "    .dataframe thead th {\n",
              "        text-align: right;\n",
              "    }\n",
              "</style>\n",
              "<table border=\"1\" class=\"dataframe\">\n",
              "  <thead>\n",
              "    <tr style=\"text-align: right;\">\n",
              "      <th></th>\n",
              "      <th>fixed acidity</th>\n",
              "      <th>volatile acidity</th>\n",
              "      <th>citric acid</th>\n",
              "      <th>residual sugar</th>\n",
              "      <th>chlorides</th>\n",
              "      <th>free sulfur dioxide</th>\n",
              "      <th>total sulfur dioxide</th>\n",
              "      <th>density</th>\n",
              "      <th>pH</th>\n",
              "      <th>sulphates</th>\n",
              "      <th>alcohol</th>\n",
              "      <th>quality</th>\n",
              "    </tr>\n",
              "  </thead>\n",
              "  <tbody>\n",
              "    <tr>\n",
              "      <th>count</th>\n",
              "      <td>4898.000000</td>\n",
              "      <td>4898.000000</td>\n",
              "      <td>4898.000000</td>\n",
              "      <td>4898.000000</td>\n",
              "      <td>4898.000000</td>\n",
              "      <td>4898.000000</td>\n",
              "      <td>4898.000000</td>\n",
              "      <td>4898.000000</td>\n",
              "      <td>4898.000000</td>\n",
              "      <td>4898.000000</td>\n",
              "      <td>4898.000000</td>\n",
              "      <td>4898.000000</td>\n",
              "    </tr>\n",
              "    <tr>\n",
              "      <th>mean</th>\n",
              "      <td>6.854788</td>\n",
              "      <td>0.278241</td>\n",
              "      <td>0.334192</td>\n",
              "      <td>6.391415</td>\n",
              "      <td>0.045772</td>\n",
              "      <td>35.308085</td>\n",
              "      <td>138.360657</td>\n",
              "      <td>0.994027</td>\n",
              "      <td>3.188267</td>\n",
              "      <td>0.489847</td>\n",
              "      <td>10.514267</td>\n",
              "      <td>5.877909</td>\n",
              "    </tr>\n",
              "    <tr>\n",
              "      <th>std</th>\n",
              "      <td>0.843868</td>\n",
              "      <td>0.100795</td>\n",
              "      <td>0.121020</td>\n",
              "      <td>5.072058</td>\n",
              "      <td>0.021848</td>\n",
              "      <td>17.007137</td>\n",
              "      <td>42.498065</td>\n",
              "      <td>0.002991</td>\n",
              "      <td>0.151001</td>\n",
              "      <td>0.114126</td>\n",
              "      <td>1.230621</td>\n",
              "      <td>0.885639</td>\n",
              "    </tr>\n",
              "    <tr>\n",
              "      <th>min</th>\n",
              "      <td>3.800000</td>\n",
              "      <td>0.080000</td>\n",
              "      <td>0.000000</td>\n",
              "      <td>0.600000</td>\n",
              "      <td>0.009000</td>\n",
              "      <td>2.000000</td>\n",
              "      <td>9.000000</td>\n",
              "      <td>0.987110</td>\n",
              "      <td>2.720000</td>\n",
              "      <td>0.220000</td>\n",
              "      <td>8.000000</td>\n",
              "      <td>3.000000</td>\n",
              "    </tr>\n",
              "    <tr>\n",
              "      <th>25%</th>\n",
              "      <td>6.300000</td>\n",
              "      <td>0.210000</td>\n",
              "      <td>0.270000</td>\n",
              "      <td>1.700000</td>\n",
              "      <td>0.036000</td>\n",
              "      <td>23.000000</td>\n",
              "      <td>108.000000</td>\n",
              "      <td>0.991723</td>\n",
              "      <td>3.090000</td>\n",
              "      <td>0.410000</td>\n",
              "      <td>9.500000</td>\n",
              "      <td>5.000000</td>\n",
              "    </tr>\n",
              "    <tr>\n",
              "      <th>50%</th>\n",
              "      <td>6.800000</td>\n",
              "      <td>0.260000</td>\n",
              "      <td>0.320000</td>\n",
              "      <td>5.200000</td>\n",
              "      <td>0.043000</td>\n",
              "      <td>34.000000</td>\n",
              "      <td>134.000000</td>\n",
              "      <td>0.993740</td>\n",
              "      <td>3.180000</td>\n",
              "      <td>0.470000</td>\n",
              "      <td>10.400000</td>\n",
              "      <td>6.000000</td>\n",
              "    </tr>\n",
              "    <tr>\n",
              "      <th>75%</th>\n",
              "      <td>7.300000</td>\n",
              "      <td>0.320000</td>\n",
              "      <td>0.390000</td>\n",
              "      <td>9.900000</td>\n",
              "      <td>0.050000</td>\n",
              "      <td>46.000000</td>\n",
              "      <td>167.000000</td>\n",
              "      <td>0.996100</td>\n",
              "      <td>3.280000</td>\n",
              "      <td>0.550000</td>\n",
              "      <td>11.400000</td>\n",
              "      <td>6.000000</td>\n",
              "    </tr>\n",
              "    <tr>\n",
              "      <th>max</th>\n",
              "      <td>14.200000</td>\n",
              "      <td>1.100000</td>\n",
              "      <td>1.660000</td>\n",
              "      <td>65.800000</td>\n",
              "      <td>0.346000</td>\n",
              "      <td>289.000000</td>\n",
              "      <td>440.000000</td>\n",
              "      <td>1.038980</td>\n",
              "      <td>3.820000</td>\n",
              "      <td>1.080000</td>\n",
              "      <td>14.200000</td>\n",
              "      <td>9.000000</td>\n",
              "    </tr>\n",
              "  </tbody>\n",
              "</table>\n",
              "</div>"
            ],
            "text/plain": [
              "       fixed acidity  volatile acidity  ...      alcohol      quality\n",
              "count    4898.000000       4898.000000  ...  4898.000000  4898.000000\n",
              "mean        6.854788          0.278241  ...    10.514267     5.877909\n",
              "std         0.843868          0.100795  ...     1.230621     0.885639\n",
              "min         3.800000          0.080000  ...     8.000000     3.000000\n",
              "25%         6.300000          0.210000  ...     9.500000     5.000000\n",
              "50%         6.800000          0.260000  ...    10.400000     6.000000\n",
              "75%         7.300000          0.320000  ...    11.400000     6.000000\n",
              "max        14.200000          1.100000  ...    14.200000     9.000000\n",
              "\n",
              "[8 rows x 12 columns]"
            ]
          },
          "metadata": {},
          "execution_count": 7
        }
      ]
    },
    {
      "cell_type": "markdown",
      "metadata": {
        "id": "HLEfEoSxMTrm"
      },
      "source": [
        "##**Data analysis**\n",
        "\n",
        "**Histogram Charts for numerical variables**"
      ]
    },
    {
      "cell_type": "code",
      "metadata": {
        "colab": {
          "base_uri": "https://localhost:8080/",
          "height": 394
        },
        "id": "4nmONCvrMfkP",
        "outputId": "06bdda2e-0265-477c-ab09-a9a462b42653"
      },
      "source": [
        "sns.set(rc={'figure.figsize':(7,6)})\n",
        "sns.distplot(wine_white['quality'], kde= False,color= 'black')\n",
        "plt.show()"
      ],
      "execution_count": null,
      "outputs": [
        {
          "output_type": "display_data",
          "data": {
            "image/png": "[encoded data removed]",
            "text/plain": [
              "<Figure size 504x432 with 1 Axes>"
            ]
          },
          "metadata": {}
        }
      ]
    },
    {
      "cell_type": "markdown",
      "metadata": {
        "id": "__GrBwaFMtcV"
      },
      "source": [
        "**The Histogram Chart** confirms that the distribution of **quality** is almost normally skewed without a peak."
      ]
    },
    {
      "cell_type": "code",
      "metadata": {
        "colab": {
          "base_uri": "https://localhost:8080/",
          "height": 394
        },
        "id": "9fNxxoyNM-OP",
        "outputId": "be52e2fc-1261-4716-a374-8f8c4cf68235"
      },
      "source": [
        "sns.set(rc={'figure.figsize':(7,6)})\n",
        "sns.distplot(wine_white['citric acid'], kde= False,color= 'blue')\n",
        "plt.show()"
      ],
      "execution_count": null,
      "outputs": [
        {
          "output_type": "display_data",
          "data": {
            "image/png": "[encoded data removed]",
            "text/plain": [
              "<Figure size 504x432 with 1 Axes>"
            ]
          },
          "metadata": {}
        }
      ]
    },
    {
      "cell_type": "markdown",
      "metadata": {
        "id": "xQyaXMLYV-HQ"
      },
      "source": [
        "**The Histogram Chart** confirms that the distribution of **citric acid** is slightly skewed right with a peak."
      ]
    },
    {
      "cell_type": "code",
      "metadata": {
        "colab": {
          "base_uri": "https://localhost:8080/",
          "height": 394
        },
        "id": "yhhnrNiiNK_0",
        "outputId": "655e238a-ce6d-46fb-ebcb-bb55ffb184c3"
      },
      "source": [
        "sns.set(rc={'figure.figsize':(7,6)})\n",
        "sns.distplot(wine_white['free sulfur dioxide'], kde= False,color= 'red')\n",
        "plt.show()"
      ],
      "execution_count": null,
      "outputs": [
        {
          "output_type": "display_data",
          "data": {
            "image/png": "[encoded data removed]",
            "text/plain": [
              "<Figure size 504x432 with 1 Axes>"
            ]
          },
          "metadata": {}
        }
      ]
    },
    {
      "cell_type": "markdown",
      "metadata": {
        "id": "9X-FdRKHWa6l"
      },
      "source": [
        "**The Histogram Chart** confirms that the distribution of **free sulfur dioxide** is slightly skewed right without a peak."
      ]
    },
    {
      "cell_type": "code",
      "metadata": {
        "colab": {
          "base_uri": "https://localhost:8080/",
          "height": 394
        },
        "id": "7tWD3jumNSMn",
        "outputId": "1831669b-6cc4-4419-d1b7-a2a4ee2a8793"
      },
      "source": [
        "sns.set(rc={'figure.figsize':(7,6)})\n",
        "sns.distplot(wine_white['pH'], kde= False,color= 'green')\n",
        "plt.show()"
      ],
      "execution_count": null,
      "outputs": [
        {
          "output_type": "display_data",
          "data": {
            "image/png": "[encoded data removed]",
            "text/plain": [
              "<Figure size 504x432 with 1 Axes>"
            ]
          },
          "metadata": {}
        }
      ]
    },
    {
      "cell_type": "markdown",
      "metadata": {
        "id": "Oe28wkS2Van7"
      },
      "source": [
        "**The Histogram Chart** confirms that the distribution of **pH** is almost normally skewed with a peak."
      ]
    },
    {
      "cell_type": "code",
      "metadata": {
        "colab": {
          "base_uri": "https://localhost:8080/",
          "height": 394
        },
        "id": "QBgRLKW5NdJ0",
        "outputId": "f042f4d4-eca5-4d26-a1d7-1dcfdd0067b3"
      },
      "source": [
        "sns.set(rc={'figure.figsize':(7,6)})\n",
        "sns.distplot(wine_white['fixed acidity'], kde= False,color= 'yellow')\n",
        "plt.show()"
      ],
      "execution_count": null,
      "outputs": [
        {
          "output_type": "display_data",
          "data": {
            "image/png": "[encoded data removed]",
            "text/plain": [
              "<Figure size 504x432 with 1 Axes>"
            ]
          },
          "metadata": {}
        }
      ]
    },
    {
      "cell_type": "markdown",
      "metadata": {
        "id": "eLR-VWhNWnMd"
      },
      "source": [
        "**The Histogram Chart** confirms that the distribution of **fixed acidity** is slightly skewed right with a peak."
      ]
    },
    {
      "cell_type": "code",
      "metadata": {
        "colab": {
          "base_uri": "https://localhost:8080/",
          "height": 394
        },
        "id": "VPudGPd9Nk66",
        "outputId": "6342fdb7-7884-4306-972e-4010e9d6f079"
      },
      "source": [
        "sns.set(rc={'figure.figsize':(7,6)})\n",
        "sns.distplot(wine_white['residual sugar'], kde= False,color= 'purple')\n",
        "plt.show()"
      ],
      "execution_count": null,
      "outputs": [
        {
          "output_type": "display_data",
          "data": {
            "image/png": "[encoded data removed]",
            "text/plain": [
              "<Figure size 504x432 with 1 Axes>"
            ]
          },
          "metadata": {}
        }
      ]
    },
    {
      "cell_type": "markdown",
      "metadata": {
        "id": "QzXLH4dRWwwi"
      },
      "source": [
        "**The Histogram Chart** confirms that the distribution of **residual sugar** is slightly skewed left with a peak."
      ]
    },
    {
      "cell_type": "code",
      "metadata": {
        "colab": {
          "base_uri": "https://localhost:8080/",
          "height": 394
        },
        "id": "rFz_v4sDNs2p",
        "outputId": "49d59b17-497c-41c3-8b49-e996f3abf8dc"
      },
      "source": [
        "sns.set(rc={'figure.figsize':(7,6)})\n",
        "sns.distplot(wine_white['total sulfur dioxide'], kde= False,color= 'pink')\n",
        "plt.show()"
      ],
      "execution_count": null,
      "outputs": [
        {
          "output_type": "display_data",
          "data": {
            "image/png": "[encoded data removed]",
            "text/plain": [
              "<Figure size 504x432 with 1 Axes>"
            ]
          },
          "metadata": {}
        }
      ]
    },
    {
      "cell_type": "markdown",
      "metadata": {
        "id": "r1EARlouW4P2"
      },
      "source": [
        "**The Histogram Chart** confirms that the distribution of **total sulfur dioxide** is slightly skewed right with a peak."
      ]
    },
    {
      "cell_type": "code",
      "metadata": {
        "colab": {
          "base_uri": "https://localhost:8080/",
          "height": 394
        },
        "id": "BWe-wPQMN5Ay",
        "outputId": "57b9e2d2-1a2c-4510-f175-208b3f6031b8"
      },
      "source": [
        "sns.set(rc={'figure.figsize':(7,6)})\n",
        "sns.distplot(wine_white['sulphates'], kde= False,color= 'orange')\n",
        "plt.show()"
      ],
      "execution_count": null,
      "outputs": [
        {
          "output_type": "display_data",
          "data": {
            "image/png": "[encoded data removed]",
            "text/plain": [
              "<Figure size 504x432 with 1 Axes>"
            ]
          },
          "metadata": {}
        }
      ]
    },
    {
      "cell_type": "markdown",
      "metadata": {
        "id": "wo2LgyAmXEj0"
      },
      "source": [
        "**The Histogram Chart** confirms that the distribution of **sulphates** is slightly skewed left without a peak."
      ]
    },
    {
      "cell_type": "code",
      "metadata": {
        "colab": {
          "base_uri": "https://localhost:8080/",
          "height": 394
        },
        "id": "ICUo6LnbOLMB",
        "outputId": "42d5994c-a01c-4be1-ff10-94049d184428"
      },
      "source": [
        "sns.set(rc={'figure.figsize':(7,6)})\n",
        "sns.distplot(wine_white['volatile acidity'], kde= False,color= 'violet')\n",
        "plt.show()"
      ],
      "execution_count": null,
      "outputs": [
        {
          "output_type": "display_data",
          "data": {
            "image/png": "[encoded data removed]",
            "text/plain": [
              "<Figure size 504x432 with 1 Axes>"
            ]
          },
          "metadata": {}
        }
      ]
    },
    {
      "cell_type": "markdown",
      "metadata": {
        "id": "ib8-XmKXXVju"
      },
      "source": [
        "**The Histogram Chart** confirms that the distribution of **volatile acidity** is slightly skewed left without a peak."
      ]
    },
    {
      "cell_type": "code",
      "metadata": {
        "colab": {
          "base_uri": "https://localhost:8080/",
          "height": 394
        },
        "id": "7U1XjIdMOgDF",
        "outputId": "cb608389-0eea-4a65-c6ea-e2cd544064fd"
      },
      "source": [
        "sns.set(rc={'figure.figsize':(7,6)})\n",
        "sns.distplot(wine_white['chlorides'], kde= False,color= 'brown')\n",
        "plt.show()"
      ],
      "execution_count": null,
      "outputs": [
        {
          "output_type": "display_data",
          "data": {
            "image/png": "[encoded data removed]",
            "text/plain": [
              "<Figure size 504x432 with 1 Axes>"
            ]
          },
          "metadata": {}
        }
      ]
    },
    {
      "cell_type": "markdown",
      "metadata": {
        "id": "rkEGI__VXxIh"
      },
      "source": [
        "**The Histogram Chart** confirms that the distribution of **chlorides** is slightly skewed right without a peak."
      ]
    },
    {
      "cell_type": "code",
      "metadata": {
        "colab": {
          "base_uri": "https://localhost:8080/",
          "height": 394
        },
        "id": "Wc0Dm_dYOp7p",
        "outputId": "532ba566-ab98-4167-c60b-a750635f11b0"
      },
      "source": [
        "sns.set(rc={'figure.figsize':(7,6)})\n",
        "sns.distplot(wine_white['density'], kde= False,color= 'gray')\n",
        "plt.show()"
      ],
      "execution_count": null,
      "outputs": [
        {
          "output_type": "display_data",
          "data": {
            "image/png": "[encoded data removed]",
            "text/plain": [
              "<Figure size 504x432 with 1 Axes>"
            ]
          },
          "metadata": {}
        }
      ]
    },
    {
      "cell_type": "markdown",
      "metadata": {
        "id": "YhsR0FwTX6Wg"
      },
      "source": [
        "**The Histogram Chart** confirms that the distribution of **density** is slightly skewed right without a peak."
      ]
    },
    {
      "cell_type": "code",
      "metadata": {
        "colab": {
          "base_uri": "https://localhost:8080/",
          "height": 394
        },
        "id": "3Ul3g1DcOw84",
        "outputId": "b0331531-85cc-4531-dcc6-09716225d238"
      },
      "source": [
        "sns.set(rc={'figure.figsize':(7,6)})\n",
        "sns.distplot(wine_white['alcohol'], kde= False,color= 'gold')\n",
        "plt.show()"
      ],
      "execution_count": null,
      "outputs": [
        {
          "output_type": "display_data",
          "data": {
            "image/png": "[encoded data removed]",
            "text/plain": [
              "<Figure size 504x432 with 1 Axes>"
            ]
          },
          "metadata": {}
        }
      ]
    },
    {
      "cell_type": "markdown",
      "metadata": {
        "id": "P0ty4AkYYCia"
      },
      "source": [
        "**The Histogram Chart** confirms that the distribution of **alcohol** is slightly skewed right without a peak."
      ]
    },
    {
      "cell_type": "markdown",
      "metadata": {
        "id": "0R8Q3KM5PKaO"
      },
      "source": [
        "##**Box and violin Charts to checking for outliers in numerical variables**"
      ]
    },
    {
      "cell_type": "code",
      "metadata": {
        "colab": {
          "base_uri": "https://localhost:8080/",
          "height": 268
        },
        "id": "O4AuGIi3PSD1",
        "outputId": "524c48b2-c3e5-4b67-e811-4a5370ee400e"
      },
      "source": [
        "#checking for outliers in the quality column\n",
        "_, axes = plt.subplots(1, 2, sharey=True, figsize=(6, 4))\n",
        "sns.boxplot(data=wine_white['quality'], ax=axes[0]);\n",
        "sns.violinplot(data=wine_white['quality'], ax=axes[1]);"
      ],
      "execution_count": null,
      "outputs": [
        {
          "output_type": "display_data",
          "data": {
            "image/png": "[encoded data removed]",
            "text/plain": [
              "<Figure size 432x288 with 2 Axes>"
            ]
          },
          "metadata": {}
        }
      ]
    },
    {
      "cell_type": "markdown",
      "metadata": {
        "id": "l5wob83IYQwo"
      },
      "source": [
        "From box and violin plots one can see that most white wine has quality between 5 and 6. But there are few unique white wines having greater quality (over 9) than the rest or smaller quality (almost 3) than the rest. Additionally one can see that the violin plot does not contribute any additional information about the data as everything is clear from the box plot alone."
      ]
    },
    {
      "cell_type": "code",
      "metadata": {
        "colab": {
          "base_uri": "https://localhost:8080/",
          "height": 268
        },
        "id": "R0L-SErFPnl7",
        "outputId": "d2b2dee3-fc3d-42bc-9f45-6df04dd24872"
      },
      "source": [
        "#checking for outliers in the citric acid column\n",
        "_, axes = plt.subplots(1, 2, sharey=True, figsize=(6, 4))\n",
        "sns.boxplot(data=wine_white['citric acid'], ax=axes[0]);\n",
        "sns.violinplot(data=wine_white['citric acid'], ax=axes[1]);"
      ],
      "execution_count": null,
      "outputs": [
        {
          "output_type": "display_data",
          "data": {
            "image/png": "[encoded data removed]",
            "text/plain": [
              "<Figure size 432x288 with 2 Axes>"
            ]
          },
          "metadata": {}
        }
      ]
    },
    {
      "cell_type": "markdown",
      "metadata": {
        "id": "LLnIN5QxZBRs"
      },
      "source": [
        "From box and violin plots one can see that most white wines have critic acid between 0.25 and 0.40. But there are few unique white wines having greater amount of citric acid (almost 1.75) than the rest or smaller amount of critic acid (near 0.00) than the rest. Additionally one can see that the violin plot does not contribute any additional information about the data as everything is clear from the box plot alone."
      ]
    },
    {
      "cell_type": "code",
      "metadata": {
        "colab": {
          "base_uri": "https://localhost:8080/",
          "height": 268
        },
        "id": "Dx2uTMGIPvYc",
        "outputId": "ca63530f-0396-4c6c-a734-d24978c6d632"
      },
      "source": [
        "#checking for outliers in the free sulfur dioxide column\n",
        "_, axes = plt.subplots(1, 2, sharey=True, figsize=(6, 4))\n",
        "sns.boxplot(data=wine_white['free sulfur dioxide'], ax=axes[0]);\n",
        "sns.violinplot(data=wine_white['free sulfur dioxide'], ax=axes[1]);"
      ],
      "execution_count": null,
      "outputs": [
        {
          "output_type": "display_data",
          "data": {
            "image/png": "[encoded data removed]",
            "text/plain": [
              "<Figure size 432x288 with 2 Axes>"
            ]
          },
          "metadata": {}
        }
      ]
    },
    {
      "cell_type": "markdown",
      "metadata": {
        "id": "tWbFob8TZy5D"
      },
      "source": [
        "From box and violin plots one can see that most white wines have free sulfur dioxide between 25 and 50. But there are few unique white wines having greater amount of free sulfur dioxide than the rest. Additionally one can see that the violin plot does not contribute any additional information about the data as everything is clear from the box plot alone."
      ]
    },
    {
      "cell_type": "code",
      "metadata": {
        "colab": {
          "base_uri": "https://localhost:8080/",
          "height": 268
        },
        "id": "5O36_xHZP2tI",
        "outputId": "11646690-4b3e-4bf4-ca9f-b15686583eac"
      },
      "source": [
        "#checking for outliers in the pH column\n",
        "_, axes = plt.subplots(1, 2, sharey=True, figsize=(6, 4))\n",
        "sns.boxplot(data=wine_white['pH'], ax=axes[0]);\n",
        "sns.violinplot(data=wine_white['pH'], ax=axes[1]);"
      ],
      "execution_count": null,
      "outputs": [
        {
          "output_type": "display_data",
          "data": {
            "image/png": "[encoded data removed]",
            "text/plain": [
              "<Figure size 432x288 with 2 Axes>"
            ]
          },
          "metadata": {}
        }
      ]
    },
    {
      "cell_type": "markdown",
      "metadata": {
        "id": "pUow71c5ad-p"
      },
      "source": [
        "From box and violin plots one can see that most white wines have pH between 3.1 and 3.3. But there are few unique white wines having greater pH than the rest or smaller pH than the rest. Additionally one can see that the violin plot does not contribute any additional information about the data as everything is clear from the box plot alone."
      ]
    },
    {
      "cell_type": "code",
      "metadata": {
        "colab": {
          "base_uri": "https://localhost:8080/",
          "height": 268
        },
        "id": "eKbwJLg8P_OT",
        "outputId": "6d57fa6e-4c40-43d6-fe62-600f668aa73c"
      },
      "source": [
        "#checking for outliers in the fixed acidity  column\n",
        "_, axes = plt.subplots(1, 2, sharey=True, figsize=(6, 4))\n",
        "sns.boxplot(data=wine_white['fixed acidity'], ax=axes[0]);\n",
        "sns.violinplot(data=wine_white['fixed acidity'], ax=axes[1]);"
      ],
      "execution_count": null,
      "outputs": [
        {
          "output_type": "display_data",
          "data": {
            "image/png": "[encoded data removed]",
            "text/plain": [
              "<Figure size 432x288 with 2 Axes>"
            ]
          },
          "metadata": {}
        }
      ]
    },
    {
      "cell_type": "markdown",
      "metadata": {
        "id": "F_kyAMI4bYvU"
      },
      "source": [
        "From box and violin plots one can see that most white wines have fixed acidity between 6.1 and 7.7. But there are few unique white wines having greater amount of fixed acidity than the rest or smaller amount of fixed acidity than the rest. Additionally one can see that the violin plot does not contribute any additional information about the data as everything is clear from the box plot alone."
      ]
    },
    {
      "cell_type": "code",
      "metadata": {
        "colab": {
          "base_uri": "https://localhost:8080/",
          "height": 269
        },
        "id": "bs7CpemMQHCk",
        "outputId": "fa749633-fff0-4f82-c334-0316427742ff"
      },
      "source": [
        "#checking for outliers in the residual sugar column\n",
        "_, axes = plt.subplots(1, 2, sharey=True, figsize=(6, 4))\n",
        "sns.boxplot(data=wine_white['residual sugar'], ax=axes[0]);\n",
        "sns.violinplot(data=wine_white['residual sugar'], ax=axes[1]);"
      ],
      "execution_count": null,
      "outputs": [
        {
          "output_type": "display_data",
          "data": {
            "image/png": "[encoded data removed]",
            "text/plain": [
              "<Figure size 432x288 with 2 Axes>"
            ]
          },
          "metadata": {}
        }
      ]
    },
    {
      "cell_type": "markdown",
      "metadata": {
        "id": "4Y1pFRAWby27"
      },
      "source": [
        "From box and violin plots one can see that most white wines have residual sugar between 1 and 10. But there are few unique white wines having greater amount of residual sugar than the rest. Additionally one can see that the violin plot does not contribute any additional information about the data as everything is clear from the box plot alone."
      ]
    },
    {
      "cell_type": "code",
      "metadata": {
        "colab": {
          "base_uri": "https://localhost:8080/",
          "height": 268
        },
        "id": "DBI20vg4QZDO",
        "outputId": "74401e7a-2184-4196-e9a1-1649b727dcb2"
      },
      "source": [
        "#checking for outliers in the total sulfur dioxide column\n",
        "_, axes = plt.subplots(1, 2, sharey=True, figsize=(6, 4))\n",
        "sns.boxplot(data=wine_white['total sulfur dioxide'], ax=axes[0]);\n",
        "sns.violinplot(data=wine_white['total sulfur dioxide'], ax=axes[1]);"
      ],
      "execution_count": null,
      "outputs": [
        {
          "output_type": "display_data",
          "data": {
            "image/png": "[encoded data removed]",
            "text/plain": [
              "<Figure size 432x288 with 2 Axes>"
            ]
          },
          "metadata": {}
        }
      ]
    },
    {
      "cell_type": "markdown",
      "metadata": {
        "id": "w9fQg9hbcCQu"
      },
      "source": [
        "From box and violin plots one can see that most white wines have total sulfur dioxide between 110 and 180. But there are few unique white wines having greater amount of total sulfur dioxide than the rest or smaller amount of total sulfur dioxide than the rest. Additionally one can see that the violin plot does not contribute any additional information about the data as everything is clear from the box plot alone."
      ]
    },
    {
      "cell_type": "code",
      "metadata": {
        "colab": {
          "base_uri": "https://localhost:8080/",
          "height": 268
        },
        "id": "FBLL0jKoQgtC",
        "outputId": "6c20d521-b420-40ad-fe55-105d61890b31"
      },
      "source": [
        "#checking for outliers in the sulphates column\n",
        "_, axes = plt.subplots(1, 2, sharey=True, figsize=(6, 4))\n",
        "sns.boxplot(data=wine_white['sulphates'], ax=axes[0]);\n",
        "sns.violinplot(data=wine_white['sulphates'], ax=axes[1]);"
      ],
      "execution_count": null,
      "outputs": [
        {
          "output_type": "display_data",
          "data": {
            "image/png": "[encoded data removed]",
            "text/plain": [
              "<Figure size 432x288 with 2 Axes>"
            ]
          },
          "metadata": {}
        }
      ]
    },
    {
      "cell_type": "markdown",
      "metadata": {
        "id": "JzyoQUimcSWU"
      },
      "source": [
        "From box and violin plots one can see that most white wines have sulphates between 0.41 and 0.57. But there are few unique white wines having greater amount of sulphates than the rest. Additionally one can see that the violin plot does not contribute any additional information about the data as everything is clear from the box plot alone."
      ]
    },
    {
      "cell_type": "code",
      "metadata": {
        "colab": {
          "base_uri": "https://localhost:8080/",
          "height": 268
        },
        "id": "chiaQlmrQpkh",
        "outputId": "cd258d4b-f3ca-4c9d-f0e8-28a5d7ef3965"
      },
      "source": [
        "#checking for outliers in the volatile acidity column\n",
        "_, axes = plt.subplots(1, 2, sharey=True, figsize=(6, 4))\n",
        "sns.boxplot(data=wine_white['volatile acidity'], ax=axes[0]);\n",
        "sns.violinplot(data=wine_white['volatile acidity'], ax=axes[1]);"
      ],
      "execution_count": null,
      "outputs": [
        {
          "output_type": "display_data",
          "data": {
            "image/png": "[encoded data removed]",
            "text/plain": [
              "<Figure size 432x288 with 2 Axes>"
            ]
          },
          "metadata": {}
        }
      ]
    },
    {
      "cell_type": "markdown",
      "metadata": {
        "id": "mVGXqGTlcgcn"
      },
      "source": [
        "From box and violin plots one can see that most white wines have volatile acidity between 0.21 and 0.37. But there are few unique white wines having greater amount of volatile acidity than the rest. Additionally one can see that the violin plot does not contribute any additional information about the data as everything is clear from the box plot alone."
      ]
    },
    {
      "cell_type": "code",
      "metadata": {
        "colab": {
          "base_uri": "https://localhost:8080/",
          "height": 268
        },
        "id": "1kxOWCaEQzZ4",
        "outputId": "7a1f2836-4e1a-463b-eda1-ea5b2b4bf4fb"
      },
      "source": [
        "#checking for outliers in the chlorides column\n",
        "_, axes = plt.subplots(1, 2, sharey=True, figsize=(6, 4))\n",
        "sns.boxplot(data=wine_white['chlorides'], ax=axes[0]);\n",
        "sns.violinplot(data=wine_white['chlorides'], ax=axes[1]);"
      ],
      "execution_count": null,
      "outputs": [
        {
          "output_type": "display_data",
          "data": {
            "image/png": "[encoded data removed]",
            "text/plain": [
              "<Figure size 432x288 with 2 Axes>"
            ]
          },
          "metadata": {}
        }
      ]
    },
    {
      "cell_type": "markdown",
      "metadata": {
        "id": "uDS-ggxkcuH0"
      },
      "source": [
        "From box and violin plots one can see that most white wines have chlorides between 0.04 and 0.05. But there are few unique white wines having greater amount of chlorides than the rest or smaller amount of chlorides than the rest. Additionally one can see that the violin plot does not contribute any additional information about the data as everything is clear from the box plot alone."
      ]
    },
    {
      "cell_type": "code",
      "metadata": {
        "colab": {
          "base_uri": "https://localhost:8080/",
          "height": 268
        },
        "id": "y-K2QShgQ6si",
        "outputId": "de937d9e-9538-429d-f387-db98b7fcd07b"
      },
      "source": [
        "#checking for outliers in the density column\n",
        "_, axes = plt.subplots(1, 2, sharey=True, figsize=(6, 4))\n",
        "sns.boxplot(data=wine_white['density'], ax=axes[0]);\n",
        "sns.violinplot(data=wine_white['density'], ax=axes[1]);"
      ],
      "execution_count": null,
      "outputs": [
        {
          "output_type": "display_data",
          "data": {
            "image/png": "[encoded data removed]",
            "text/plain": [
              "<Figure size 432x288 with 2 Axes>"
            ]
          },
          "metadata": {}
        }
      ]
    },
    {
      "cell_type": "markdown",
      "metadata": {
        "id": "T9nhxlCEc-mI"
      },
      "source": [
        "From box and violin plots one can see that most white wines have density between 0.992 and 0.997. But there are few unique white wines having greater density than the rest. Additionally one can see that the violin plot does not contribute any additional information about the data as everything is clear from the box plot alone."
      ]
    },
    {
      "cell_type": "code",
      "metadata": {
        "colab": {
          "base_uri": "https://localhost:8080/",
          "height": 272
        },
        "id": "UFRd5MXsRBhF",
        "outputId": "4de50fc5-e7dd-4d7a-a9f4-f023ad905827"
      },
      "source": [
        "#checking for outliers in the alcohol column\n",
        "_, axes = plt.subplots(1, 2, sharey=True, figsize=(6, 4))\n",
        "sns.boxplot(data=wine_white['alcohol'], ax=axes[0]);\n",
        "sns.violinplot(data=wine_white['alcohol'], ax=axes[1]);"
      ],
      "execution_count": null,
      "outputs": [
        {
          "output_type": "display_data",
          "data": {
            "image/png": "[encoded data removed]",
            "text/plain": [
              "<Figure size 432x288 with 2 Axes>"
            ]
          },
          "metadata": {}
        }
      ]
    },
    {
      "cell_type": "markdown",
      "metadata": {
        "id": "1bUZyA3ddLaJ"
      },
      "source": [
        "From box and violin plots one can see that most white wines have alcohol between 9.5 and 11.5. But there are few unique white wines having greater amount of alcohol than the rest. Additionally one can see that the violin plot does not contribute any additional information about the data as everything is clear from the box plot alone."
      ]
    },
    {
      "cell_type": "markdown",
      "metadata": {
        "id": "7gVhbngbPfiD"
      },
      "source": [
        "Since 'quality' is my target variable in the next part I will plot a boxplot each column against 'quality' variable."
      ]
    },
    {
      "cell_type": "code",
      "metadata": {
        "id": "9P2SkQClP2yc",
        "colab": {
          "base_uri": "https://localhost:8080/",
          "height": 394
        },
        "outputId": "736add15-2ab2-4b51-b7c3-aa4b379fea28"
      },
      "source": [
        "sns.boxplot('quality', 'fixed acidity', data = wine_white);"
      ],
      "execution_count": null,
      "outputs": [
        {
          "output_type": "display_data",
          "data": {
            "image/png": "[encoded data removed]",
            "text/plain": [
              "<Figure size 504x432 with 1 Axes>"
            ]
          },
          "metadata": {}
        }
      ]
    },
    {
      "cell_type": "code",
      "metadata": {
        "id": "m0XTIIhsP-sV",
        "colab": {
          "base_uri": "https://localhost:8080/",
          "height": 394
        },
        "outputId": "895e7f54-dce7-427f-e305-1c050e8b8362"
      },
      "source": [
        "sns.boxplot('quality', 'volatile acidity', data = wine_white);"
      ],
      "execution_count": null,
      "outputs": [
        {
          "output_type": "display_data",
          "data": {
            "image/png": "[encoded data removed]",
            "text/plain": [
              "<Figure size 504x432 with 1 Axes>"
            ]
          },
          "metadata": {}
        }
      ]
    },
    {
      "cell_type": "code",
      "metadata": {
        "id": "TayfFalQQEX_",
        "colab": {
          "base_uri": "https://localhost:8080/",
          "height": 394
        },
        "outputId": "5a03e351-a22a-4ed3-fdb9-f802d7ce7dc9"
      },
      "source": [
        "sns.boxplot('quality', 'citric acid', data = wine_white);"
      ],
      "execution_count": null,
      "outputs": [
        {
          "output_type": "display_data",
          "data": {
            "image/png": "[encoded data removed]",
            "text/plain": [
              "<Figure size 504x432 with 1 Axes>"
            ]
          },
          "metadata": {}
        }
      ]
    },
    {
      "cell_type": "code",
      "metadata": {
        "id": "hj_zxBISQJV4",
        "colab": {
          "base_uri": "https://localhost:8080/",
          "height": 394
        },
        "outputId": "4fa512b6-5fa7-4dd0-a386-dbc18df0f681"
      },
      "source": [
        "sns.boxplot('quality', 'residual sugar', data = wine_white);"
      ],
      "execution_count": null,
      "outputs": [
        {
          "output_type": "display_data",
          "data": {
            "image/png": "[encoded data removed]",
            "text/plain": [
              "<Figure size 504x432 with 1 Axes>"
            ]
          },
          "metadata": {}
        }
      ]
    },
    {
      "cell_type": "code",
      "metadata": {
        "id": "k8nBeUNyQQQO",
        "colab": {
          "base_uri": "https://localhost:8080/",
          "height": 394
        },
        "outputId": "458a7cb6-651b-4006-acf6-81cc42219da9"
      },
      "source": [
        "sns.boxplot('quality', 'chlorides', data = wine_white);"
      ],
      "execution_count": null,
      "outputs": [
        {
          "output_type": "display_data",
          "data": {
            "image/png": "[encoded data removed]",
            "text/plain": [
              "<Figure size 504x432 with 1 Axes>"
            ]
          },
          "metadata": {}
        }
      ]
    },
    {
      "cell_type": "code",
      "metadata": {
        "id": "jQbm42CpQXEw",
        "colab": {
          "base_uri": "https://localhost:8080/",
          "height": 394
        },
        "outputId": "aa650937-a451-48c3-fc19-27c13ce21efa"
      },
      "source": [
        "sns.boxplot('quality', 'free sulfur dioxide', data = wine_white);"
      ],
      "execution_count": null,
      "outputs": [
        {
          "output_type": "display_data",
          "data": {
            "image/png": "[encoded data removed]",
            "text/plain": [
              "<Figure size 504x432 with 1 Axes>"
            ]
          },
          "metadata": {}
        }
      ]
    },
    {
      "cell_type": "code",
      "metadata": {
        "id": "IhkpL_T7QbsO",
        "colab": {
          "base_uri": "https://localhost:8080/",
          "height": 394
        },
        "outputId": "8271ff59-9398-4be0-8ac0-60383cc21c1b"
      },
      "source": [
        "sns.boxplot('quality', 'total sulfur dioxide', data = wine_white);"
      ],
      "execution_count": null,
      "outputs": [
        {
          "output_type": "display_data",
          "data": {
            "image/png": "[encoded data removed]",
            "text/plain": [
              "<Figure size 504x432 with 1 Axes>"
            ]
          },
          "metadata": {}
        }
      ]
    },
    {
      "cell_type": "code",
      "metadata": {
        "id": "k0cOuVrzQgC-",
        "colab": {
          "base_uri": "https://localhost:8080/",
          "height": 394
        },
        "outputId": "d6446cdb-a961-4fa9-960b-e0c18a5be83a"
      },
      "source": [
        "sns.boxplot('quality', 'density', data = wine_white);"
      ],
      "execution_count": null,
      "outputs": [
        {
          "output_type": "display_data",
          "data": {
            "image/png": "[encoded data removed]",
            "text/plain": [
              "<Figure size 504x432 with 1 Axes>"
            ]
          },
          "metadata": {}
        }
      ]
    },
    {
      "cell_type": "code",
      "metadata": {
        "id": "Zbv575alQlzp",
        "colab": {
          "base_uri": "https://localhost:8080/",
          "height": 394
        },
        "outputId": "bd8f95a0-1845-4420-80c5-84e0e1807f41"
      },
      "source": [
        "sns.boxplot('quality', 'pH', data = wine_white);"
      ],
      "execution_count": null,
      "outputs": [
        {
          "output_type": "display_data",
          "data": {
            "image/png": "[encoded data removed]",
            "text/plain": [
              "<Figure size 504x432 with 1 Axes>"
            ]
          },
          "metadata": {}
        }
      ]
    },
    {
      "cell_type": "code",
      "metadata": {
        "id": "aWeNEpRMQqFO",
        "colab": {
          "base_uri": "https://localhost:8080/",
          "height": 394
        },
        "outputId": "72588edb-7544-4e60-9c31-90350add5af4"
      },
      "source": [
        "sns.boxplot('quality', 'sulphates', data = wine_white);"
      ],
      "execution_count": null,
      "outputs": [
        {
          "output_type": "display_data",
          "data": {
            "image/png": "[encoded data removed]",
            "text/plain": [
              "<Figure size 504x432 with 1 Axes>"
            ]
          },
          "metadata": {}
        }
      ]
    },
    {
      "cell_type": "code",
      "metadata": {
        "id": "3wBfrS59Qvj0",
        "colab": {
          "base_uri": "https://localhost:8080/",
          "height": 394
        },
        "outputId": "f7a8fdca-ee6d-436c-f2b2-abfaa1f77bcc"
      },
      "source": [
        "sns.boxplot('quality', 'alcohol', data = wine_white);"
      ],
      "execution_count": null,
      "outputs": [
        {
          "output_type": "display_data",
          "data": {
            "image/png": "[encoded data removed]",
            "text/plain": [
              "<Figure size 504x432 with 1 Axes>"
            ]
          },
          "metadata": {}
        }
      ]
    },
    {
      "cell_type": "markdown",
      "metadata": {
        "id": "0trtPGJ1RAFG"
      },
      "source": [
        "One can see that boxplots show many outliers for quite a few columns. By virtue 'Describe' function that I have used previously I got a better idea on what's happening:\n",
        "- fixed acidity - 25% - 7.1 and 50% - 7.9. Not much of a variance. Could explain the huge number of outliers;\n",
        "- volatile acididty - similar reasoning;\n",
        "- citric acid - seems to be somewhat uniformly distributed;\n",
        "- residual sugar - min - 0.9, max - 15!! It is too much difference. Could explain the outliers;\n",
        "- chlorides - same as residual sugar. Min - 0.012, max - 0.611;\n",
        "- free sulfur dioxide, total suflur dioxide - the same explanation as above."
      ]
    },
    {
      "cell_type": "markdown",
      "metadata": {
        "id": "ckiEdd9g3eYT"
      },
      "source": [
        "To remove outliers which may infuence on data analysis I will use Tukey's Method for identfying them. This way an outlier is calculated as 1.5 times the interquartile range (IQR)."
      ]
    },
    {
      "cell_type": "code",
      "metadata": {
        "id": "BcwEgmVdRD7E",
        "colab": {
          "base_uri": "https://localhost:8080/",
          "height": 1000
        },
        "outputId": "798de9f9-2b9b-4439-fb7d-fd5e83802f40"
      },
      "source": [
        "# For each feature we find the data points with extreme high or low values\n",
        "for feature in wine_white.keys():\n",
        "\n",
        "    # Calculate Q1 (25th percentile of the data) for the given feature\n",
        "    Q1 = np.percentile(wine_white[feature], q=25)\n",
        "\n",
        "    # Calculate Q3 (75th percentile of the data) for the given feature\n",
        "    Q3 = np.percentile(wine_white[feature], q=75)\n",
        "\n",
        "    # Use the interquartile range to calculate an outlier step (1.5 times the interquartile range)\n",
        "    IQR = Q3 - Q1\n",
        "    step = 1.5 * IQR\n",
        "\n",
        "    # Display the outliers\n",
        "    print(\"Data points considered outliers for the feature '{}':\".format(feature))\n",
        "    display(wine_white[~((wine_white[feature] >= Q1 - step) & (wine_white[feature] <= Q3 + step))])\n",
        "\n",
        "# Select the indices for data points you wish to remove\n",
        "outliers  = []\n",
        "\n",
        "# Remove the outliers, if any were specified\n",
        "good_wine_white = wine_white.drop(wine_white.index[outliers]).reset_index(drop = True)"
      ],
      "execution_count": null,
      "outputs": [
        {
          "output_type": "stream",
          "name": "stdout",
          "text": [
            "Data points considered outliers for the feature 'fixed acidity':\n"
          ]
        },
        {
          "output_type": "display_data",
          "data": {
            "text/html": [
              "<div>\n",
              "<style scoped>\n",
              "    .dataframe tbody tr th:only-of-type {\n",
              "        vertical-align: middle;\n",
              "    }\n",
              "\n",
              "    .dataframe tbody tr th {\n",
              "        vertical-align: top;\n",
              "    }\n",
              "\n",
              "    .dataframe thead th {\n",
              "        text-align: right;\n",
              "    }\n",
              "</style>\n",
              "<table border=\"1\" class=\"dataframe\">\n",
              "  <thead>\n",
              "    <tr style=\"text-align: right;\">\n",
              "      <th></th>\n",
              "      <th>fixed acidity</th>\n",
              "      <th>volatile acidity</th>\n",
              "      <th>citric acid</th>\n",
              "      <th>residual sugar</th>\n",
              "      <th>chlorides</th>\n",
              "      <th>free sulfur dioxide</th>\n",
              "      <th>total sulfur dioxide</th>\n",
              "      <th>density</th>\n",
              "      <th>pH</th>\n",
              "      <th>sulphates</th>\n",
              "      <th>alcohol</th>\n",
              "      <th>quality</th>\n",
              "    </tr>\n",
              "  </thead>\n",
              "  <tbody>\n",
              "    <tr>\n",
              "      <th>98</th>\n",
              "      <td>9.8</td>\n",
              "      <td>0.360</td>\n",
              "      <td>0.46</td>\n",
              "      <td>10.50</td>\n",
              "      <td>0.038</td>\n",
              "      <td>4.0</td>\n",
              "      <td>83.0</td>\n",
              "      <td>0.99560</td>\n",
              "      <td>2.89</td>\n",
              "      <td>0.30</td>\n",
              "      <td>10.1</td>\n",
              "      <td>4</td>\n",
              "    </tr>\n",
              "    <tr>\n",
              "      <th>169</th>\n",
              "      <td>9.8</td>\n",
              "      <td>0.420</td>\n",
              "      <td>0.48</td>\n",
              "      <td>9.85</td>\n",
              "      <td>0.034</td>\n",
              "      <td>5.0</td>\n",
              "      <td>110.0</td>\n",
              "      <td>0.99580</td>\n",
              "      <td>2.87</td>\n",
              "      <td>0.29</td>\n",
              "      <td>10.0</td>\n",
              "      <td>5</td>\n",
              "    </tr>\n",
              "    <tr>\n",
              "      <th>207</th>\n",
              "      <td>10.2</td>\n",
              "      <td>0.440</td>\n",
              "      <td>0.88</td>\n",
              "      <td>6.20</td>\n",
              "      <td>0.049</td>\n",
              "      <td>20.0</td>\n",
              "      <td>124.0</td>\n",
              "      <td>0.99680</td>\n",
              "      <td>2.99</td>\n",
              "      <td>0.51</td>\n",
              "      <td>9.9</td>\n",
              "      <td>4</td>\n",
              "    </tr>\n",
              "    <tr>\n",
              "      <th>294</th>\n",
              "      <td>9.1</td>\n",
              "      <td>0.590</td>\n",
              "      <td>0.38</td>\n",
              "      <td>1.60</td>\n",
              "      <td>0.066</td>\n",
              "      <td>34.0</td>\n",
              "      <td>182.0</td>\n",
              "      <td>0.99680</td>\n",
              "      <td>3.23</td>\n",
              "      <td>0.38</td>\n",
              "      <td>8.5</td>\n",
              "      <td>3</td>\n",
              "    </tr>\n",
              "    <tr>\n",
              "      <th>358</th>\n",
              "      <td>10.0</td>\n",
              "      <td>0.200</td>\n",
              "      <td>0.39</td>\n",
              "      <td>1.40</td>\n",
              "      <td>0.050</td>\n",
              "      <td>19.0</td>\n",
              "      <td>152.0</td>\n",
              "      <td>0.99400</td>\n",
              "      <td>3.00</td>\n",
              "      <td>0.42</td>\n",
              "      <td>10.4</td>\n",
              "      <td>6</td>\n",
              "    </tr>\n",
              "    <tr>\n",
              "      <th>...</th>\n",
              "      <td>...</td>\n",
              "      <td>...</td>\n",
              "      <td>...</td>\n",
              "      <td>...</td>\n",
              "      <td>...</td>\n",
              "      <td>...</td>\n",
              "      <td>...</td>\n",
              "      <td>...</td>\n",
              "      <td>...</td>\n",
              "      <td>...</td>\n",
              "      <td>...</td>\n",
              "      <td>...</td>\n",
              "    </tr>\n",
              "    <tr>\n",
              "      <th>4679</th>\n",
              "      <td>4.7</td>\n",
              "      <td>0.335</td>\n",
              "      <td>0.14</td>\n",
              "      <td>1.30</td>\n",
              "      <td>0.036</td>\n",
              "      <td>69.0</td>\n",
              "      <td>168.0</td>\n",
              "      <td>0.99212</td>\n",
              "      <td>3.47</td>\n",
              "      <td>0.46</td>\n",
              "      <td>10.5</td>\n",
              "      <td>5</td>\n",
              "    </tr>\n",
              "    <tr>\n",
              "      <th>4786</th>\n",
              "      <td>4.4</td>\n",
              "      <td>0.320</td>\n",
              "      <td>0.39</td>\n",
              "      <td>4.30</td>\n",
              "      <td>0.030</td>\n",
              "      <td>31.0</td>\n",
              "      <td>127.0</td>\n",
              "      <td>0.98904</td>\n",
              "      <td>3.46</td>\n",
              "      <td>0.36</td>\n",
              "      <td>12.8</td>\n",
              "      <td>8</td>\n",
              "    </tr>\n",
              "    <tr>\n",
              "      <th>4787</th>\n",
              "      <td>3.9</td>\n",
              "      <td>0.225</td>\n",
              "      <td>0.40</td>\n",
              "      <td>4.20</td>\n",
              "      <td>0.030</td>\n",
              "      <td>29.0</td>\n",
              "      <td>118.0</td>\n",
              "      <td>0.98900</td>\n",
              "      <td>3.57</td>\n",
              "      <td>0.36</td>\n",
              "      <td>12.8</td>\n",
              "      <td>8</td>\n",
              "    </tr>\n",
              "    <tr>\n",
              "      <th>4792</th>\n",
              "      <td>4.7</td>\n",
              "      <td>0.785</td>\n",
              "      <td>0.00</td>\n",
              "      <td>3.40</td>\n",
              "      <td>0.036</td>\n",
              "      <td>23.0</td>\n",
              "      <td>134.0</td>\n",
              "      <td>0.98981</td>\n",
              "      <td>3.53</td>\n",
              "      <td>0.92</td>\n",
              "      <td>13.8</td>\n",
              "      <td>6</td>\n",
              "    </tr>\n",
              "    <tr>\n",
              "      <th>4847</th>\n",
              "      <td>4.4</td>\n",
              "      <td>0.540</td>\n",
              "      <td>0.09</td>\n",
              "      <td>5.10</td>\n",
              "      <td>0.038</td>\n",
              "      <td>52.0</td>\n",
              "      <td>97.0</td>\n",
              "      <td>0.99022</td>\n",
              "      <td>3.41</td>\n",
              "      <td>0.40</td>\n",
              "      <td>12.2</td>\n",
              "      <td>7</td>\n",
              "    </tr>\n",
              "  </tbody>\n",
              "</table>\n",
              "<p>119 rows × 12 columns</p>\n",
              "</div>"
            ],
            "text/plain": [
              "      fixed acidity  volatile acidity  citric acid  ...  sulphates  alcohol  quality\n",
              "98              9.8             0.360         0.46  ...       0.30     10.1        4\n",
              "169             9.8             0.420         0.48  ...       0.29     10.0        5\n",
              "207            10.2             0.440         0.88  ...       0.51      9.9        4\n",
              "294             9.1             0.590         0.38  ...       0.38      8.5        3\n",
              "358            10.0             0.200         0.39  ...       0.42     10.4        6\n",
              "...             ...               ...          ...  ...        ...      ...      ...\n",
              "4679            4.7             0.335         0.14  ...       0.46     10.5        5\n",
              "4786            4.4             0.320         0.39  ...       0.36     12.8        8\n",
              "4787            3.9             0.225         0.40  ...       0.36     12.8        8\n",
              "4792            4.7             0.785         0.00  ...       0.92     13.8        6\n",
              "4847            4.4             0.540         0.09  ...       0.40     12.2        7\n",
              "\n",
              "[119 rows x 12 columns]"
            ]
          },
          "metadata": {}
        },
        {
          "output_type": "stream",
          "name": "stdout",
          "text": [
            "Data points considered outliers for the feature 'volatile acidity':\n"
          ]
        },
        {
          "output_type": "display_data",
          "data": {
            "text/html": [
              "<div>\n",
              "<style scoped>\n",
              "    .dataframe tbody tr th:only-of-type {\n",
              "        vertical-align: middle;\n",
              "    }\n",
              "\n",
              "    .dataframe tbody tr th {\n",
              "        vertical-align: top;\n",
              "    }\n",
              "\n",
              "    .dataframe thead th {\n",
              "        text-align: right;\n",
              "    }\n",
              "</style>\n",
              "<table border=\"1\" class=\"dataframe\">\n",
              "  <thead>\n",
              "    <tr style=\"text-align: right;\">\n",
              "      <th></th>\n",
              "      <th>fixed acidity</th>\n",
              "      <th>volatile acidity</th>\n",
              "      <th>citric acid</th>\n",
              "      <th>residual sugar</th>\n",
              "      <th>chlorides</th>\n",
              "      <th>free sulfur dioxide</th>\n",
              "      <th>total sulfur dioxide</th>\n",
              "      <th>density</th>\n",
              "      <th>pH</th>\n",
              "      <th>sulphates</th>\n",
              "      <th>alcohol</th>\n",
              "      <th>quality</th>\n",
              "    </tr>\n",
              "  </thead>\n",
              "  <tbody>\n",
              "    <tr>\n",
              "      <th>17</th>\n",
              "      <td>6.2</td>\n",
              "      <td>0.660</td>\n",
              "      <td>0.48</td>\n",
              "      <td>1.2</td>\n",
              "      <td>0.029</td>\n",
              "      <td>29.0</td>\n",
              "      <td>75.0</td>\n",
              "      <td>0.98920</td>\n",
              "      <td>3.33</td>\n",
              "      <td>0.39</td>\n",
              "      <td>12.8</td>\n",
              "      <td>8</td>\n",
              "    </tr>\n",
              "    <tr>\n",
              "      <th>20</th>\n",
              "      <td>6.2</td>\n",
              "      <td>0.660</td>\n",
              "      <td>0.48</td>\n",
              "      <td>1.2</td>\n",
              "      <td>0.029</td>\n",
              "      <td>29.0</td>\n",
              "      <td>75.0</td>\n",
              "      <td>0.98920</td>\n",
              "      <td>3.33</td>\n",
              "      <td>0.39</td>\n",
              "      <td>12.8</td>\n",
              "      <td>8</td>\n",
              "    </tr>\n",
              "    <tr>\n",
              "      <th>23</th>\n",
              "      <td>7.6</td>\n",
              "      <td>0.670</td>\n",
              "      <td>0.14</td>\n",
              "      <td>1.5</td>\n",
              "      <td>0.074</td>\n",
              "      <td>25.0</td>\n",
              "      <td>168.0</td>\n",
              "      <td>0.99370</td>\n",
              "      <td>3.05</td>\n",
              "      <td>0.51</td>\n",
              "      <td>9.3</td>\n",
              "      <td>5</td>\n",
              "    </tr>\n",
              "    <tr>\n",
              "      <th>79</th>\n",
              "      <td>6.7</td>\n",
              "      <td>0.540</td>\n",
              "      <td>0.28</td>\n",
              "      <td>5.4</td>\n",
              "      <td>0.060</td>\n",
              "      <td>21.0</td>\n",
              "      <td>105.0</td>\n",
              "      <td>0.99490</td>\n",
              "      <td>3.27</td>\n",
              "      <td>0.37</td>\n",
              "      <td>9.0</td>\n",
              "      <td>5</td>\n",
              "    </tr>\n",
              "    <tr>\n",
              "      <th>147</th>\n",
              "      <td>6.4</td>\n",
              "      <td>0.595</td>\n",
              "      <td>0.14</td>\n",
              "      <td>5.2</td>\n",
              "      <td>0.058</td>\n",
              "      <td>15.0</td>\n",
              "      <td>97.0</td>\n",
              "      <td>0.99510</td>\n",
              "      <td>3.38</td>\n",
              "      <td>0.36</td>\n",
              "      <td>9.0</td>\n",
              "      <td>4</td>\n",
              "    </tr>\n",
              "    <tr>\n",
              "      <th>...</th>\n",
              "      <td>...</td>\n",
              "      <td>...</td>\n",
              "      <td>...</td>\n",
              "      <td>...</td>\n",
              "      <td>...</td>\n",
              "      <td>...</td>\n",
              "      <td>...</td>\n",
              "      <td>...</td>\n",
              "      <td>...</td>\n",
              "      <td>...</td>\n",
              "      <td>...</td>\n",
              "      <td>...</td>\n",
              "    </tr>\n",
              "    <tr>\n",
              "      <th>4847</th>\n",
              "      <td>4.4</td>\n",
              "      <td>0.540</td>\n",
              "      <td>0.09</td>\n",
              "      <td>5.1</td>\n",
              "      <td>0.038</td>\n",
              "      <td>52.0</td>\n",
              "      <td>97.0</td>\n",
              "      <td>0.99022</td>\n",
              "      <td>3.41</td>\n",
              "      <td>0.40</td>\n",
              "      <td>12.2</td>\n",
              "      <td>7</td>\n",
              "    </tr>\n",
              "    <tr>\n",
              "      <th>4860</th>\n",
              "      <td>6.0</td>\n",
              "      <td>0.520</td>\n",
              "      <td>0.33</td>\n",
              "      <td>7.7</td>\n",
              "      <td>0.046</td>\n",
              "      <td>24.0</td>\n",
              "      <td>119.0</td>\n",
              "      <td>0.99224</td>\n",
              "      <td>3.04</td>\n",
              "      <td>0.38</td>\n",
              "      <td>11.0</td>\n",
              "      <td>6</td>\n",
              "    </tr>\n",
              "    <tr>\n",
              "      <th>4867</th>\n",
              "      <td>5.3</td>\n",
              "      <td>0.600</td>\n",
              "      <td>0.34</td>\n",
              "      <td>1.4</td>\n",
              "      <td>0.031</td>\n",
              "      <td>3.0</td>\n",
              "      <td>60.0</td>\n",
              "      <td>0.98854</td>\n",
              "      <td>3.27</td>\n",
              "      <td>0.38</td>\n",
              "      <td>13.0</td>\n",
              "      <td>6</td>\n",
              "    </tr>\n",
              "    <tr>\n",
              "      <th>4877</th>\n",
              "      <td>5.9</td>\n",
              "      <td>0.540</td>\n",
              "      <td>0.00</td>\n",
              "      <td>0.8</td>\n",
              "      <td>0.032</td>\n",
              "      <td>12.0</td>\n",
              "      <td>82.0</td>\n",
              "      <td>0.99286</td>\n",
              "      <td>3.25</td>\n",
              "      <td>0.36</td>\n",
              "      <td>8.8</td>\n",
              "      <td>5</td>\n",
              "    </tr>\n",
              "    <tr>\n",
              "      <th>4878</th>\n",
              "      <td>6.2</td>\n",
              "      <td>0.530</td>\n",
              "      <td>0.02</td>\n",
              "      <td>0.9</td>\n",
              "      <td>0.035</td>\n",
              "      <td>6.0</td>\n",
              "      <td>81.0</td>\n",
              "      <td>0.99234</td>\n",
              "      <td>3.24</td>\n",
              "      <td>0.35</td>\n",
              "      <td>9.5</td>\n",
              "      <td>4</td>\n",
              "    </tr>\n",
              "  </tbody>\n",
              "</table>\n",
              "<p>186 rows × 12 columns</p>\n",
              "</div>"
            ],
            "text/plain": [
              "      fixed acidity  volatile acidity  citric acid  ...  sulphates  alcohol  quality\n",
              "17              6.2             0.660         0.48  ...       0.39     12.8        8\n",
              "20              6.2             0.660         0.48  ...       0.39     12.8        8\n",
              "23              7.6             0.670         0.14  ...       0.51      9.3        5\n",
              "79              6.7             0.540         0.28  ...       0.37      9.0        5\n",
              "147             6.4             0.595         0.14  ...       0.36      9.0        4\n",
              "...             ...               ...          ...  ...        ...      ...      ...\n",
              "4847            4.4             0.540         0.09  ...       0.40     12.2        7\n",
              "4860            6.0             0.520         0.33  ...       0.38     11.0        6\n",
              "4867            5.3             0.600         0.34  ...       0.38     13.0        6\n",
              "4877            5.9             0.540         0.00  ...       0.36      8.8        5\n",
              "4878            6.2             0.530         0.02  ...       0.35      9.5        4\n",
              "\n",
              "[186 rows x 12 columns]"
            ]
          },
          "metadata": {}
        },
        {
          "output_type": "stream",
          "name": "stdout",
          "text": [
            "Data points considered outliers for the feature 'citric acid':\n"
          ]
        },
        {
          "output_type": "display_data",
          "data": {
            "text/html": [
              "<div>\n",
              "<style scoped>\n",
              "    .dataframe tbody tr th:only-of-type {\n",
              "        vertical-align: middle;\n",
              "    }\n",
              "\n",
              "    .dataframe tbody tr th {\n",
              "        vertical-align: top;\n",
              "    }\n",
              "\n",
              "    .dataframe thead th {\n",
              "        text-align: right;\n",
              "    }\n",
              "</style>\n",
              "<table border=\"1\" class=\"dataframe\">\n",
              "  <thead>\n",
              "    <tr style=\"text-align: right;\">\n",
              "      <th></th>\n",
              "      <th>fixed acidity</th>\n",
              "      <th>volatile acidity</th>\n",
              "      <th>citric acid</th>\n",
              "      <th>residual sugar</th>\n",
              "      <th>chlorides</th>\n",
              "      <th>free sulfur dioxide</th>\n",
              "      <th>total sulfur dioxide</th>\n",
              "      <th>density</th>\n",
              "      <th>pH</th>\n",
              "      <th>sulphates</th>\n",
              "      <th>alcohol</th>\n",
              "      <th>quality</th>\n",
              "    </tr>\n",
              "  </thead>\n",
              "  <tbody>\n",
              "    <tr>\n",
              "      <th>14</th>\n",
              "      <td>8.3</td>\n",
              "      <td>0.42</td>\n",
              "      <td>0.62</td>\n",
              "      <td>19.25</td>\n",
              "      <td>0.040</td>\n",
              "      <td>41.0</td>\n",
              "      <td>172.0</td>\n",
              "      <td>1.00020</td>\n",
              "      <td>2.98</td>\n",
              "      <td>0.67</td>\n",
              "      <td>9.7</td>\n",
              "      <td>5</td>\n",
              "    </tr>\n",
              "    <tr>\n",
              "      <th>16</th>\n",
              "      <td>6.3</td>\n",
              "      <td>0.48</td>\n",
              "      <td>0.04</td>\n",
              "      <td>1.10</td>\n",
              "      <td>0.046</td>\n",
              "      <td>30.0</td>\n",
              "      <td>99.0</td>\n",
              "      <td>0.99280</td>\n",
              "      <td>3.24</td>\n",
              "      <td>0.36</td>\n",
              "      <td>9.6</td>\n",
              "      <td>6</td>\n",
              "    </tr>\n",
              "    <tr>\n",
              "      <th>54</th>\n",
              "      <td>6.8</td>\n",
              "      <td>0.20</td>\n",
              "      <td>0.59</td>\n",
              "      <td>0.90</td>\n",
              "      <td>0.147</td>\n",
              "      <td>38.0</td>\n",
              "      <td>132.0</td>\n",
              "      <td>0.99300</td>\n",
              "      <td>3.05</td>\n",
              "      <td>0.38</td>\n",
              "      <td>9.1</td>\n",
              "      <td>6</td>\n",
              "    </tr>\n",
              "    <tr>\n",
              "      <th>62</th>\n",
              "      <td>7.0</td>\n",
              "      <td>0.47</td>\n",
              "      <td>0.07</td>\n",
              "      <td>1.10</td>\n",
              "      <td>0.035</td>\n",
              "      <td>17.0</td>\n",
              "      <td>151.0</td>\n",
              "      <td>0.99100</td>\n",
              "      <td>3.02</td>\n",
              "      <td>0.34</td>\n",
              "      <td>10.5</td>\n",
              "      <td>5</td>\n",
              "    </tr>\n",
              "    <tr>\n",
              "      <th>65</th>\n",
              "      <td>6.2</td>\n",
              "      <td>0.35</td>\n",
              "      <td>0.03</td>\n",
              "      <td>1.20</td>\n",
              "      <td>0.064</td>\n",
              "      <td>29.0</td>\n",
              "      <td>120.0</td>\n",
              "      <td>0.99340</td>\n",
              "      <td>3.22</td>\n",
              "      <td>0.54</td>\n",
              "      <td>9.1</td>\n",
              "      <td>5</td>\n",
              "    </tr>\n",
              "    <tr>\n",
              "      <th>...</th>\n",
              "      <td>...</td>\n",
              "      <td>...</td>\n",
              "      <td>...</td>\n",
              "      <td>...</td>\n",
              "      <td>...</td>\n",
              "      <td>...</td>\n",
              "      <td>...</td>\n",
              "      <td>...</td>\n",
              "      <td>...</td>\n",
              "      <td>...</td>\n",
              "      <td>...</td>\n",
              "      <td>...</td>\n",
              "    </tr>\n",
              "    <tr>\n",
              "      <th>4808</th>\n",
              "      <td>7.3</td>\n",
              "      <td>0.35</td>\n",
              "      <td>0.67</td>\n",
              "      <td>8.30</td>\n",
              "      <td>0.053</td>\n",
              "      <td>10.0</td>\n",
              "      <td>100.0</td>\n",
              "      <td>0.99590</td>\n",
              "      <td>3.19</td>\n",
              "      <td>0.50</td>\n",
              "      <td>10.9</td>\n",
              "      <td>5</td>\n",
              "    </tr>\n",
              "    <tr>\n",
              "      <th>4815</th>\n",
              "      <td>6.2</td>\n",
              "      <td>0.76</td>\n",
              "      <td>0.01</td>\n",
              "      <td>3.20</td>\n",
              "      <td>0.041</td>\n",
              "      <td>18.0</td>\n",
              "      <td>120.0</td>\n",
              "      <td>0.99026</td>\n",
              "      <td>3.20</td>\n",
              "      <td>0.94</td>\n",
              "      <td>13.7</td>\n",
              "      <td>7</td>\n",
              "    </tr>\n",
              "    <tr>\n",
              "      <th>4847</th>\n",
              "      <td>4.4</td>\n",
              "      <td>0.54</td>\n",
              "      <td>0.09</td>\n",
              "      <td>5.10</td>\n",
              "      <td>0.038</td>\n",
              "      <td>52.0</td>\n",
              "      <td>97.0</td>\n",
              "      <td>0.99022</td>\n",
              "      <td>3.41</td>\n",
              "      <td>0.40</td>\n",
              "      <td>12.2</td>\n",
              "      <td>7</td>\n",
              "    </tr>\n",
              "    <tr>\n",
              "      <th>4877</th>\n",
              "      <td>5.9</td>\n",
              "      <td>0.54</td>\n",
              "      <td>0.00</td>\n",
              "      <td>0.80</td>\n",
              "      <td>0.032</td>\n",
              "      <td>12.0</td>\n",
              "      <td>82.0</td>\n",
              "      <td>0.99286</td>\n",
              "      <td>3.25</td>\n",
              "      <td>0.36</td>\n",
              "      <td>8.8</td>\n",
              "      <td>5</td>\n",
              "    </tr>\n",
              "    <tr>\n",
              "      <th>4878</th>\n",
              "      <td>6.2</td>\n",
              "      <td>0.53</td>\n",
              "      <td>0.02</td>\n",
              "      <td>0.90</td>\n",
              "      <td>0.035</td>\n",
              "      <td>6.0</td>\n",
              "      <td>81.0</td>\n",
              "      <td>0.99234</td>\n",
              "      <td>3.24</td>\n",
              "      <td>0.35</td>\n",
              "      <td>9.5</td>\n",
              "      <td>4</td>\n",
              "    </tr>\n",
              "  </tbody>\n",
              "</table>\n",
              "<p>270 rows × 12 columns</p>\n",
              "</div>"
            ],
            "text/plain": [
              "      fixed acidity  volatile acidity  citric acid  ...  sulphates  alcohol  quality\n",
              "14              8.3              0.42         0.62  ...       0.67      9.7        5\n",
              "16              6.3              0.48         0.04  ...       0.36      9.6        6\n",
              "54              6.8              0.20         0.59  ...       0.38      9.1        6\n",
              "62              7.0              0.47         0.07  ...       0.34     10.5        5\n",
              "65              6.2              0.35         0.03  ...       0.54      9.1        5\n",
              "...             ...               ...          ...  ...        ...      ...      ...\n",
              "4808            7.3              0.35         0.67  ...       0.50     10.9        5\n",
              "4815            6.2              0.76         0.01  ...       0.94     13.7        7\n",
              "4847            4.4              0.54         0.09  ...       0.40     12.2        7\n",
              "4877            5.9              0.54         0.00  ...       0.36      8.8        5\n",
              "4878            6.2              0.53         0.02  ...       0.35      9.5        4\n",
              "\n",
              "[270 rows x 12 columns]"
            ]
          },
          "metadata": {}
        },
        {
          "output_type": "stream",
          "name": "stdout",
          "text": [
            "Data points considered outliers for the feature 'residual sugar':\n"
          ]
        },
        {
          "output_type": "display_data",
          "data": {
            "text/html": [
              "<div>\n",
              "<style scoped>\n",
              "    .dataframe tbody tr th:only-of-type {\n",
              "        vertical-align: middle;\n",
              "    }\n",
              "\n",
              "    .dataframe tbody tr th {\n",
              "        vertical-align: top;\n",
              "    }\n",
              "\n",
              "    .dataframe thead th {\n",
              "        text-align: right;\n",
              "    }\n",
              "</style>\n",
              "<table border=\"1\" class=\"dataframe\">\n",
              "  <thead>\n",
              "    <tr style=\"text-align: right;\">\n",
              "      <th></th>\n",
              "      <th>fixed acidity</th>\n",
              "      <th>volatile acidity</th>\n",
              "      <th>citric acid</th>\n",
              "      <th>residual sugar</th>\n",
              "      <th>chlorides</th>\n",
              "      <th>free sulfur dioxide</th>\n",
              "      <th>total sulfur dioxide</th>\n",
              "      <th>density</th>\n",
              "      <th>pH</th>\n",
              "      <th>sulphates</th>\n",
              "      <th>alcohol</th>\n",
              "      <th>quality</th>\n",
              "    </tr>\n",
              "  </thead>\n",
              "  <tbody>\n",
              "    <tr>\n",
              "      <th>1608</th>\n",
              "      <td>6.9</td>\n",
              "      <td>0.270</td>\n",
              "      <td>0.49</td>\n",
              "      <td>23.50</td>\n",
              "      <td>0.057</td>\n",
              "      <td>59.0</td>\n",
              "      <td>235.0</td>\n",
              "      <td>1.00240</td>\n",
              "      <td>2.98</td>\n",
              "      <td>0.47</td>\n",
              "      <td>8.6</td>\n",
              "      <td>5</td>\n",
              "    </tr>\n",
              "    <tr>\n",
              "      <th>1653</th>\n",
              "      <td>7.9</td>\n",
              "      <td>0.330</td>\n",
              "      <td>0.28</td>\n",
              "      <td>31.60</td>\n",
              "      <td>0.053</td>\n",
              "      <td>35.0</td>\n",
              "      <td>176.0</td>\n",
              "      <td>1.01030</td>\n",
              "      <td>3.15</td>\n",
              "      <td>0.38</td>\n",
              "      <td>8.8</td>\n",
              "      <td>6</td>\n",
              "    </tr>\n",
              "    <tr>\n",
              "      <th>1663</th>\n",
              "      <td>7.9</td>\n",
              "      <td>0.330</td>\n",
              "      <td>0.28</td>\n",
              "      <td>31.60</td>\n",
              "      <td>0.053</td>\n",
              "      <td>35.0</td>\n",
              "      <td>176.0</td>\n",
              "      <td>1.01030</td>\n",
              "      <td>3.15</td>\n",
              "      <td>0.38</td>\n",
              "      <td>8.8</td>\n",
              "      <td>6</td>\n",
              "    </tr>\n",
              "    <tr>\n",
              "      <th>2781</th>\n",
              "      <td>7.8</td>\n",
              "      <td>0.965</td>\n",
              "      <td>0.60</td>\n",
              "      <td>65.80</td>\n",
              "      <td>0.074</td>\n",
              "      <td>8.0</td>\n",
              "      <td>160.0</td>\n",
              "      <td>1.03898</td>\n",
              "      <td>3.39</td>\n",
              "      <td>0.69</td>\n",
              "      <td>11.7</td>\n",
              "      <td>6</td>\n",
              "    </tr>\n",
              "    <tr>\n",
              "      <th>3619</th>\n",
              "      <td>6.8</td>\n",
              "      <td>0.450</td>\n",
              "      <td>0.28</td>\n",
              "      <td>26.05</td>\n",
              "      <td>0.031</td>\n",
              "      <td>27.0</td>\n",
              "      <td>122.0</td>\n",
              "      <td>1.00295</td>\n",
              "      <td>3.06</td>\n",
              "      <td>0.42</td>\n",
              "      <td>10.6</td>\n",
              "      <td>6</td>\n",
              "    </tr>\n",
              "    <tr>\n",
              "      <th>3623</th>\n",
              "      <td>6.8</td>\n",
              "      <td>0.450</td>\n",
              "      <td>0.28</td>\n",
              "      <td>26.05</td>\n",
              "      <td>0.031</td>\n",
              "      <td>27.0</td>\n",
              "      <td>122.0</td>\n",
              "      <td>1.00295</td>\n",
              "      <td>3.06</td>\n",
              "      <td>0.42</td>\n",
              "      <td>10.6</td>\n",
              "      <td>6</td>\n",
              "    </tr>\n",
              "    <tr>\n",
              "      <th>4480</th>\n",
              "      <td>5.9</td>\n",
              "      <td>0.220</td>\n",
              "      <td>0.45</td>\n",
              "      <td>22.60</td>\n",
              "      <td>0.120</td>\n",
              "      <td>55.0</td>\n",
              "      <td>122.0</td>\n",
              "      <td>0.99636</td>\n",
              "      <td>3.10</td>\n",
              "      <td>0.35</td>\n",
              "      <td>12.8</td>\n",
              "      <td>5</td>\n",
              "    </tr>\n",
              "  </tbody>\n",
              "</table>\n",
              "</div>"
            ],
            "text/plain": [
              "      fixed acidity  volatile acidity  citric acid  ...  sulphates  alcohol  quality\n",
              "1608            6.9             0.270         0.49  ...       0.47      8.6        5\n",
              "1653            7.9             0.330         0.28  ...       0.38      8.8        6\n",
              "1663            7.9             0.330         0.28  ...       0.38      8.8        6\n",
              "2781            7.8             0.965         0.60  ...       0.69     11.7        6\n",
              "3619            6.8             0.450         0.28  ...       0.42     10.6        6\n",
              "3623            6.8             0.450         0.28  ...       0.42     10.6        6\n",
              "4480            5.9             0.220         0.45  ...       0.35     12.8        5\n",
              "\n",
              "[7 rows x 12 columns]"
            ]
          },
          "metadata": {}
        },
        {
          "output_type": "stream",
          "name": "stdout",
          "text": [
            "Data points considered outliers for the feature 'chlorides':\n"
          ]
        },
        {
          "output_type": "display_data",
          "data": {
            "text/html": [
              "<div>\n",
              "<style scoped>\n",
              "    .dataframe tbody tr th:only-of-type {\n",
              "        vertical-align: middle;\n",
              "    }\n",
              "\n",
              "    .dataframe tbody tr th {\n",
              "        vertical-align: top;\n",
              "    }\n",
              "\n",
              "    .dataframe thead th {\n",
              "        text-align: right;\n",
              "    }\n",
              "</style>\n",
              "<table border=\"1\" class=\"dataframe\">\n",
              "  <thead>\n",
              "    <tr style=\"text-align: right;\">\n",
              "      <th></th>\n",
              "      <th>fixed acidity</th>\n",
              "      <th>volatile acidity</th>\n",
              "      <th>citric acid</th>\n",
              "      <th>residual sugar</th>\n",
              "      <th>chlorides</th>\n",
              "      <th>free sulfur dioxide</th>\n",
              "      <th>total sulfur dioxide</th>\n",
              "      <th>density</th>\n",
              "      <th>pH</th>\n",
              "      <th>sulphates</th>\n",
              "      <th>alcohol</th>\n",
              "      <th>quality</th>\n",
              "    </tr>\n",
              "  </thead>\n",
              "  <tbody>\n",
              "    <tr>\n",
              "      <th>23</th>\n",
              "      <td>7.6</td>\n",
              "      <td>0.67</td>\n",
              "      <td>0.14</td>\n",
              "      <td>1.5</td>\n",
              "      <td>0.074</td>\n",
              "      <td>25.0</td>\n",
              "      <td>168.0</td>\n",
              "      <td>0.99370</td>\n",
              "      <td>3.05</td>\n",
              "      <td>0.51</td>\n",
              "      <td>9.30</td>\n",
              "      <td>5</td>\n",
              "    </tr>\n",
              "    <tr>\n",
              "      <th>35</th>\n",
              "      <td>7.3</td>\n",
              "      <td>0.28</td>\n",
              "      <td>0.43</td>\n",
              "      <td>1.7</td>\n",
              "      <td>0.080</td>\n",
              "      <td>21.0</td>\n",
              "      <td>123.0</td>\n",
              "      <td>0.99050</td>\n",
              "      <td>3.19</td>\n",
              "      <td>0.42</td>\n",
              "      <td>12.80</td>\n",
              "      <td>5</td>\n",
              "    </tr>\n",
              "    <tr>\n",
              "      <th>40</th>\n",
              "      <td>6.7</td>\n",
              "      <td>0.23</td>\n",
              "      <td>0.39</td>\n",
              "      <td>2.5</td>\n",
              "      <td>0.172</td>\n",
              "      <td>63.0</td>\n",
              "      <td>158.0</td>\n",
              "      <td>0.99370</td>\n",
              "      <td>3.11</td>\n",
              "      <td>0.36</td>\n",
              "      <td>9.40</td>\n",
              "      <td>6</td>\n",
              "    </tr>\n",
              "    <tr>\n",
              "      <th>41</th>\n",
              "      <td>6.7</td>\n",
              "      <td>0.24</td>\n",
              "      <td>0.39</td>\n",
              "      <td>2.9</td>\n",
              "      <td>0.173</td>\n",
              "      <td>63.0</td>\n",
              "      <td>157.0</td>\n",
              "      <td>0.99370</td>\n",
              "      <td>3.10</td>\n",
              "      <td>0.34</td>\n",
              "      <td>9.40</td>\n",
              "      <td>6</td>\n",
              "    </tr>\n",
              "    <tr>\n",
              "      <th>54</th>\n",
              "      <td>6.8</td>\n",
              "      <td>0.20</td>\n",
              "      <td>0.59</td>\n",
              "      <td>0.9</td>\n",
              "      <td>0.147</td>\n",
              "      <td>38.0</td>\n",
              "      <td>132.0</td>\n",
              "      <td>0.99300</td>\n",
              "      <td>3.05</td>\n",
              "      <td>0.38</td>\n",
              "      <td>9.10</td>\n",
              "      <td>6</td>\n",
              "    </tr>\n",
              "    <tr>\n",
              "      <th>...</th>\n",
              "      <td>...</td>\n",
              "      <td>...</td>\n",
              "      <td>...</td>\n",
              "      <td>...</td>\n",
              "      <td>...</td>\n",
              "      <td>...</td>\n",
              "      <td>...</td>\n",
              "      <td>...</td>\n",
              "      <td>...</td>\n",
              "      <td>...</td>\n",
              "      <td>...</td>\n",
              "      <td>...</td>\n",
              "    </tr>\n",
              "    <tr>\n",
              "      <th>4813</th>\n",
              "      <td>5.8</td>\n",
              "      <td>0.36</td>\n",
              "      <td>0.50</td>\n",
              "      <td>1.0</td>\n",
              "      <td>0.127</td>\n",
              "      <td>63.0</td>\n",
              "      <td>178.0</td>\n",
              "      <td>0.99212</td>\n",
              "      <td>3.10</td>\n",
              "      <td>0.45</td>\n",
              "      <td>9.70</td>\n",
              "      <td>5</td>\n",
              "    </tr>\n",
              "    <tr>\n",
              "      <th>4820</th>\n",
              "      <td>5.8</td>\n",
              "      <td>0.36</td>\n",
              "      <td>0.50</td>\n",
              "      <td>1.0</td>\n",
              "      <td>0.127</td>\n",
              "      <td>63.0</td>\n",
              "      <td>178.0</td>\n",
              "      <td>0.99212</td>\n",
              "      <td>3.10</td>\n",
              "      <td>0.45</td>\n",
              "      <td>9.70</td>\n",
              "      <td>5</td>\n",
              "    </tr>\n",
              "    <tr>\n",
              "      <th>4836</th>\n",
              "      <td>6.7</td>\n",
              "      <td>0.50</td>\n",
              "      <td>0.36</td>\n",
              "      <td>11.5</td>\n",
              "      <td>0.096</td>\n",
              "      <td>18.0</td>\n",
              "      <td>92.0</td>\n",
              "      <td>0.99642</td>\n",
              "      <td>3.11</td>\n",
              "      <td>0.49</td>\n",
              "      <td>9.60</td>\n",
              "      <td>5</td>\n",
              "    </tr>\n",
              "    <tr>\n",
              "      <th>4845</th>\n",
              "      <td>6.6</td>\n",
              "      <td>0.38</td>\n",
              "      <td>0.29</td>\n",
              "      <td>2.4</td>\n",
              "      <td>0.136</td>\n",
              "      <td>15.0</td>\n",
              "      <td>93.0</td>\n",
              "      <td>0.99336</td>\n",
              "      <td>3.18</td>\n",
              "      <td>0.60</td>\n",
              "      <td>9.50</td>\n",
              "      <td>5</td>\n",
              "    </tr>\n",
              "    <tr>\n",
              "      <th>4871</th>\n",
              "      <td>5.0</td>\n",
              "      <td>0.20</td>\n",
              "      <td>0.40</td>\n",
              "      <td>1.9</td>\n",
              "      <td>0.015</td>\n",
              "      <td>20.0</td>\n",
              "      <td>98.0</td>\n",
              "      <td>0.98970</td>\n",
              "      <td>3.37</td>\n",
              "      <td>0.55</td>\n",
              "      <td>12.05</td>\n",
              "      <td>6</td>\n",
              "    </tr>\n",
              "  </tbody>\n",
              "</table>\n",
              "<p>212 rows × 12 columns</p>\n",
              "</div>"
            ],
            "text/plain": [
              "      fixed acidity  volatile acidity  citric acid  ...  sulphates  alcohol  quality\n",
              "23              7.6              0.67         0.14  ...       0.51     9.30        5\n",
              "35              7.3              0.28         0.43  ...       0.42    12.80        5\n",
              "40              6.7              0.23         0.39  ...       0.36     9.40        6\n",
              "41              6.7              0.24         0.39  ...       0.34     9.40        6\n",
              "54              6.8              0.20         0.59  ...       0.38     9.10        6\n",
              "...             ...               ...          ...  ...        ...      ...      ...\n",
              "4813            5.8              0.36         0.50  ...       0.45     9.70        5\n",
              "4820            5.8              0.36         0.50  ...       0.45     9.70        5\n",
              "4836            6.7              0.50         0.36  ...       0.49     9.60        5\n",
              "4845            6.6              0.38         0.29  ...       0.60     9.50        5\n",
              "4871            5.0              0.20         0.40  ...       0.55    12.05        6\n",
              "\n",
              "[212 rows x 12 columns]"
            ]
          },
          "metadata": {}
        },
        {
          "output_type": "stream",
          "name": "stdout",
          "text": [
            "Data points considered outliers for the feature 'free sulfur dioxide':\n"
          ]
        },
        {
          "output_type": "display_data",
          "data": {
            "text/html": [
              "<div>\n",
              "<style scoped>\n",
              "    .dataframe tbody tr th:only-of-type {\n",
              "        vertical-align: middle;\n",
              "    }\n",
              "\n",
              "    .dataframe tbody tr th {\n",
              "        vertical-align: top;\n",
              "    }\n",
              "\n",
              "    .dataframe thead th {\n",
              "        text-align: right;\n",
              "    }\n",
              "</style>\n",
              "<table border=\"1\" class=\"dataframe\">\n",
              "  <thead>\n",
              "    <tr style=\"text-align: right;\">\n",
              "      <th></th>\n",
              "      <th>fixed acidity</th>\n",
              "      <th>volatile acidity</th>\n",
              "      <th>citric acid</th>\n",
              "      <th>residual sugar</th>\n",
              "      <th>chlorides</th>\n",
              "      <th>free sulfur dioxide</th>\n",
              "      <th>total sulfur dioxide</th>\n",
              "      <th>density</th>\n",
              "      <th>pH</th>\n",
              "      <th>sulphates</th>\n",
              "      <th>alcohol</th>\n",
              "      <th>quality</th>\n",
              "    </tr>\n",
              "  </thead>\n",
              "  <tbody>\n",
              "    <tr>\n",
              "      <th>67</th>\n",
              "      <td>6.7</td>\n",
              "      <td>0.250</td>\n",
              "      <td>0.13</td>\n",
              "      <td>1.20</td>\n",
              "      <td>0.041</td>\n",
              "      <td>81.0</td>\n",
              "      <td>174.0</td>\n",
              "      <td>0.99200</td>\n",
              "      <td>3.14</td>\n",
              "      <td>0.42</td>\n",
              "      <td>9.8</td>\n",
              "      <td>5</td>\n",
              "    </tr>\n",
              "    <tr>\n",
              "      <th>297</th>\n",
              "      <td>7.2</td>\n",
              "      <td>0.190</td>\n",
              "      <td>0.46</td>\n",
              "      <td>3.80</td>\n",
              "      <td>0.041</td>\n",
              "      <td>82.0</td>\n",
              "      <td>187.0</td>\n",
              "      <td>0.99320</td>\n",
              "      <td>3.19</td>\n",
              "      <td>0.60</td>\n",
              "      <td>11.2</td>\n",
              "      <td>7</td>\n",
              "    </tr>\n",
              "    <tr>\n",
              "      <th>325</th>\n",
              "      <td>7.5</td>\n",
              "      <td>0.270</td>\n",
              "      <td>0.31</td>\n",
              "      <td>5.80</td>\n",
              "      <td>0.057</td>\n",
              "      <td>131.0</td>\n",
              "      <td>313.0</td>\n",
              "      <td>0.99460</td>\n",
              "      <td>3.18</td>\n",
              "      <td>0.59</td>\n",
              "      <td>10.5</td>\n",
              "      <td>5</td>\n",
              "    </tr>\n",
              "    <tr>\n",
              "      <th>387</th>\n",
              "      <td>6.3</td>\n",
              "      <td>0.390</td>\n",
              "      <td>0.35</td>\n",
              "      <td>5.90</td>\n",
              "      <td>0.040</td>\n",
              "      <td>82.5</td>\n",
              "      <td>260.0</td>\n",
              "      <td>0.99410</td>\n",
              "      <td>3.12</td>\n",
              "      <td>0.66</td>\n",
              "      <td>10.1</td>\n",
              "      <td>5</td>\n",
              "    </tr>\n",
              "    <tr>\n",
              "      <th>395</th>\n",
              "      <td>6.8</td>\n",
              "      <td>0.270</td>\n",
              "      <td>0.12</td>\n",
              "      <td>1.30</td>\n",
              "      <td>0.040</td>\n",
              "      <td>87.0</td>\n",
              "      <td>168.0</td>\n",
              "      <td>0.99200</td>\n",
              "      <td>3.18</td>\n",
              "      <td>0.41</td>\n",
              "      <td>10.0</td>\n",
              "      <td>5</td>\n",
              "    </tr>\n",
              "    <tr>\n",
              "      <th>405</th>\n",
              "      <td>6.8</td>\n",
              "      <td>0.270</td>\n",
              "      <td>0.12</td>\n",
              "      <td>1.30</td>\n",
              "      <td>0.040</td>\n",
              "      <td>87.0</td>\n",
              "      <td>168.0</td>\n",
              "      <td>0.99200</td>\n",
              "      <td>3.18</td>\n",
              "      <td>0.41</td>\n",
              "      <td>10.0</td>\n",
              "      <td>5</td>\n",
              "    </tr>\n",
              "    <tr>\n",
              "      <th>459</th>\n",
              "      <td>6.1</td>\n",
              "      <td>0.430</td>\n",
              "      <td>0.35</td>\n",
              "      <td>9.10</td>\n",
              "      <td>0.059</td>\n",
              "      <td>83.0</td>\n",
              "      <td>249.0</td>\n",
              "      <td>0.99710</td>\n",
              "      <td>3.37</td>\n",
              "      <td>0.50</td>\n",
              "      <td>8.5</td>\n",
              "      <td>5</td>\n",
              "    </tr>\n",
              "    <tr>\n",
              "      <th>659</th>\n",
              "      <td>6.8</td>\n",
              "      <td>0.290</td>\n",
              "      <td>0.16</td>\n",
              "      <td>1.40</td>\n",
              "      <td>0.038</td>\n",
              "      <td>122.5</td>\n",
              "      <td>234.5</td>\n",
              "      <td>0.99220</td>\n",
              "      <td>3.15</td>\n",
              "      <td>0.47</td>\n",
              "      <td>10.0</td>\n",
              "      <td>4</td>\n",
              "    </tr>\n",
              "    <tr>\n",
              "      <th>752</th>\n",
              "      <td>6.7</td>\n",
              "      <td>0.200</td>\n",
              "      <td>0.42</td>\n",
              "      <td>14.00</td>\n",
              "      <td>0.038</td>\n",
              "      <td>83.0</td>\n",
              "      <td>160.0</td>\n",
              "      <td>0.99870</td>\n",
              "      <td>3.16</td>\n",
              "      <td>0.50</td>\n",
              "      <td>9.4</td>\n",
              "      <td>6</td>\n",
              "    </tr>\n",
              "    <tr>\n",
              "      <th>766</th>\n",
              "      <td>6.7</td>\n",
              "      <td>0.500</td>\n",
              "      <td>0.63</td>\n",
              "      <td>13.40</td>\n",
              "      <td>0.078</td>\n",
              "      <td>81.0</td>\n",
              "      <td>238.0</td>\n",
              "      <td>0.99880</td>\n",
              "      <td>3.08</td>\n",
              "      <td>0.44</td>\n",
              "      <td>9.2</td>\n",
              "      <td>5</td>\n",
              "    </tr>\n",
              "    <tr>\n",
              "      <th>1257</th>\n",
              "      <td>6.4</td>\n",
              "      <td>0.170</td>\n",
              "      <td>0.27</td>\n",
              "      <td>6.70</td>\n",
              "      <td>0.036</td>\n",
              "      <td>88.0</td>\n",
              "      <td>223.0</td>\n",
              "      <td>0.99480</td>\n",
              "      <td>3.28</td>\n",
              "      <td>0.35</td>\n",
              "      <td>10.2</td>\n",
              "      <td>6</td>\n",
              "    </tr>\n",
              "    <tr>\n",
              "      <th>1674</th>\n",
              "      <td>6.8</td>\n",
              "      <td>0.220</td>\n",
              "      <td>0.29</td>\n",
              "      <td>8.90</td>\n",
              "      <td>0.046</td>\n",
              "      <td>82.0</td>\n",
              "      <td>188.0</td>\n",
              "      <td>0.99550</td>\n",
              "      <td>3.30</td>\n",
              "      <td>0.44</td>\n",
              "      <td>10.3</td>\n",
              "      <td>6</td>\n",
              "    </tr>\n",
              "    <tr>\n",
              "      <th>1688</th>\n",
              "      <td>6.7</td>\n",
              "      <td>0.250</td>\n",
              "      <td>0.26</td>\n",
              "      <td>1.55</td>\n",
              "      <td>0.041</td>\n",
              "      <td>118.5</td>\n",
              "      <td>216.0</td>\n",
              "      <td>0.99490</td>\n",
              "      <td>3.55</td>\n",
              "      <td>0.63</td>\n",
              "      <td>9.4</td>\n",
              "      <td>3</td>\n",
              "    </tr>\n",
              "    <tr>\n",
              "      <th>1759</th>\n",
              "      <td>6.6</td>\n",
              "      <td>0.620</td>\n",
              "      <td>0.20</td>\n",
              "      <td>8.70</td>\n",
              "      <td>0.046</td>\n",
              "      <td>81.0</td>\n",
              "      <td>224.0</td>\n",
              "      <td>0.99605</td>\n",
              "      <td>3.17</td>\n",
              "      <td>0.44</td>\n",
              "      <td>9.3</td>\n",
              "      <td>5</td>\n",
              "    </tr>\n",
              "    <tr>\n",
              "      <th>1842</th>\n",
              "      <td>8.2</td>\n",
              "      <td>0.180</td>\n",
              "      <td>0.31</td>\n",
              "      <td>11.80</td>\n",
              "      <td>0.039</td>\n",
              "      <td>96.0</td>\n",
              "      <td>249.0</td>\n",
              "      <td>0.99760</td>\n",
              "      <td>3.07</td>\n",
              "      <td>0.52</td>\n",
              "      <td>9.5</td>\n",
              "      <td>6</td>\n",
              "    </tr>\n",
              "    <tr>\n",
              "      <th>1855</th>\n",
              "      <td>8.0</td>\n",
              "      <td>0.220</td>\n",
              "      <td>0.28</td>\n",
              "      <td>14.00</td>\n",
              "      <td>0.053</td>\n",
              "      <td>83.0</td>\n",
              "      <td>197.0</td>\n",
              "      <td>0.99810</td>\n",
              "      <td>3.14</td>\n",
              "      <td>0.45</td>\n",
              "      <td>9.8</td>\n",
              "      <td>6</td>\n",
              "    </tr>\n",
              "    <tr>\n",
              "      <th>1859</th>\n",
              "      <td>8.0</td>\n",
              "      <td>0.220</td>\n",
              "      <td>0.28</td>\n",
              "      <td>14.00</td>\n",
              "      <td>0.053</td>\n",
              "      <td>83.0</td>\n",
              "      <td>197.0</td>\n",
              "      <td>0.99810</td>\n",
              "      <td>3.14</td>\n",
              "      <td>0.45</td>\n",
              "      <td>9.8</td>\n",
              "      <td>6</td>\n",
              "    </tr>\n",
              "    <tr>\n",
              "      <th>1931</th>\n",
              "      <td>7.1</td>\n",
              "      <td>0.490</td>\n",
              "      <td>0.22</td>\n",
              "      <td>2.00</td>\n",
              "      <td>0.047</td>\n",
              "      <td>146.5</td>\n",
              "      <td>307.5</td>\n",
              "      <td>0.99240</td>\n",
              "      <td>3.24</td>\n",
              "      <td>0.37</td>\n",
              "      <td>11.0</td>\n",
              "      <td>3</td>\n",
              "    </tr>\n",
              "    <tr>\n",
              "      <th>2334</th>\n",
              "      <td>7.5</td>\n",
              "      <td>0.230</td>\n",
              "      <td>0.35</td>\n",
              "      <td>17.80</td>\n",
              "      <td>0.058</td>\n",
              "      <td>128.0</td>\n",
              "      <td>212.0</td>\n",
              "      <td>1.00241</td>\n",
              "      <td>3.44</td>\n",
              "      <td>0.43</td>\n",
              "      <td>8.9</td>\n",
              "      <td>5</td>\n",
              "    </tr>\n",
              "    <tr>\n",
              "      <th>2336</th>\n",
              "      <td>6.8</td>\n",
              "      <td>0.260</td>\n",
              "      <td>0.22</td>\n",
              "      <td>4.80</td>\n",
              "      <td>0.041</td>\n",
              "      <td>110.0</td>\n",
              "      <td>198.0</td>\n",
              "      <td>0.99437</td>\n",
              "      <td>3.29</td>\n",
              "      <td>0.67</td>\n",
              "      <td>10.6</td>\n",
              "      <td>5</td>\n",
              "    </tr>\n",
              "    <tr>\n",
              "      <th>2575</th>\n",
              "      <td>6.7</td>\n",
              "      <td>0.170</td>\n",
              "      <td>0.42</td>\n",
              "      <td>10.40</td>\n",
              "      <td>0.038</td>\n",
              "      <td>85.0</td>\n",
              "      <td>182.0</td>\n",
              "      <td>0.99628</td>\n",
              "      <td>3.04</td>\n",
              "      <td>0.44</td>\n",
              "      <td>8.9</td>\n",
              "      <td>6</td>\n",
              "    </tr>\n",
              "    <tr>\n",
              "      <th>2625</th>\n",
              "      <td>4.5</td>\n",
              "      <td>0.190</td>\n",
              "      <td>0.21</td>\n",
              "      <td>0.95</td>\n",
              "      <td>0.033</td>\n",
              "      <td>89.0</td>\n",
              "      <td>159.0</td>\n",
              "      <td>0.99332</td>\n",
              "      <td>3.34</td>\n",
              "      <td>0.42</td>\n",
              "      <td>8.0</td>\n",
              "      <td>5</td>\n",
              "    </tr>\n",
              "    <tr>\n",
              "      <th>2728</th>\n",
              "      <td>6.5</td>\n",
              "      <td>0.350</td>\n",
              "      <td>0.28</td>\n",
              "      <td>12.40</td>\n",
              "      <td>0.051</td>\n",
              "      <td>86.0</td>\n",
              "      <td>213.0</td>\n",
              "      <td>0.99620</td>\n",
              "      <td>3.16</td>\n",
              "      <td>0.51</td>\n",
              "      <td>9.9</td>\n",
              "      <td>6</td>\n",
              "    </tr>\n",
              "    <tr>\n",
              "      <th>2735</th>\n",
              "      <td>6.5</td>\n",
              "      <td>0.350</td>\n",
              "      <td>0.28</td>\n",
              "      <td>12.40</td>\n",
              "      <td>0.051</td>\n",
              "      <td>86.0</td>\n",
              "      <td>213.0</td>\n",
              "      <td>0.99620</td>\n",
              "      <td>3.16</td>\n",
              "      <td>0.51</td>\n",
              "      <td>9.9</td>\n",
              "      <td>6</td>\n",
              "    </tr>\n",
              "    <tr>\n",
              "      <th>2748</th>\n",
              "      <td>5.8</td>\n",
              "      <td>0.170</td>\n",
              "      <td>0.34</td>\n",
              "      <td>1.80</td>\n",
              "      <td>0.045</td>\n",
              "      <td>96.0</td>\n",
              "      <td>170.0</td>\n",
              "      <td>0.99035</td>\n",
              "      <td>3.38</td>\n",
              "      <td>0.90</td>\n",
              "      <td>11.8</td>\n",
              "      <td>8</td>\n",
              "    </tr>\n",
              "    <tr>\n",
              "      <th>2750</th>\n",
              "      <td>5.8</td>\n",
              "      <td>0.170</td>\n",
              "      <td>0.34</td>\n",
              "      <td>1.80</td>\n",
              "      <td>0.045</td>\n",
              "      <td>96.0</td>\n",
              "      <td>170.0</td>\n",
              "      <td>0.99035</td>\n",
              "      <td>3.38</td>\n",
              "      <td>0.90</td>\n",
              "      <td>11.8</td>\n",
              "      <td>8</td>\n",
              "    </tr>\n",
              "    <tr>\n",
              "      <th>2872</th>\n",
              "      <td>4.2</td>\n",
              "      <td>0.170</td>\n",
              "      <td>0.36</td>\n",
              "      <td>1.80</td>\n",
              "      <td>0.029</td>\n",
              "      <td>93.0</td>\n",
              "      <td>161.0</td>\n",
              "      <td>0.98999</td>\n",
              "      <td>3.65</td>\n",
              "      <td>0.89</td>\n",
              "      <td>12.0</td>\n",
              "      <td>7</td>\n",
              "    </tr>\n",
              "    <tr>\n",
              "      <th>2893</th>\n",
              "      <td>6.2</td>\n",
              "      <td>0.160</td>\n",
              "      <td>0.34</td>\n",
              "      <td>1.70</td>\n",
              "      <td>0.038</td>\n",
              "      <td>85.0</td>\n",
              "      <td>153.0</td>\n",
              "      <td>0.99090</td>\n",
              "      <td>3.33</td>\n",
              "      <td>0.86</td>\n",
              "      <td>12.0</td>\n",
              "      <td>7</td>\n",
              "    </tr>\n",
              "    <tr>\n",
              "      <th>2930</th>\n",
              "      <td>5.6</td>\n",
              "      <td>0.210</td>\n",
              "      <td>0.40</td>\n",
              "      <td>1.30</td>\n",
              "      <td>0.041</td>\n",
              "      <td>81.0</td>\n",
              "      <td>147.0</td>\n",
              "      <td>0.99010</td>\n",
              "      <td>3.22</td>\n",
              "      <td>0.95</td>\n",
              "      <td>11.6</td>\n",
              "      <td>8</td>\n",
              "    </tr>\n",
              "    <tr>\n",
              "      <th>3050</th>\n",
              "      <td>6.2</td>\n",
              "      <td>0.255</td>\n",
              "      <td>0.24</td>\n",
              "      <td>1.70</td>\n",
              "      <td>0.039</td>\n",
              "      <td>138.5</td>\n",
              "      <td>272.0</td>\n",
              "      <td>0.99452</td>\n",
              "      <td>3.53</td>\n",
              "      <td>0.53</td>\n",
              "      <td>9.6</td>\n",
              "      <td>4</td>\n",
              "    </tr>\n",
              "    <tr>\n",
              "      <th>3072</th>\n",
              "      <td>7.5</td>\n",
              "      <td>0.250</td>\n",
              "      <td>0.47</td>\n",
              "      <td>4.10</td>\n",
              "      <td>0.041</td>\n",
              "      <td>95.0</td>\n",
              "      <td>163.0</td>\n",
              "      <td>0.99184</td>\n",
              "      <td>2.92</td>\n",
              "      <td>0.59</td>\n",
              "      <td>11.3</td>\n",
              "      <td>6</td>\n",
              "    </tr>\n",
              "    <tr>\n",
              "      <th>3307</th>\n",
              "      <td>9.4</td>\n",
              "      <td>0.240</td>\n",
              "      <td>0.29</td>\n",
              "      <td>8.50</td>\n",
              "      <td>0.037</td>\n",
              "      <td>124.0</td>\n",
              "      <td>208.0</td>\n",
              "      <td>0.99395</td>\n",
              "      <td>2.90</td>\n",
              "      <td>0.38</td>\n",
              "      <td>11.0</td>\n",
              "      <td>3</td>\n",
              "    </tr>\n",
              "    <tr>\n",
              "      <th>3379</th>\n",
              "      <td>7.6</td>\n",
              "      <td>0.360</td>\n",
              "      <td>0.49</td>\n",
              "      <td>11.30</td>\n",
              "      <td>0.046</td>\n",
              "      <td>87.0</td>\n",
              "      <td>221.0</td>\n",
              "      <td>0.99840</td>\n",
              "      <td>3.01</td>\n",
              "      <td>0.43</td>\n",
              "      <td>9.2</td>\n",
              "      <td>5</td>\n",
              "    </tr>\n",
              "    <tr>\n",
              "      <th>3387</th>\n",
              "      <td>7.6</td>\n",
              "      <td>0.360</td>\n",
              "      <td>0.49</td>\n",
              "      <td>11.30</td>\n",
              "      <td>0.046</td>\n",
              "      <td>87.0</td>\n",
              "      <td>221.0</td>\n",
              "      <td>0.99840</td>\n",
              "      <td>3.01</td>\n",
              "      <td>0.43</td>\n",
              "      <td>9.2</td>\n",
              "      <td>5</td>\n",
              "    </tr>\n",
              "    <tr>\n",
              "      <th>3461</th>\n",
              "      <td>6.7</td>\n",
              "      <td>0.240</td>\n",
              "      <td>0.30</td>\n",
              "      <td>3.85</td>\n",
              "      <td>0.042</td>\n",
              "      <td>105.0</td>\n",
              "      <td>179.0</td>\n",
              "      <td>0.99189</td>\n",
              "      <td>3.04</td>\n",
              "      <td>0.59</td>\n",
              "      <td>11.3</td>\n",
              "      <td>8</td>\n",
              "    </tr>\n",
              "    <tr>\n",
              "      <th>3470</th>\n",
              "      <td>6.7</td>\n",
              "      <td>0.240</td>\n",
              "      <td>0.30</td>\n",
              "      <td>3.85</td>\n",
              "      <td>0.042</td>\n",
              "      <td>105.0</td>\n",
              "      <td>179.0</td>\n",
              "      <td>0.99189</td>\n",
              "      <td>3.04</td>\n",
              "      <td>0.59</td>\n",
              "      <td>11.3</td>\n",
              "      <td>8</td>\n",
              "    </tr>\n",
              "    <tr>\n",
              "      <th>3520</th>\n",
              "      <td>6.0</td>\n",
              "      <td>0.230</td>\n",
              "      <td>0.15</td>\n",
              "      <td>9.70</td>\n",
              "      <td>0.048</td>\n",
              "      <td>101.0</td>\n",
              "      <td>207.0</td>\n",
              "      <td>0.99571</td>\n",
              "      <td>3.05</td>\n",
              "      <td>0.30</td>\n",
              "      <td>9.1</td>\n",
              "      <td>5</td>\n",
              "    </tr>\n",
              "    <tr>\n",
              "      <th>3523</th>\n",
              "      <td>6.0</td>\n",
              "      <td>0.230</td>\n",
              "      <td>0.15</td>\n",
              "      <td>9.70</td>\n",
              "      <td>0.048</td>\n",
              "      <td>101.0</td>\n",
              "      <td>207.0</td>\n",
              "      <td>0.99571</td>\n",
              "      <td>3.05</td>\n",
              "      <td>0.30</td>\n",
              "      <td>9.1</td>\n",
              "      <td>5</td>\n",
              "    </tr>\n",
              "    <tr>\n",
              "      <th>3620</th>\n",
              "      <td>6.3</td>\n",
              "      <td>0.200</td>\n",
              "      <td>0.26</td>\n",
              "      <td>4.70</td>\n",
              "      <td>0.040</td>\n",
              "      <td>108.0</td>\n",
              "      <td>168.0</td>\n",
              "      <td>0.99278</td>\n",
              "      <td>3.07</td>\n",
              "      <td>0.75</td>\n",
              "      <td>10.7</td>\n",
              "      <td>7</td>\n",
              "    </tr>\n",
              "    <tr>\n",
              "      <th>3861</th>\n",
              "      <td>6.2</td>\n",
              "      <td>0.220</td>\n",
              "      <td>0.30</td>\n",
              "      <td>12.40</td>\n",
              "      <td>0.054</td>\n",
              "      <td>108.0</td>\n",
              "      <td>152.0</td>\n",
              "      <td>0.99728</td>\n",
              "      <td>3.10</td>\n",
              "      <td>0.47</td>\n",
              "      <td>9.5</td>\n",
              "      <td>6</td>\n",
              "    </tr>\n",
              "    <tr>\n",
              "      <th>3862</th>\n",
              "      <td>6.5</td>\n",
              "      <td>0.270</td>\n",
              "      <td>0.19</td>\n",
              "      <td>6.60</td>\n",
              "      <td>0.045</td>\n",
              "      <td>98.0</td>\n",
              "      <td>175.0</td>\n",
              "      <td>0.99364</td>\n",
              "      <td>3.16</td>\n",
              "      <td>0.34</td>\n",
              "      <td>10.1</td>\n",
              "      <td>6</td>\n",
              "    </tr>\n",
              "    <tr>\n",
              "      <th>3863</th>\n",
              "      <td>6.5</td>\n",
              "      <td>0.270</td>\n",
              "      <td>0.19</td>\n",
              "      <td>6.60</td>\n",
              "      <td>0.045</td>\n",
              "      <td>98.0</td>\n",
              "      <td>175.0</td>\n",
              "      <td>0.99364</td>\n",
              "      <td>3.16</td>\n",
              "      <td>0.34</td>\n",
              "      <td>10.1</td>\n",
              "      <td>6</td>\n",
              "    </tr>\n",
              "    <tr>\n",
              "      <th>3868</th>\n",
              "      <td>6.0</td>\n",
              "      <td>0.220</td>\n",
              "      <td>0.25</td>\n",
              "      <td>11.10</td>\n",
              "      <td>0.056</td>\n",
              "      <td>112.0</td>\n",
              "      <td>177.0</td>\n",
              "      <td>0.99610</td>\n",
              "      <td>3.08</td>\n",
              "      <td>0.36</td>\n",
              "      <td>9.4</td>\n",
              "      <td>6</td>\n",
              "    </tr>\n",
              "    <tr>\n",
              "      <th>3869</th>\n",
              "      <td>6.2</td>\n",
              "      <td>0.220</td>\n",
              "      <td>0.30</td>\n",
              "      <td>12.40</td>\n",
              "      <td>0.054</td>\n",
              "      <td>108.0</td>\n",
              "      <td>152.0</td>\n",
              "      <td>0.99728</td>\n",
              "      <td>3.10</td>\n",
              "      <td>0.47</td>\n",
              "      <td>9.5</td>\n",
              "      <td>6</td>\n",
              "    </tr>\n",
              "    <tr>\n",
              "      <th>3871</th>\n",
              "      <td>6.5</td>\n",
              "      <td>0.270</td>\n",
              "      <td>0.19</td>\n",
              "      <td>6.60</td>\n",
              "      <td>0.045</td>\n",
              "      <td>98.0</td>\n",
              "      <td>175.0</td>\n",
              "      <td>0.99364</td>\n",
              "      <td>3.16</td>\n",
              "      <td>0.34</td>\n",
              "      <td>10.1</td>\n",
              "      <td>6</td>\n",
              "    </tr>\n",
              "    <tr>\n",
              "      <th>3981</th>\n",
              "      <td>6.3</td>\n",
              "      <td>0.220</td>\n",
              "      <td>0.27</td>\n",
              "      <td>4.50</td>\n",
              "      <td>0.036</td>\n",
              "      <td>81.0</td>\n",
              "      <td>157.0</td>\n",
              "      <td>0.99280</td>\n",
              "      <td>3.05</td>\n",
              "      <td>0.76</td>\n",
              "      <td>10.7</td>\n",
              "      <td>7</td>\n",
              "    </tr>\n",
              "    <tr>\n",
              "      <th>4179</th>\n",
              "      <td>6.9</td>\n",
              "      <td>0.240</td>\n",
              "      <td>0.40</td>\n",
              "      <td>15.40</td>\n",
              "      <td>0.052</td>\n",
              "      <td>81.0</td>\n",
              "      <td>198.0</td>\n",
              "      <td>0.99860</td>\n",
              "      <td>3.20</td>\n",
              "      <td>0.69</td>\n",
              "      <td>9.4</td>\n",
              "      <td>5</td>\n",
              "    </tr>\n",
              "    <tr>\n",
              "      <th>4185</th>\n",
              "      <td>6.9</td>\n",
              "      <td>0.240</td>\n",
              "      <td>0.40</td>\n",
              "      <td>15.40</td>\n",
              "      <td>0.052</td>\n",
              "      <td>81.0</td>\n",
              "      <td>198.0</td>\n",
              "      <td>0.99860</td>\n",
              "      <td>3.20</td>\n",
              "      <td>0.69</td>\n",
              "      <td>9.4</td>\n",
              "      <td>5</td>\n",
              "    </tr>\n",
              "    <tr>\n",
              "      <th>4745</th>\n",
              "      <td>6.1</td>\n",
              "      <td>0.260</td>\n",
              "      <td>0.25</td>\n",
              "      <td>2.90</td>\n",
              "      <td>0.047</td>\n",
              "      <td>289.0</td>\n",
              "      <td>440.0</td>\n",
              "      <td>0.99314</td>\n",
              "      <td>3.44</td>\n",
              "      <td>0.64</td>\n",
              "      <td>10.5</td>\n",
              "      <td>3</td>\n",
              "    </tr>\n",
              "    <tr>\n",
              "      <th>4841</th>\n",
              "      <td>5.7</td>\n",
              "      <td>0.220</td>\n",
              "      <td>0.25</td>\n",
              "      <td>1.10</td>\n",
              "      <td>0.050</td>\n",
              "      <td>97.0</td>\n",
              "      <td>175.0</td>\n",
              "      <td>0.99099</td>\n",
              "      <td>3.44</td>\n",
              "      <td>0.62</td>\n",
              "      <td>11.1</td>\n",
              "      <td>6</td>\n",
              "    </tr>\n",
              "  </tbody>\n",
              "</table>\n",
              "</div>"
            ],
            "text/plain": [
              "      fixed acidity  volatile acidity  citric acid  ...  sulphates  alcohol  quality\n",
              "67              6.7             0.250         0.13  ...       0.42      9.8        5\n",
              "297             7.2             0.190         0.46  ...       0.60     11.2        7\n",
              "325             7.5             0.270         0.31  ...       0.59     10.5        5\n",
              "387             6.3             0.390         0.35  ...       0.66     10.1        5\n",
              "395             6.8             0.270         0.12  ...       0.41     10.0        5\n",
              "405             6.8             0.270         0.12  ...       0.41     10.0        5\n",
              "459             6.1             0.430         0.35  ...       0.50      8.5        5\n",
              "659             6.8             0.290         0.16  ...       0.47     10.0        4\n",
              "752             6.7             0.200         0.42  ...       0.50      9.4        6\n",
              "766             6.7             0.500         0.63  ...       0.44      9.2        5\n",
              "1257            6.4             0.170         0.27  ...       0.35     10.2        6\n",
              "1674            6.8             0.220         0.29  ...       0.44     10.3        6\n",
              "1688            6.7             0.250         0.26  ...       0.63      9.4        3\n",
              "1759            6.6             0.620         0.20  ...       0.44      9.3        5\n",
              "1842            8.2             0.180         0.31  ...       0.52      9.5        6\n",
              "1855            8.0             0.220         0.28  ...       0.45      9.8        6\n",
              "1859            8.0             0.220         0.28  ...       0.45      9.8        6\n",
              "1931            7.1             0.490         0.22  ...       0.37     11.0        3\n",
              "2334            7.5             0.230         0.35  ...       0.43      8.9        5\n",
              "2336            6.8             0.260         0.22  ...       0.67     10.6        5\n",
              "2575            6.7             0.170         0.42  ...       0.44      8.9        6\n",
              "2625            4.5             0.190         0.21  ...       0.42      8.0        5\n",
              "2728            6.5             0.350         0.28  ...       0.51      9.9        6\n",
              "2735            6.5             0.350         0.28  ...       0.51      9.9        6\n",
              "2748            5.8             0.170         0.34  ...       0.90     11.8        8\n",
              "2750            5.8             0.170         0.34  ...       0.90     11.8        8\n",
              "2872            4.2             0.170         0.36  ...       0.89     12.0        7\n",
              "2893            6.2             0.160         0.34  ...       0.86     12.0        7\n",
              "2930            5.6             0.210         0.40  ...       0.95     11.6        8\n",
              "3050            6.2             0.255         0.24  ...       0.53      9.6        4\n",
              "3072            7.5             0.250         0.47  ...       0.59     11.3        6\n",
              "3307            9.4             0.240         0.29  ...       0.38     11.0        3\n",
              "3379            7.6             0.360         0.49  ...       0.43      9.2        5\n",
              "3387            7.6             0.360         0.49  ...       0.43      9.2        5\n",
              "3461            6.7             0.240         0.30  ...       0.59     11.3        8\n",
              "3470            6.7             0.240         0.30  ...       0.59     11.3        8\n",
              "3520            6.0             0.230         0.15  ...       0.30      9.1        5\n",
              "3523            6.0             0.230         0.15  ...       0.30      9.1        5\n",
              "3620            6.3             0.200         0.26  ...       0.75     10.7        7\n",
              "3861            6.2             0.220         0.30  ...       0.47      9.5        6\n",
              "3862            6.5             0.270         0.19  ...       0.34     10.1        6\n",
              "3863            6.5             0.270         0.19  ...       0.34     10.1        6\n",
              "3868            6.0             0.220         0.25  ...       0.36      9.4        6\n",
              "3869            6.2             0.220         0.30  ...       0.47      9.5        6\n",
              "3871            6.5             0.270         0.19  ...       0.34     10.1        6\n",
              "3981            6.3             0.220         0.27  ...       0.76     10.7        7\n",
              "4179            6.9             0.240         0.40  ...       0.69      9.4        5\n",
              "4185            6.9             0.240         0.40  ...       0.69      9.4        5\n",
              "4745            6.1             0.260         0.25  ...       0.64     10.5        3\n",
              "4841            5.7             0.220         0.25  ...       0.62     11.1        6\n",
              "\n",
              "[50 rows x 12 columns]"
            ]
          },
          "metadata": {}
        },
        {
          "output_type": "stream",
          "name": "stdout",
          "text": [
            "Data points considered outliers for the feature 'total sulfur dioxide':\n"
          ]
        },
        {
          "output_type": "display_data",
          "data": {
            "text/html": [
              "<div>\n",
              "<style scoped>\n",
              "    .dataframe tbody tr th:only-of-type {\n",
              "        vertical-align: middle;\n",
              "    }\n",
              "\n",
              "    .dataframe tbody tr th {\n",
              "        vertical-align: top;\n",
              "    }\n",
              "\n",
              "    .dataframe thead th {\n",
              "        text-align: right;\n",
              "    }\n",
              "</style>\n",
              "<table border=\"1\" class=\"dataframe\">\n",
              "  <thead>\n",
              "    <tr style=\"text-align: right;\">\n",
              "      <th></th>\n",
              "      <th>fixed acidity</th>\n",
              "      <th>volatile acidity</th>\n",
              "      <th>citric acid</th>\n",
              "      <th>residual sugar</th>\n",
              "      <th>chlorides</th>\n",
              "      <th>free sulfur dioxide</th>\n",
              "      <th>total sulfur dioxide</th>\n",
              "      <th>density</th>\n",
              "      <th>pH</th>\n",
              "      <th>sulphates</th>\n",
              "      <th>alcohol</th>\n",
              "      <th>quality</th>\n",
              "    </tr>\n",
              "  </thead>\n",
              "  <tbody>\n",
              "    <tr>\n",
              "      <th>227</th>\n",
              "      <td>7.1</td>\n",
              "      <td>0.250</td>\n",
              "      <td>0.32</td>\n",
              "      <td>10.30</td>\n",
              "      <td>0.041</td>\n",
              "      <td>66.0</td>\n",
              "      <td>272.0</td>\n",
              "      <td>0.99690</td>\n",
              "      <td>3.17</td>\n",
              "      <td>0.52</td>\n",
              "      <td>9.1</td>\n",
              "      <td>6</td>\n",
              "    </tr>\n",
              "    <tr>\n",
              "      <th>325</th>\n",
              "      <td>7.5</td>\n",
              "      <td>0.270</td>\n",
              "      <td>0.31</td>\n",
              "      <td>5.80</td>\n",
              "      <td>0.057</td>\n",
              "      <td>131.0</td>\n",
              "      <td>313.0</td>\n",
              "      <td>0.99460</td>\n",
              "      <td>3.18</td>\n",
              "      <td>0.59</td>\n",
              "      <td>10.5</td>\n",
              "      <td>5</td>\n",
              "    </tr>\n",
              "    <tr>\n",
              "      <th>387</th>\n",
              "      <td>6.3</td>\n",
              "      <td>0.390</td>\n",
              "      <td>0.35</td>\n",
              "      <td>5.90</td>\n",
              "      <td>0.040</td>\n",
              "      <td>82.5</td>\n",
              "      <td>260.0</td>\n",
              "      <td>0.99410</td>\n",
              "      <td>3.12</td>\n",
              "      <td>0.66</td>\n",
              "      <td>10.1</td>\n",
              "      <td>5</td>\n",
              "    </tr>\n",
              "    <tr>\n",
              "      <th>740</th>\n",
              "      <td>6.9</td>\n",
              "      <td>0.390</td>\n",
              "      <td>0.40</td>\n",
              "      <td>4.60</td>\n",
              "      <td>0.022</td>\n",
              "      <td>5.0</td>\n",
              "      <td>19.0</td>\n",
              "      <td>0.99150</td>\n",
              "      <td>3.31</td>\n",
              "      <td>0.37</td>\n",
              "      <td>12.6</td>\n",
              "      <td>3</td>\n",
              "    </tr>\n",
              "    <tr>\n",
              "      <th>1417</th>\n",
              "      <td>8.6</td>\n",
              "      <td>0.550</td>\n",
              "      <td>0.35</td>\n",
              "      <td>15.55</td>\n",
              "      <td>0.057</td>\n",
              "      <td>35.5</td>\n",
              "      <td>366.5</td>\n",
              "      <td>1.00010</td>\n",
              "      <td>3.04</td>\n",
              "      <td>0.63</td>\n",
              "      <td>11.0</td>\n",
              "      <td>3</td>\n",
              "    </tr>\n",
              "    <tr>\n",
              "      <th>1931</th>\n",
              "      <td>7.1</td>\n",
              "      <td>0.490</td>\n",
              "      <td>0.22</td>\n",
              "      <td>2.00</td>\n",
              "      <td>0.047</td>\n",
              "      <td>146.5</td>\n",
              "      <td>307.5</td>\n",
              "      <td>0.99240</td>\n",
              "      <td>3.24</td>\n",
              "      <td>0.37</td>\n",
              "      <td>11.0</td>\n",
              "      <td>3</td>\n",
              "    </tr>\n",
              "    <tr>\n",
              "      <th>1940</th>\n",
              "      <td>8.3</td>\n",
              "      <td>0.360</td>\n",
              "      <td>0.57</td>\n",
              "      <td>15.00</td>\n",
              "      <td>0.052</td>\n",
              "      <td>35.0</td>\n",
              "      <td>256.0</td>\n",
              "      <td>1.00010</td>\n",
              "      <td>2.93</td>\n",
              "      <td>0.64</td>\n",
              "      <td>8.6</td>\n",
              "      <td>5</td>\n",
              "    </tr>\n",
              "    <tr>\n",
              "      <th>1942</th>\n",
              "      <td>8.3</td>\n",
              "      <td>0.360</td>\n",
              "      <td>0.57</td>\n",
              "      <td>15.00</td>\n",
              "      <td>0.052</td>\n",
              "      <td>35.0</td>\n",
              "      <td>256.0</td>\n",
              "      <td>1.00010</td>\n",
              "      <td>2.93</td>\n",
              "      <td>0.64</td>\n",
              "      <td>8.6</td>\n",
              "      <td>5</td>\n",
              "    </tr>\n",
              "    <tr>\n",
              "      <th>2127</th>\n",
              "      <td>9.1</td>\n",
              "      <td>0.330</td>\n",
              "      <td>0.38</td>\n",
              "      <td>1.70</td>\n",
              "      <td>0.062</td>\n",
              "      <td>50.5</td>\n",
              "      <td>344.0</td>\n",
              "      <td>0.99580</td>\n",
              "      <td>3.10</td>\n",
              "      <td>0.70</td>\n",
              "      <td>9.5</td>\n",
              "      <td>5</td>\n",
              "    </tr>\n",
              "    <tr>\n",
              "      <th>2378</th>\n",
              "      <td>9.4</td>\n",
              "      <td>0.230</td>\n",
              "      <td>0.56</td>\n",
              "      <td>16.45</td>\n",
              "      <td>0.063</td>\n",
              "      <td>52.5</td>\n",
              "      <td>282.0</td>\n",
              "      <td>1.00098</td>\n",
              "      <td>3.10</td>\n",
              "      <td>0.51</td>\n",
              "      <td>9.3</td>\n",
              "      <td>5</td>\n",
              "    </tr>\n",
              "    <tr>\n",
              "      <th>2654</th>\n",
              "      <td>6.9</td>\n",
              "      <td>0.400</td>\n",
              "      <td>0.22</td>\n",
              "      <td>5.95</td>\n",
              "      <td>0.081</td>\n",
              "      <td>76.0</td>\n",
              "      <td>303.0</td>\n",
              "      <td>0.99705</td>\n",
              "      <td>3.40</td>\n",
              "      <td>0.57</td>\n",
              "      <td>9.4</td>\n",
              "      <td>5</td>\n",
              "    </tr>\n",
              "    <tr>\n",
              "      <th>3050</th>\n",
              "      <td>6.2</td>\n",
              "      <td>0.255</td>\n",
              "      <td>0.24</td>\n",
              "      <td>1.70</td>\n",
              "      <td>0.039</td>\n",
              "      <td>138.5</td>\n",
              "      <td>272.0</td>\n",
              "      <td>0.99452</td>\n",
              "      <td>3.53</td>\n",
              "      <td>0.53</td>\n",
              "      <td>9.6</td>\n",
              "      <td>4</td>\n",
              "    </tr>\n",
              "    <tr>\n",
              "      <th>3094</th>\n",
              "      <td>9.7</td>\n",
              "      <td>0.240</td>\n",
              "      <td>0.49</td>\n",
              "      <td>4.90</td>\n",
              "      <td>0.032</td>\n",
              "      <td>3.0</td>\n",
              "      <td>18.0</td>\n",
              "      <td>0.99368</td>\n",
              "      <td>2.85</td>\n",
              "      <td>0.54</td>\n",
              "      <td>10.0</td>\n",
              "      <td>6</td>\n",
              "    </tr>\n",
              "    <tr>\n",
              "      <th>3095</th>\n",
              "      <td>9.7</td>\n",
              "      <td>0.240</td>\n",
              "      <td>0.49</td>\n",
              "      <td>4.90</td>\n",
              "      <td>0.032</td>\n",
              "      <td>3.0</td>\n",
              "      <td>18.0</td>\n",
              "      <td>0.99368</td>\n",
              "      <td>2.85</td>\n",
              "      <td>0.54</td>\n",
              "      <td>10.0</td>\n",
              "      <td>6</td>\n",
              "    </tr>\n",
              "    <tr>\n",
              "      <th>3152</th>\n",
              "      <td>7.6</td>\n",
              "      <td>0.250</td>\n",
              "      <td>1.23</td>\n",
              "      <td>4.60</td>\n",
              "      <td>0.035</td>\n",
              "      <td>51.0</td>\n",
              "      <td>294.0</td>\n",
              "      <td>0.99018</td>\n",
              "      <td>3.03</td>\n",
              "      <td>0.43</td>\n",
              "      <td>13.1</td>\n",
              "      <td>6</td>\n",
              "    </tr>\n",
              "    <tr>\n",
              "      <th>3710</th>\n",
              "      <td>4.7</td>\n",
              "      <td>0.670</td>\n",
              "      <td>0.09</td>\n",
              "      <td>1.00</td>\n",
              "      <td>0.020</td>\n",
              "      <td>5.0</td>\n",
              "      <td>9.0</td>\n",
              "      <td>0.98722</td>\n",
              "      <td>3.30</td>\n",
              "      <td>0.34</td>\n",
              "      <td>13.6</td>\n",
              "      <td>5</td>\n",
              "    </tr>\n",
              "    <tr>\n",
              "      <th>3901</th>\n",
              "      <td>4.8</td>\n",
              "      <td>0.650</td>\n",
              "      <td>0.12</td>\n",
              "      <td>1.10</td>\n",
              "      <td>0.013</td>\n",
              "      <td>4.0</td>\n",
              "      <td>10.0</td>\n",
              "      <td>0.99246</td>\n",
              "      <td>3.32</td>\n",
              "      <td>0.36</td>\n",
              "      <td>13.5</td>\n",
              "      <td>4</td>\n",
              "    </tr>\n",
              "    <tr>\n",
              "      <th>4514</th>\n",
              "      <td>6.1</td>\n",
              "      <td>0.400</td>\n",
              "      <td>0.18</td>\n",
              "      <td>9.00</td>\n",
              "      <td>0.051</td>\n",
              "      <td>28.5</td>\n",
              "      <td>259.0</td>\n",
              "      <td>0.99640</td>\n",
              "      <td>3.19</td>\n",
              "      <td>0.50</td>\n",
              "      <td>8.8</td>\n",
              "      <td>5</td>\n",
              "    </tr>\n",
              "    <tr>\n",
              "      <th>4745</th>\n",
              "      <td>6.1</td>\n",
              "      <td>0.260</td>\n",
              "      <td>0.25</td>\n",
              "      <td>2.90</td>\n",
              "      <td>0.047</td>\n",
              "      <td>289.0</td>\n",
              "      <td>440.0</td>\n",
              "      <td>0.99314</td>\n",
              "      <td>3.44</td>\n",
              "      <td>0.64</td>\n",
              "      <td>10.5</td>\n",
              "      <td>3</td>\n",
              "    </tr>\n",
              "  </tbody>\n",
              "</table>\n",
              "</div>"
            ],
            "text/plain": [
              "      fixed acidity  volatile acidity  citric acid  ...  sulphates  alcohol  quality\n",
              "227             7.1             0.250         0.32  ...       0.52      9.1        6\n",
              "325             7.5             0.270         0.31  ...       0.59     10.5        5\n",
              "387             6.3             0.390         0.35  ...       0.66     10.1        5\n",
              "740             6.9             0.390         0.40  ...       0.37     12.6        3\n",
              "1417            8.6             0.550         0.35  ...       0.63     11.0        3\n",
              "1931            7.1             0.490         0.22  ...       0.37     11.0        3\n",
              "1940            8.3             0.360         0.57  ...       0.64      8.6        5\n",
              "1942            8.3             0.360         0.57  ...       0.64      8.6        5\n",
              "2127            9.1             0.330         0.38  ...       0.70      9.5        5\n",
              "2378            9.4             0.230         0.56  ...       0.51      9.3        5\n",
              "2654            6.9             0.400         0.22  ...       0.57      9.4        5\n",
              "3050            6.2             0.255         0.24  ...       0.53      9.6        4\n",
              "3094            9.7             0.240         0.49  ...       0.54     10.0        6\n",
              "3095            9.7             0.240         0.49  ...       0.54     10.0        6\n",
              "3152            7.6             0.250         1.23  ...       0.43     13.1        6\n",
              "3710            4.7             0.670         0.09  ...       0.34     13.6        5\n",
              "3901            4.8             0.650         0.12  ...       0.36     13.5        4\n",
              "4514            6.1             0.400         0.18  ...       0.50      8.8        5\n",
              "4745            6.1             0.260         0.25  ...       0.64     10.5        3\n",
              "\n",
              "[19 rows x 12 columns]"
            ]
          },
          "metadata": {}
        },
        {
          "output_type": "stream",
          "name": "stdout",
          "text": [
            "Data points considered outliers for the feature 'density':\n"
          ]
        },
        {
          "output_type": "display_data",
          "data": {
            "text/html": [
              "<div>\n",
              "<style scoped>\n",
              "    .dataframe tbody tr th:only-of-type {\n",
              "        vertical-align: middle;\n",
              "    }\n",
              "\n",
              "    .dataframe tbody tr th {\n",
              "        vertical-align: top;\n",
              "    }\n",
              "\n",
              "    .dataframe thead th {\n",
              "        text-align: right;\n",
              "    }\n",
              "</style>\n",
              "<table border=\"1\" class=\"dataframe\">\n",
              "  <thead>\n",
              "    <tr style=\"text-align: right;\">\n",
              "      <th></th>\n",
              "      <th>fixed acidity</th>\n",
              "      <th>volatile acidity</th>\n",
              "      <th>citric acid</th>\n",
              "      <th>residual sugar</th>\n",
              "      <th>chlorides</th>\n",
              "      <th>free sulfur dioxide</th>\n",
              "      <th>total sulfur dioxide</th>\n",
              "      <th>density</th>\n",
              "      <th>pH</th>\n",
              "      <th>sulphates</th>\n",
              "      <th>alcohol</th>\n",
              "      <th>quality</th>\n",
              "    </tr>\n",
              "  </thead>\n",
              "  <tbody>\n",
              "    <tr>\n",
              "      <th>1653</th>\n",
              "      <td>7.9</td>\n",
              "      <td>0.330</td>\n",
              "      <td>0.28</td>\n",
              "      <td>31.60</td>\n",
              "      <td>0.053</td>\n",
              "      <td>35.0</td>\n",
              "      <td>176.0</td>\n",
              "      <td>1.01030</td>\n",
              "      <td>3.15</td>\n",
              "      <td>0.38</td>\n",
              "      <td>8.8</td>\n",
              "      <td>6</td>\n",
              "    </tr>\n",
              "    <tr>\n",
              "      <th>1663</th>\n",
              "      <td>7.9</td>\n",
              "      <td>0.330</td>\n",
              "      <td>0.28</td>\n",
              "      <td>31.60</td>\n",
              "      <td>0.053</td>\n",
              "      <td>35.0</td>\n",
              "      <td>176.0</td>\n",
              "      <td>1.01030</td>\n",
              "      <td>3.15</td>\n",
              "      <td>0.38</td>\n",
              "      <td>8.8</td>\n",
              "      <td>6</td>\n",
              "    </tr>\n",
              "    <tr>\n",
              "      <th>2781</th>\n",
              "      <td>7.8</td>\n",
              "      <td>0.965</td>\n",
              "      <td>0.60</td>\n",
              "      <td>65.80</td>\n",
              "      <td>0.074</td>\n",
              "      <td>8.0</td>\n",
              "      <td>160.0</td>\n",
              "      <td>1.03898</td>\n",
              "      <td>3.39</td>\n",
              "      <td>0.69</td>\n",
              "      <td>11.7</td>\n",
              "      <td>6</td>\n",
              "    </tr>\n",
              "    <tr>\n",
              "      <th>3619</th>\n",
              "      <td>6.8</td>\n",
              "      <td>0.450</td>\n",
              "      <td>0.28</td>\n",
              "      <td>26.05</td>\n",
              "      <td>0.031</td>\n",
              "      <td>27.0</td>\n",
              "      <td>122.0</td>\n",
              "      <td>1.00295</td>\n",
              "      <td>3.06</td>\n",
              "      <td>0.42</td>\n",
              "      <td>10.6</td>\n",
              "      <td>6</td>\n",
              "    </tr>\n",
              "    <tr>\n",
              "      <th>3623</th>\n",
              "      <td>6.8</td>\n",
              "      <td>0.450</td>\n",
              "      <td>0.28</td>\n",
              "      <td>26.05</td>\n",
              "      <td>0.031</td>\n",
              "      <td>27.0</td>\n",
              "      <td>122.0</td>\n",
              "      <td>1.00295</td>\n",
              "      <td>3.06</td>\n",
              "      <td>0.42</td>\n",
              "      <td>10.6</td>\n",
              "      <td>6</td>\n",
              "    </tr>\n",
              "  </tbody>\n",
              "</table>\n",
              "</div>"
            ],
            "text/plain": [
              "      fixed acidity  volatile acidity  citric acid  ...  sulphates  alcohol  quality\n",
              "1653            7.9             0.330         0.28  ...       0.38      8.8        6\n",
              "1663            7.9             0.330         0.28  ...       0.38      8.8        6\n",
              "2781            7.8             0.965         0.60  ...       0.69     11.7        6\n",
              "3619            6.8             0.450         0.28  ...       0.42     10.6        6\n",
              "3623            6.8             0.450         0.28  ...       0.42     10.6        6\n",
              "\n",
              "[5 rows x 12 columns]"
            ]
          },
          "metadata": {}
        },
        {
          "output_type": "stream",
          "name": "stdout",
          "text": [
            "Data points considered outliers for the feature 'pH':\n"
          ]
        },
        {
          "output_type": "display_data",
          "data": {
            "text/html": [
              "<div>\n",
              "<style scoped>\n",
              "    .dataframe tbody tr th:only-of-type {\n",
              "        vertical-align: middle;\n",
              "    }\n",
              "\n",
              "    .dataframe tbody tr th {\n",
              "        vertical-align: top;\n",
              "    }\n",
              "\n",
              "    .dataframe thead th {\n",
              "        text-align: right;\n",
              "    }\n",
              "</style>\n",
              "<table border=\"1\" class=\"dataframe\">\n",
              "  <thead>\n",
              "    <tr style=\"text-align: right;\">\n",
              "      <th></th>\n",
              "      <th>fixed acidity</th>\n",
              "      <th>volatile acidity</th>\n",
              "      <th>citric acid</th>\n",
              "      <th>residual sugar</th>\n",
              "      <th>chlorides</th>\n",
              "      <th>free sulfur dioxide</th>\n",
              "      <th>total sulfur dioxide</th>\n",
              "      <th>density</th>\n",
              "      <th>pH</th>\n",
              "      <th>sulphates</th>\n",
              "      <th>alcohol</th>\n",
              "      <th>quality</th>\n",
              "    </tr>\n",
              "  </thead>\n",
              "  <tbody>\n",
              "    <tr>\n",
              "      <th>72</th>\n",
              "      <td>6.0</td>\n",
              "      <td>0.270</td>\n",
              "      <td>0.28</td>\n",
              "      <td>4.8</td>\n",
              "      <td>0.063</td>\n",
              "      <td>31.0</td>\n",
              "      <td>201.0</td>\n",
              "      <td>0.99640</td>\n",
              "      <td>3.69</td>\n",
              "      <td>0.71</td>\n",
              "      <td>10.0</td>\n",
              "      <td>5</td>\n",
              "    </tr>\n",
              "    <tr>\n",
              "      <th>115</th>\n",
              "      <td>5.5</td>\n",
              "      <td>0.485</td>\n",
              "      <td>0.00</td>\n",
              "      <td>1.5</td>\n",
              "      <td>0.065</td>\n",
              "      <td>8.0</td>\n",
              "      <td>103.0</td>\n",
              "      <td>0.99400</td>\n",
              "      <td>3.63</td>\n",
              "      <td>0.40</td>\n",
              "      <td>9.7</td>\n",
              "      <td>4</td>\n",
              "    </tr>\n",
              "    <tr>\n",
              "      <th>250</th>\n",
              "      <td>5.9</td>\n",
              "      <td>0.210</td>\n",
              "      <td>0.28</td>\n",
              "      <td>4.6</td>\n",
              "      <td>0.053</td>\n",
              "      <td>40.0</td>\n",
              "      <td>199.0</td>\n",
              "      <td>0.99640</td>\n",
              "      <td>3.72</td>\n",
              "      <td>0.70</td>\n",
              "      <td>10.0</td>\n",
              "      <td>4</td>\n",
              "    </tr>\n",
              "    <tr>\n",
              "      <th>320</th>\n",
              "      <td>6.0</td>\n",
              "      <td>0.100</td>\n",
              "      <td>0.24</td>\n",
              "      <td>1.1</td>\n",
              "      <td>0.041</td>\n",
              "      <td>15.0</td>\n",
              "      <td>65.0</td>\n",
              "      <td>0.99270</td>\n",
              "      <td>3.61</td>\n",
              "      <td>0.61</td>\n",
              "      <td>10.3</td>\n",
              "      <td>7</td>\n",
              "    </tr>\n",
              "    <tr>\n",
              "      <th>507</th>\n",
              "      <td>6.0</td>\n",
              "      <td>0.240</td>\n",
              "      <td>0.27</td>\n",
              "      <td>1.9</td>\n",
              "      <td>0.048</td>\n",
              "      <td>40.0</td>\n",
              "      <td>170.0</td>\n",
              "      <td>0.99380</td>\n",
              "      <td>3.64</td>\n",
              "      <td>0.54</td>\n",
              "      <td>10.0</td>\n",
              "      <td>7</td>\n",
              "    </tr>\n",
              "    <tr>\n",
              "      <th>...</th>\n",
              "      <td>...</td>\n",
              "      <td>...</td>\n",
              "      <td>...</td>\n",
              "      <td>...</td>\n",
              "      <td>...</td>\n",
              "      <td>...</td>\n",
              "      <td>...</td>\n",
              "      <td>...</td>\n",
              "      <td>...</td>\n",
              "      <td>...</td>\n",
              "      <td>...</td>\n",
              "      <td>...</td>\n",
              "    </tr>\n",
              "    <tr>\n",
              "      <th>4565</th>\n",
              "      <td>5.8</td>\n",
              "      <td>0.280</td>\n",
              "      <td>0.66</td>\n",
              "      <td>9.1</td>\n",
              "      <td>0.039</td>\n",
              "      <td>26.0</td>\n",
              "      <td>159.0</td>\n",
              "      <td>0.99650</td>\n",
              "      <td>3.66</td>\n",
              "      <td>0.55</td>\n",
              "      <td>10.8</td>\n",
              "      <td>5</td>\n",
              "    </tr>\n",
              "    <tr>\n",
              "      <th>4567</th>\n",
              "      <td>5.8</td>\n",
              "      <td>0.280</td>\n",
              "      <td>0.66</td>\n",
              "      <td>9.1</td>\n",
              "      <td>0.039</td>\n",
              "      <td>26.0</td>\n",
              "      <td>159.0</td>\n",
              "      <td>0.99650</td>\n",
              "      <td>3.66</td>\n",
              "      <td>0.55</td>\n",
              "      <td>10.8</td>\n",
              "      <td>5</td>\n",
              "    </tr>\n",
              "    <tr>\n",
              "      <th>4601</th>\n",
              "      <td>6.9</td>\n",
              "      <td>0.230</td>\n",
              "      <td>0.35</td>\n",
              "      <td>6.9</td>\n",
              "      <td>0.030</td>\n",
              "      <td>45.0</td>\n",
              "      <td>116.0</td>\n",
              "      <td>0.99244</td>\n",
              "      <td>2.80</td>\n",
              "      <td>0.54</td>\n",
              "      <td>11.0</td>\n",
              "      <td>6</td>\n",
              "    </tr>\n",
              "    <tr>\n",
              "      <th>4744</th>\n",
              "      <td>5.0</td>\n",
              "      <td>0.240</td>\n",
              "      <td>0.19</td>\n",
              "      <td>5.0</td>\n",
              "      <td>0.043</td>\n",
              "      <td>17.0</td>\n",
              "      <td>101.0</td>\n",
              "      <td>0.99438</td>\n",
              "      <td>3.67</td>\n",
              "      <td>0.57</td>\n",
              "      <td>10.0</td>\n",
              "      <td>5</td>\n",
              "    </tr>\n",
              "    <tr>\n",
              "      <th>4787</th>\n",
              "      <td>3.9</td>\n",
              "      <td>0.225</td>\n",
              "      <td>0.40</td>\n",
              "      <td>4.2</td>\n",
              "      <td>0.030</td>\n",
              "      <td>29.0</td>\n",
              "      <td>118.0</td>\n",
              "      <td>0.98900</td>\n",
              "      <td>3.57</td>\n",
              "      <td>0.36</td>\n",
              "      <td>12.8</td>\n",
              "      <td>8</td>\n",
              "    </tr>\n",
              "  </tbody>\n",
              "</table>\n",
              "<p>75 rows × 12 columns</p>\n",
              "</div>"
            ],
            "text/plain": [
              "      fixed acidity  volatile acidity  citric acid  ...  sulphates  alcohol  quality\n",
              "72              6.0             0.270         0.28  ...       0.71     10.0        5\n",
              "115             5.5             0.485         0.00  ...       0.40      9.7        4\n",
              "250             5.9             0.210         0.28  ...       0.70     10.0        4\n",
              "320             6.0             0.100         0.24  ...       0.61     10.3        7\n",
              "507             6.0             0.240         0.27  ...       0.54     10.0        7\n",
              "...             ...               ...          ...  ...        ...      ...      ...\n",
              "4565            5.8             0.280         0.66  ...       0.55     10.8        5\n",
              "4567            5.8             0.280         0.66  ...       0.55     10.8        5\n",
              "4601            6.9             0.230         0.35  ...       0.54     11.0        6\n",
              "4744            5.0             0.240         0.19  ...       0.57     10.0        5\n",
              "4787            3.9             0.225         0.40  ...       0.36     12.8        8\n",
              "\n",
              "[75 rows x 12 columns]"
            ]
          },
          "metadata": {}
        },
        {
          "output_type": "stream",
          "name": "stdout",
          "text": [
            "Data points considered outliers for the feature 'sulphates':\n"
          ]
        },
        {
          "output_type": "display_data",
          "data": {
            "text/html": [
              "<div>\n",
              "<style scoped>\n",
              "    .dataframe tbody tr th:only-of-type {\n",
              "        vertical-align: middle;\n",
              "    }\n",
              "\n",
              "    .dataframe tbody tr th {\n",
              "        vertical-align: top;\n",
              "    }\n",
              "\n",
              "    .dataframe thead th {\n",
              "        text-align: right;\n",
              "    }\n",
              "</style>\n",
              "<table border=\"1\" class=\"dataframe\">\n",
              "  <thead>\n",
              "    <tr style=\"text-align: right;\">\n",
              "      <th></th>\n",
              "      <th>fixed acidity</th>\n",
              "      <th>volatile acidity</th>\n",
              "      <th>citric acid</th>\n",
              "      <th>residual sugar</th>\n",
              "      <th>chlorides</th>\n",
              "      <th>free sulfur dioxide</th>\n",
              "      <th>total sulfur dioxide</th>\n",
              "      <th>density</th>\n",
              "      <th>pH</th>\n",
              "      <th>sulphates</th>\n",
              "      <th>alcohol</th>\n",
              "      <th>quality</th>\n",
              "    </tr>\n",
              "  </thead>\n",
              "  <tbody>\n",
              "    <tr>\n",
              "      <th>80</th>\n",
              "      <td>6.8</td>\n",
              "      <td>0.220</td>\n",
              "      <td>0.31</td>\n",
              "      <td>1.4</td>\n",
              "      <td>0.053</td>\n",
              "      <td>34.0</td>\n",
              "      <td>114.0</td>\n",
              "      <td>0.99290</td>\n",
              "      <td>3.39</td>\n",
              "      <td>0.77</td>\n",
              "      <td>10.600000</td>\n",
              "      <td>6</td>\n",
              "    </tr>\n",
              "    <tr>\n",
              "      <th>154</th>\n",
              "      <td>8.2</td>\n",
              "      <td>0.230</td>\n",
              "      <td>0.40</td>\n",
              "      <td>7.5</td>\n",
              "      <td>0.049</td>\n",
              "      <td>12.0</td>\n",
              "      <td>76.0</td>\n",
              "      <td>0.99660</td>\n",
              "      <td>3.06</td>\n",
              "      <td>0.84</td>\n",
              "      <td>9.700000</td>\n",
              "      <td>6</td>\n",
              "    </tr>\n",
              "    <tr>\n",
              "      <th>209</th>\n",
              "      <td>6.1</td>\n",
              "      <td>0.400</td>\n",
              "      <td>0.31</td>\n",
              "      <td>0.9</td>\n",
              "      <td>0.048</td>\n",
              "      <td>23.0</td>\n",
              "      <td>170.0</td>\n",
              "      <td>0.99300</td>\n",
              "      <td>3.22</td>\n",
              "      <td>0.77</td>\n",
              "      <td>9.500000</td>\n",
              "      <td>6</td>\n",
              "    </tr>\n",
              "    <tr>\n",
              "      <th>245</th>\n",
              "      <td>6.1</td>\n",
              "      <td>0.180</td>\n",
              "      <td>0.36</td>\n",
              "      <td>2.0</td>\n",
              "      <td>0.038</td>\n",
              "      <td>20.0</td>\n",
              "      <td>249.5</td>\n",
              "      <td>0.99230</td>\n",
              "      <td>3.37</td>\n",
              "      <td>0.79</td>\n",
              "      <td>11.300000</td>\n",
              "      <td>6</td>\n",
              "    </tr>\n",
              "    <tr>\n",
              "      <th>339</th>\n",
              "      <td>6.6</td>\n",
              "      <td>0.180</td>\n",
              "      <td>0.35</td>\n",
              "      <td>1.5</td>\n",
              "      <td>0.049</td>\n",
              "      <td>49.0</td>\n",
              "      <td>141.0</td>\n",
              "      <td>0.99340</td>\n",
              "      <td>3.43</td>\n",
              "      <td>0.85</td>\n",
              "      <td>10.200000</td>\n",
              "      <td>7</td>\n",
              "    </tr>\n",
              "    <tr>\n",
              "      <th>...</th>\n",
              "      <td>...</td>\n",
              "      <td>...</td>\n",
              "      <td>...</td>\n",
              "      <td>...</td>\n",
              "      <td>...</td>\n",
              "      <td>...</td>\n",
              "      <td>...</td>\n",
              "      <td>...</td>\n",
              "      <td>...</td>\n",
              "      <td>...</td>\n",
              "      <td>...</td>\n",
              "      <td>...</td>\n",
              "    </tr>\n",
              "    <tr>\n",
              "      <th>4792</th>\n",
              "      <td>4.7</td>\n",
              "      <td>0.785</td>\n",
              "      <td>0.00</td>\n",
              "      <td>3.4</td>\n",
              "      <td>0.036</td>\n",
              "      <td>23.0</td>\n",
              "      <td>134.0</td>\n",
              "      <td>0.98981</td>\n",
              "      <td>3.53</td>\n",
              "      <td>0.92</td>\n",
              "      <td>13.800000</td>\n",
              "      <td>6</td>\n",
              "    </tr>\n",
              "    <tr>\n",
              "      <th>4815</th>\n",
              "      <td>6.2</td>\n",
              "      <td>0.760</td>\n",
              "      <td>0.01</td>\n",
              "      <td>3.2</td>\n",
              "      <td>0.041</td>\n",
              "      <td>18.0</td>\n",
              "      <td>120.0</td>\n",
              "      <td>0.99026</td>\n",
              "      <td>3.20</td>\n",
              "      <td>0.94</td>\n",
              "      <td>13.700000</td>\n",
              "      <td>7</td>\n",
              "    </tr>\n",
              "    <tr>\n",
              "      <th>4818</th>\n",
              "      <td>6.0</td>\n",
              "      <td>0.270</td>\n",
              "      <td>0.40</td>\n",
              "      <td>1.7</td>\n",
              "      <td>0.021</td>\n",
              "      <td>18.0</td>\n",
              "      <td>82.0</td>\n",
              "      <td>0.98910</td>\n",
              "      <td>3.24</td>\n",
              "      <td>0.95</td>\n",
              "      <td>13.133333</td>\n",
              "      <td>6</td>\n",
              "    </tr>\n",
              "    <tr>\n",
              "      <th>4886</th>\n",
              "      <td>6.2</td>\n",
              "      <td>0.210</td>\n",
              "      <td>0.28</td>\n",
              "      <td>5.7</td>\n",
              "      <td>0.028</td>\n",
              "      <td>45.0</td>\n",
              "      <td>121.0</td>\n",
              "      <td>0.99168</td>\n",
              "      <td>3.21</td>\n",
              "      <td>1.08</td>\n",
              "      <td>12.150000</td>\n",
              "      <td>7</td>\n",
              "    </tr>\n",
              "    <tr>\n",
              "      <th>4887</th>\n",
              "      <td>6.2</td>\n",
              "      <td>0.410</td>\n",
              "      <td>0.22</td>\n",
              "      <td>1.9</td>\n",
              "      <td>0.023</td>\n",
              "      <td>5.0</td>\n",
              "      <td>56.0</td>\n",
              "      <td>0.98928</td>\n",
              "      <td>3.04</td>\n",
              "      <td>0.79</td>\n",
              "      <td>13.000000</td>\n",
              "      <td>7</td>\n",
              "    </tr>\n",
              "  </tbody>\n",
              "</table>\n",
              "<p>124 rows × 12 columns</p>\n",
              "</div>"
            ],
            "text/plain": [
              "      fixed acidity  volatile acidity  ...    alcohol  quality\n",
              "80              6.8             0.220  ...  10.600000        6\n",
              "154             8.2             0.230  ...   9.700000        6\n",
              "209             6.1             0.400  ...   9.500000        6\n",
              "245             6.1             0.180  ...  11.300000        6\n",
              "339             6.6             0.180  ...  10.200000        7\n",
              "...             ...               ...  ...        ...      ...\n",
              "4792            4.7             0.785  ...  13.800000        6\n",
              "4815            6.2             0.760  ...  13.700000        7\n",
              "4818            6.0             0.270  ...  13.133333        6\n",
              "4886            6.2             0.210  ...  12.150000        7\n",
              "4887            6.2             0.410  ...  13.000000        7\n",
              "\n",
              "[124 rows x 12 columns]"
            ]
          },
          "metadata": {}
        },
        {
          "output_type": "stream",
          "name": "stdout",
          "text": [
            "Data points considered outliers for the feature 'alcohol':\n"
          ]
        },
        {
          "output_type": "display_data",
          "data": {
            "text/html": [
              "<div>\n",
              "<style scoped>\n",
              "    .dataframe tbody tr th:only-of-type {\n",
              "        vertical-align: middle;\n",
              "    }\n",
              "\n",
              "    .dataframe tbody tr th {\n",
              "        vertical-align: top;\n",
              "    }\n",
              "\n",
              "    .dataframe thead th {\n",
              "        text-align: right;\n",
              "    }\n",
              "</style>\n",
              "<table border=\"1\" class=\"dataframe\">\n",
              "  <thead>\n",
              "    <tr style=\"text-align: right;\">\n",
              "      <th></th>\n",
              "      <th>fixed acidity</th>\n",
              "      <th>volatile acidity</th>\n",
              "      <th>citric acid</th>\n",
              "      <th>residual sugar</th>\n",
              "      <th>chlorides</th>\n",
              "      <th>free sulfur dioxide</th>\n",
              "      <th>total sulfur dioxide</th>\n",
              "      <th>density</th>\n",
              "      <th>pH</th>\n",
              "      <th>sulphates</th>\n",
              "      <th>alcohol</th>\n",
              "      <th>quality</th>\n",
              "    </tr>\n",
              "  </thead>\n",
              "  <tbody>\n",
              "  </tbody>\n",
              "</table>\n",
              "</div>"
            ],
            "text/plain": [
              "Empty DataFrame\n",
              "Columns: [fixed acidity, volatile acidity, citric acid, residual sugar, chlorides, free sulfur dioxide, total sulfur dioxide, density, pH, sulphates, alcohol, quality]\n",
              "Index: []"
            ]
          },
          "metadata": {}
        },
        {
          "output_type": "stream",
          "name": "stdout",
          "text": [
            "Data points considered outliers for the feature 'quality':\n"
          ]
        },
        {
          "output_type": "display_data",
          "data": {
            "text/html": [
              "<div>\n",
              "<style scoped>\n",
              "    .dataframe tbody tr th:only-of-type {\n",
              "        vertical-align: middle;\n",
              "    }\n",
              "\n",
              "    .dataframe tbody tr th {\n",
              "        vertical-align: top;\n",
              "    }\n",
              "\n",
              "    .dataframe thead th {\n",
              "        text-align: right;\n",
              "    }\n",
              "</style>\n",
              "<table border=\"1\" class=\"dataframe\">\n",
              "  <thead>\n",
              "    <tr style=\"text-align: right;\">\n",
              "      <th></th>\n",
              "      <th>fixed acidity</th>\n",
              "      <th>volatile acidity</th>\n",
              "      <th>citric acid</th>\n",
              "      <th>residual sugar</th>\n",
              "      <th>chlorides</th>\n",
              "      <th>free sulfur dioxide</th>\n",
              "      <th>total sulfur dioxide</th>\n",
              "      <th>density</th>\n",
              "      <th>pH</th>\n",
              "      <th>sulphates</th>\n",
              "      <th>alcohol</th>\n",
              "      <th>quality</th>\n",
              "    </tr>\n",
              "  </thead>\n",
              "  <tbody>\n",
              "    <tr>\n",
              "      <th>17</th>\n",
              "      <td>6.2</td>\n",
              "      <td>0.660</td>\n",
              "      <td>0.48</td>\n",
              "      <td>1.2</td>\n",
              "      <td>0.029</td>\n",
              "      <td>29.0</td>\n",
              "      <td>75.0</td>\n",
              "      <td>0.98920</td>\n",
              "      <td>3.33</td>\n",
              "      <td>0.39</td>\n",
              "      <td>12.8</td>\n",
              "      <td>8</td>\n",
              "    </tr>\n",
              "    <tr>\n",
              "      <th>20</th>\n",
              "      <td>6.2</td>\n",
              "      <td>0.660</td>\n",
              "      <td>0.48</td>\n",
              "      <td>1.2</td>\n",
              "      <td>0.029</td>\n",
              "      <td>29.0</td>\n",
              "      <td>75.0</td>\n",
              "      <td>0.98920</td>\n",
              "      <td>3.33</td>\n",
              "      <td>0.39</td>\n",
              "      <td>12.8</td>\n",
              "      <td>8</td>\n",
              "    </tr>\n",
              "    <tr>\n",
              "      <th>22</th>\n",
              "      <td>6.8</td>\n",
              "      <td>0.260</td>\n",
              "      <td>0.42</td>\n",
              "      <td>1.7</td>\n",
              "      <td>0.049</td>\n",
              "      <td>41.0</td>\n",
              "      <td>122.0</td>\n",
              "      <td>0.99300</td>\n",
              "      <td>3.47</td>\n",
              "      <td>0.48</td>\n",
              "      <td>10.5</td>\n",
              "      <td>8</td>\n",
              "    </tr>\n",
              "    <tr>\n",
              "      <th>68</th>\n",
              "      <td>6.7</td>\n",
              "      <td>0.230</td>\n",
              "      <td>0.31</td>\n",
              "      <td>2.1</td>\n",
              "      <td>0.046</td>\n",
              "      <td>30.0</td>\n",
              "      <td>96.0</td>\n",
              "      <td>0.99260</td>\n",
              "      <td>3.33</td>\n",
              "      <td>0.64</td>\n",
              "      <td>10.7</td>\n",
              "      <td>8</td>\n",
              "    </tr>\n",
              "    <tr>\n",
              "      <th>74</th>\n",
              "      <td>6.7</td>\n",
              "      <td>0.230</td>\n",
              "      <td>0.31</td>\n",
              "      <td>2.1</td>\n",
              "      <td>0.046</td>\n",
              "      <td>30.0</td>\n",
              "      <td>96.0</td>\n",
              "      <td>0.99260</td>\n",
              "      <td>3.33</td>\n",
              "      <td>0.64</td>\n",
              "      <td>10.7</td>\n",
              "      <td>8</td>\n",
              "    </tr>\n",
              "    <tr>\n",
              "      <th>...</th>\n",
              "      <td>...</td>\n",
              "      <td>...</td>\n",
              "      <td>...</td>\n",
              "      <td>...</td>\n",
              "      <td>...</td>\n",
              "      <td>...</td>\n",
              "      <td>...</td>\n",
              "      <td>...</td>\n",
              "      <td>...</td>\n",
              "      <td>...</td>\n",
              "      <td>...</td>\n",
              "      <td>...</td>\n",
              "    </tr>\n",
              "    <tr>\n",
              "      <th>4765</th>\n",
              "      <td>5.2</td>\n",
              "      <td>0.300</td>\n",
              "      <td>0.34</td>\n",
              "      <td>1.5</td>\n",
              "      <td>0.038</td>\n",
              "      <td>18.0</td>\n",
              "      <td>96.0</td>\n",
              "      <td>0.98942</td>\n",
              "      <td>3.56</td>\n",
              "      <td>0.48</td>\n",
              "      <td>13.0</td>\n",
              "      <td>8</td>\n",
              "    </tr>\n",
              "    <tr>\n",
              "      <th>4766</th>\n",
              "      <td>6.4</td>\n",
              "      <td>0.320</td>\n",
              "      <td>0.25</td>\n",
              "      <td>5.0</td>\n",
              "      <td>0.055</td>\n",
              "      <td>28.0</td>\n",
              "      <td>138.0</td>\n",
              "      <td>0.99171</td>\n",
              "      <td>3.27</td>\n",
              "      <td>0.50</td>\n",
              "      <td>12.4</td>\n",
              "      <td>8</td>\n",
              "    </tr>\n",
              "    <tr>\n",
              "      <th>4786</th>\n",
              "      <td>4.4</td>\n",
              "      <td>0.320</td>\n",
              "      <td>0.39</td>\n",
              "      <td>4.3</td>\n",
              "      <td>0.030</td>\n",
              "      <td>31.0</td>\n",
              "      <td>127.0</td>\n",
              "      <td>0.98904</td>\n",
              "      <td>3.46</td>\n",
              "      <td>0.36</td>\n",
              "      <td>12.8</td>\n",
              "      <td>8</td>\n",
              "    </tr>\n",
              "    <tr>\n",
              "      <th>4787</th>\n",
              "      <td>3.9</td>\n",
              "      <td>0.225</td>\n",
              "      <td>0.40</td>\n",
              "      <td>4.2</td>\n",
              "      <td>0.030</td>\n",
              "      <td>29.0</td>\n",
              "      <td>118.0</td>\n",
              "      <td>0.98900</td>\n",
              "      <td>3.57</td>\n",
              "      <td>0.36</td>\n",
              "      <td>12.8</td>\n",
              "      <td>8</td>\n",
              "    </tr>\n",
              "    <tr>\n",
              "      <th>4802</th>\n",
              "      <td>5.8</td>\n",
              "      <td>0.280</td>\n",
              "      <td>0.34</td>\n",
              "      <td>2.2</td>\n",
              "      <td>0.037</td>\n",
              "      <td>24.0</td>\n",
              "      <td>125.0</td>\n",
              "      <td>0.98986</td>\n",
              "      <td>3.36</td>\n",
              "      <td>0.33</td>\n",
              "      <td>12.8</td>\n",
              "      <td>8</td>\n",
              "    </tr>\n",
              "  </tbody>\n",
              "</table>\n",
              "<p>200 rows × 12 columns</p>\n",
              "</div>"
            ],
            "text/plain": [
              "      fixed acidity  volatile acidity  citric acid  ...  sulphates  alcohol  quality\n",
              "17              6.2             0.660         0.48  ...       0.39     12.8        8\n",
              "20              6.2             0.660         0.48  ...       0.39     12.8        8\n",
              "22              6.8             0.260         0.42  ...       0.48     10.5        8\n",
              "68              6.7             0.230         0.31  ...       0.64     10.7        8\n",
              "74              6.7             0.230         0.31  ...       0.64     10.7        8\n",
              "...             ...               ...          ...  ...        ...      ...      ...\n",
              "4765            5.2             0.300         0.34  ...       0.48     13.0        8\n",
              "4766            6.4             0.320         0.25  ...       0.50     12.4        8\n",
              "4786            4.4             0.320         0.39  ...       0.36     12.8        8\n",
              "4787            3.9             0.225         0.40  ...       0.36     12.8        8\n",
              "4802            5.8             0.280         0.34  ...       0.33     12.8        8\n",
              "\n",
              "[200 rows x 12 columns]"
            ]
          },
          "metadata": {}
        }
      ]
    },
    {
      "cell_type": "markdown",
      "metadata": {
        "id": "Fx1Az0Jh92vX"
      },
      "source": [
        "Now I can plot a heatmap of co-relations between features (after outliers extraction), which will help me to get more insights."
      ]
    },
    {
      "cell_type": "code",
      "metadata": {
        "colab": {
          "base_uri": "https://localhost:8080/",
          "height": 800
        },
        "id": "2k21U7-39VxF",
        "outputId": "78b17516-948a-4d3b-8d8a-18cb87c2b769"
      },
      "source": [
        "correlation = good_wine_white.corr()\n",
        "# display(correlation)\n",
        "plt.figure(figsize=(14, 12))\n",
        "heatmap = sns.heatmap(correlation, annot=True, linewidths=0, vmin=-1, cmap=\"RdBu_r\")"
      ],
      "execution_count": null,
      "outputs": [
        {
          "output_type": "display_data",
          "data": {
            "image/png": "[encoded data removed]",
            "text/plain": [
              "<Figure size 1008x864 with 2 Axes>"
            ]
          },
          "metadata": {}
        }
      ]
    },
    {
      "cell_type": "markdown",
      "metadata": {
        "id": "ILFNCBN8_RS2"
      },
      "source": [
        "Next I explore these co-relationships in more detail. Firstly I visualize relationships of **discrete values** better with **a bar plots**.\n",
        "\n",
        "##**Bar plots of discrete features**"
      ]
    },
    {
      "cell_type": "code",
      "metadata": {
        "colab": {
          "base_uri": "https://localhost:8080/",
          "height": 410
        },
        "id": "Fcy9RpJF_UG4",
        "outputId": "491733ef-d1e5-4ff5-a74b-32c37a172998"
      },
      "source": [
        "volatileAcidity_quality = good_wine_white[['quality', 'volatile acidity']]\n",
        "fig, axs = plt.subplots(ncols=1,figsize=(10,6));\n",
        "sns.barplot(x='quality', y='volatile acidity', data=volatileAcidity_quality, ax=axs);\n",
        "plt.title('quality versus volatile acidity');"
      ],
      "execution_count": null,
      "outputs": [
        {
          "output_type": "display_data",
          "data": {
            "image/png": "[encoded data removed]",
            "text/plain": [
              "<Figure size 720x432 with 1 Axes>"
            ]
          },
          "metadata": {}
        }
      ]
    },
    {
      "cell_type": "markdown",
      "metadata": {
        "id": "0IxOLJH3A2Ij"
      },
      "source": [
        "A higher quality is usually associated with low volatile acidity levels. This makes sense, because volatile acidity is an indicator of spoilage and could give rise to unpleasant aromas — consistent with my domain knowledge."
      ]
    },
    {
      "cell_type": "code",
      "metadata": {
        "colab": {
          "base_uri": "https://localhost:8080/",
          "height": 410
        },
        "id": "210fwPttA6-W",
        "outputId": "e43e17d6-1bf1-49bc-a188-7eab20748723"
      },
      "source": [
        "Alcohol_quality = good_wine_white[['quality', 'alcohol']]\n",
        "fig, axs = plt.subplots(ncols=1,figsize=(10,6));\n",
        "sns.barplot(x='quality', y='alcohol', data=Alcohol_quality, ax=axs);\n",
        "plt.title('quality versus alcohol');"
      ],
      "execution_count": null,
      "outputs": [
        {
          "output_type": "display_data",
          "data": {
            "image/png": "[encoded data removed]",
            "text/plain": [
              "<Figure size 720x432 with 1 Axes>"
            ]
          },
          "metadata": {}
        }
      ]
    },
    {
      "cell_type": "markdown",
      "metadata": {
        "id": "MS-zJc_ABfw2"
      },
      "source": [
        "A higher quality is usually associated with high alcohol levels. This makes sense, because most people generally like wines that contain a higher percentage of alcohol.\n",
        "\n",
        "Secondly I visualize relationships of **continuous values** better with a **scatter plots**.\n",
        "\n",
        "## **Scater plots of continuous features**"
      ]
    },
    {
      "cell_type": "code",
      "metadata": {
        "colab": {
          "base_uri": "https://localhost:8080/",
          "height": 437
        },
        "id": "vjvSmJgaBsTM",
        "outputId": "1a1fb430-600c-433d-f4e2-1bdcd6d3a0a8"
      },
      "source": [
        "#Create a new dataframe containing only density and residual sugar columns to visualize their co-relations\n",
        "Density_residualSugar = good_wine_white[['density', 'residual sugar']]\n",
        "\n",
        "#Initialize a joint-grid with the dataframe, using seaborn library\n",
        "gridD = sns.JointGrid(x=\"density\", y=\"residual sugar\", data=Density_residualSugar, height=6)\n",
        "\n",
        "#Draws a regression plot in the grid\n",
        "gridD = gridD.plot_joint(sns.regplot, scatter_kws={\"s\": 10})\n",
        "\n",
        "#Draws a distribution plot in the same grid\n",
        "gridD = gridD.plot_marginals(sns.distplot)"
      ],
      "execution_count": null,
      "outputs": [
        {
          "output_type": "display_data",
          "data": {
            "image/png": "[encoded data removed]",
            "text/plain": [
              "<Figure size 432x432 with 3 Axes>"
            ]
          },
          "metadata": {}
        }
      ]
    },
    {
      "cell_type": "markdown",
      "metadata": {
        "id": "Q1ImGfxNFNMI"
      },
      "source": [
        "**This scatter-plot** shows how the values of **residual sugar** change with changing **density** levels. One can see that, as density levels increase, the residual sugar levels also increase. It is true, since sweeter wines generally have higher densities."
      ]
    },
    {
      "cell_type": "code",
      "metadata": {
        "colab": {
          "base_uri": "https://localhost:8080/",
          "height": 437
        },
        "id": "3dAoDdCVDCkf",
        "outputId": "fedcdd52-d4c5-447f-c675-581a5db08c1a"
      },
      "source": [
        "#Create a new dataframe containing only density and alcohol columns to visualize their co-relations\n",
        "Density_alcohol = good_wine_white[['density', 'alcohol']]\n",
        "\n",
        "#Initialize a joint-grid with the dataframe, using seaborn library\n",
        "gridD = sns.JointGrid(x=\"density\", y=\"alcohol\", data=Density_alcohol, height=6)\n",
        "\n",
        "#Draws a regression plot in the grid\n",
        "gridD = gridD.plot_joint(sns.regplot, scatter_kws={\"s\": 10})\n",
        "\n",
        "#Draws a distribution plot in the same grid\n",
        "gridD = gridD.plot_marginals(sns.distplot)"
      ],
      "execution_count": null,
      "outputs": [
        {
          "output_type": "display_data",
          "data": {
            "image/png": "[encoded data removed]",
            "text/plain": [
              "<Figure size 432x432 with 3 Axes>"
            ]
          },
          "metadata": {}
        }
      ]
    },
    {
      "cell_type": "markdown",
      "metadata": {
        "id": "XIDTP0LjFhVn"
      },
      "source": [
        "**This scatter-plot** shows how the values of **alcohol** change with changing **density** levels. One can see that, as density levels increase, the alcohol levels drop, what is true."
      ]
    },
    {
      "cell_type": "markdown",
      "metadata": {
        "id": "HPKNJMTzIM3J"
      },
      "source": [
        "##**Preparation of a dataset to use a ML models**"
      ]
    },
    {
      "cell_type": "code",
      "metadata": {
        "id": "0d08W3OcF6J4"
      },
      "source": [
        "def quality(row):\n",
        "  if row < 5:\n",
        "    return '0'\n",
        "  elif row > 6:\n",
        "    return '2'\n",
        "  else:\n",
        "    return '1'"
      ],
      "execution_count": null,
      "outputs": []
    },
    {
      "cell_type": "code",
      "metadata": {
        "colab": {
          "base_uri": "https://localhost:8080/",
          "height": 694
        },
        "id": "Lw6FJ4JIGMUj",
        "outputId": "e3628a46-2ccb-431e-98a8-df2899559dd2"
      },
      "source": [
        "good_wine_white['quality'] = good_wine_white['quality'].apply(quality)\n",
        "good_wine_white.head(20)"
      ],
      "execution_count": null,
      "outputs": [
        {
          "output_type": "execute_result",
          "data": {
            "text/html": [
              "<div>\n",
              "<style scoped>\n",
              "    .dataframe tbody tr th:only-of-type {\n",
              "        vertical-align: middle;\n",
              "    }\n",
              "\n",
              "    .dataframe tbody tr th {\n",
              "        vertical-align: top;\n",
              "    }\n",
              "\n",
              "    .dataframe thead th {\n",
              "        text-align: right;\n",
              "    }\n",
              "</style>\n",
              "<table border=\"1\" class=\"dataframe\">\n",
              "  <thead>\n",
              "    <tr style=\"text-align: right;\">\n",
              "      <th></th>\n",
              "      <th>fixed acidity</th>\n",
              "      <th>volatile acidity</th>\n",
              "      <th>citric acid</th>\n",
              "      <th>residual sugar</th>\n",
              "      <th>chlorides</th>\n",
              "      <th>free sulfur dioxide</th>\n",
              "      <th>total sulfur dioxide</th>\n",
              "      <th>density</th>\n",
              "      <th>pH</th>\n",
              "      <th>sulphates</th>\n",
              "      <th>alcohol</th>\n",
              "      <th>quality</th>\n",
              "    </tr>\n",
              "  </thead>\n",
              "  <tbody>\n",
              "    <tr>\n",
              "      <th>0</th>\n",
              "      <td>7.0</td>\n",
              "      <td>0.27</td>\n",
              "      <td>0.36</td>\n",
              "      <td>20.70</td>\n",
              "      <td>0.045</td>\n",
              "      <td>45.0</td>\n",
              "      <td>170.0</td>\n",
              "      <td>1.0010</td>\n",
              "      <td>3.00</td>\n",
              "      <td>0.45</td>\n",
              "      <td>8.8</td>\n",
              "      <td>1</td>\n",
              "    </tr>\n",
              "    <tr>\n",
              "      <th>1</th>\n",
              "      <td>6.3</td>\n",
              "      <td>0.30</td>\n",
              "      <td>0.34</td>\n",
              "      <td>1.60</td>\n",
              "      <td>0.049</td>\n",
              "      <td>14.0</td>\n",
              "      <td>132.0</td>\n",
              "      <td>0.9940</td>\n",
              "      <td>3.30</td>\n",
              "      <td>0.49</td>\n",
              "      <td>9.5</td>\n",
              "      <td>1</td>\n",
              "    </tr>\n",
              "    <tr>\n",
              "      <th>2</th>\n",
              "      <td>8.1</td>\n",
              "      <td>0.28</td>\n",
              "      <td>0.40</td>\n",
              "      <td>6.90</td>\n",
              "      <td>0.050</td>\n",
              "      <td>30.0</td>\n",
              "      <td>97.0</td>\n",
              "      <td>0.9951</td>\n",
              "      <td>3.26</td>\n",
              "      <td>0.44</td>\n",
              "      <td>10.1</td>\n",
              "      <td>1</td>\n",
              "    </tr>\n",
              "    <tr>\n",
              "      <th>3</th>\n",
              "      <td>7.2</td>\n",
              "      <td>0.23</td>\n",
              "      <td>0.32</td>\n",
              "      <td>8.50</td>\n",
              "      <td>0.058</td>\n",
              "      <td>47.0</td>\n",
              "      <td>186.0</td>\n",
              "      <td>0.9956</td>\n",
              "      <td>3.19</td>\n",
              "      <td>0.40</td>\n",
              "      <td>9.9</td>\n",
              "      <td>1</td>\n",
              "    </tr>\n",
              "    <tr>\n",
              "      <th>4</th>\n",
              "      <td>7.2</td>\n",
              "      <td>0.23</td>\n",
              "      <td>0.32</td>\n",
              "      <td>8.50</td>\n",
              "      <td>0.058</td>\n",
              "      <td>47.0</td>\n",
              "      <td>186.0</td>\n",
              "      <td>0.9956</td>\n",
              "      <td>3.19</td>\n",
              "      <td>0.40</td>\n",
              "      <td>9.9</td>\n",
              "      <td>1</td>\n",
              "    </tr>\n",
              "    <tr>\n",
              "      <th>5</th>\n",
              "      <td>8.1</td>\n",
              "      <td>0.28</td>\n",
              "      <td>0.40</td>\n",
              "      <td>6.90</td>\n",
              "      <td>0.050</td>\n",
              "      <td>30.0</td>\n",
              "      <td>97.0</td>\n",
              "      <td>0.9951</td>\n",
              "      <td>3.26</td>\n",
              "      <td>0.44</td>\n",
              "      <td>10.1</td>\n",
              "      <td>1</td>\n",
              "    </tr>\n",
              "    <tr>\n",
              "      <th>6</th>\n",
              "      <td>6.2</td>\n",
              "      <td>0.32</td>\n",
              "      <td>0.16</td>\n",
              "      <td>7.00</td>\n",
              "      <td>0.045</td>\n",
              "      <td>30.0</td>\n",
              "      <td>136.0</td>\n",
              "      <td>0.9949</td>\n",
              "      <td>3.18</td>\n",
              "      <td>0.47</td>\n",
              "      <td>9.6</td>\n",
              "      <td>1</td>\n",
              "    </tr>\n",
              "    <tr>\n",
              "      <th>7</th>\n",
              "      <td>7.0</td>\n",
              "      <td>0.27</td>\n",
              "      <td>0.36</td>\n",
              "      <td>20.70</td>\n",
              "      <td>0.045</td>\n",
              "      <td>45.0</td>\n",
              "      <td>170.0</td>\n",
              "      <td>1.0010</td>\n",
              "      <td>3.00</td>\n",
              "      <td>0.45</td>\n",
              "      <td>8.8</td>\n",
              "      <td>1</td>\n",
              "    </tr>\n",
              "    <tr>\n",
              "      <th>8</th>\n",
              "      <td>6.3</td>\n",
              "      <td>0.30</td>\n",
              "      <td>0.34</td>\n",
              "      <td>1.60</td>\n",
              "      <td>0.049</td>\n",
              "      <td>14.0</td>\n",
              "      <td>132.0</td>\n",
              "      <td>0.9940</td>\n",
              "      <td>3.30</td>\n",
              "      <td>0.49</td>\n",
              "      <td>9.5</td>\n",
              "      <td>1</td>\n",
              "    </tr>\n",
              "    <tr>\n",
              "      <th>9</th>\n",
              "      <td>8.1</td>\n",
              "      <td>0.22</td>\n",
              "      <td>0.43</td>\n",
              "      <td>1.50</td>\n",
              "      <td>0.044</td>\n",
              "      <td>28.0</td>\n",
              "      <td>129.0</td>\n",
              "      <td>0.9938</td>\n",
              "      <td>3.22</td>\n",
              "      <td>0.45</td>\n",
              "      <td>11.0</td>\n",
              "      <td>1</td>\n",
              "    </tr>\n",
              "    <tr>\n",
              "      <th>10</th>\n",
              "      <td>8.1</td>\n",
              "      <td>0.27</td>\n",
              "      <td>0.41</td>\n",
              "      <td>1.45</td>\n",
              "      <td>0.033</td>\n",
              "      <td>11.0</td>\n",
              "      <td>63.0</td>\n",
              "      <td>0.9908</td>\n",
              "      <td>2.99</td>\n",
              "      <td>0.56</td>\n",
              "      <td>12.0</td>\n",
              "      <td>1</td>\n",
              "    </tr>\n",
              "    <tr>\n",
              "      <th>11</th>\n",
              "      <td>8.6</td>\n",
              "      <td>0.23</td>\n",
              "      <td>0.40</td>\n",
              "      <td>4.20</td>\n",
              "      <td>0.035</td>\n",
              "      <td>17.0</td>\n",
              "      <td>109.0</td>\n",
              "      <td>0.9947</td>\n",
              "      <td>3.14</td>\n",
              "      <td>0.53</td>\n",
              "      <td>9.7</td>\n",
              "      <td>1</td>\n",
              "    </tr>\n",
              "    <tr>\n",
              "      <th>12</th>\n",
              "      <td>7.9</td>\n",
              "      <td>0.18</td>\n",
              "      <td>0.37</td>\n",
              "      <td>1.20</td>\n",
              "      <td>0.040</td>\n",
              "      <td>16.0</td>\n",
              "      <td>75.0</td>\n",
              "      <td>0.9920</td>\n",
              "      <td>3.18</td>\n",
              "      <td>0.63</td>\n",
              "      <td>10.8</td>\n",
              "      <td>1</td>\n",
              "    </tr>\n",
              "    <tr>\n",
              "      <th>13</th>\n",
              "      <td>6.6</td>\n",
              "      <td>0.16</td>\n",
              "      <td>0.40</td>\n",
              "      <td>1.50</td>\n",
              "      <td>0.044</td>\n",
              "      <td>48.0</td>\n",
              "      <td>143.0</td>\n",
              "      <td>0.9912</td>\n",
              "      <td>3.54</td>\n",
              "      <td>0.52</td>\n",
              "      <td>12.4</td>\n",
              "      <td>2</td>\n",
              "    </tr>\n",
              "    <tr>\n",
              "      <th>14</th>\n",
              "      <td>8.3</td>\n",
              "      <td>0.42</td>\n",
              "      <td>0.62</td>\n",
              "      <td>19.25</td>\n",
              "      <td>0.040</td>\n",
              "      <td>41.0</td>\n",
              "      <td>172.0</td>\n",
              "      <td>1.0002</td>\n",
              "      <td>2.98</td>\n",
              "      <td>0.67</td>\n",
              "      <td>9.7</td>\n",
              "      <td>1</td>\n",
              "    </tr>\n",
              "    <tr>\n",
              "      <th>15</th>\n",
              "      <td>6.6</td>\n",
              "      <td>0.17</td>\n",
              "      <td>0.38</td>\n",
              "      <td>1.50</td>\n",
              "      <td>0.032</td>\n",
              "      <td>28.0</td>\n",
              "      <td>112.0</td>\n",
              "      <td>0.9914</td>\n",
              "      <td>3.25</td>\n",
              "      <td>0.55</td>\n",
              "      <td>11.4</td>\n",
              "      <td>2</td>\n",
              "    </tr>\n",
              "    <tr>\n",
              "      <th>16</th>\n",
              "      <td>6.3</td>\n",
              "      <td>0.48</td>\n",
              "      <td>0.04</td>\n",
              "      <td>1.10</td>\n",
              "      <td>0.046</td>\n",
              "      <td>30.0</td>\n",
              "      <td>99.0</td>\n",
              "      <td>0.9928</td>\n",
              "      <td>3.24</td>\n",
              "      <td>0.36</td>\n",
              "      <td>9.6</td>\n",
              "      <td>1</td>\n",
              "    </tr>\n",
              "    <tr>\n",
              "      <th>17</th>\n",
              "      <td>6.2</td>\n",
              "      <td>0.66</td>\n",
              "      <td>0.48</td>\n",
              "      <td>1.20</td>\n",
              "      <td>0.029</td>\n",
              "      <td>29.0</td>\n",
              "      <td>75.0</td>\n",
              "      <td>0.9892</td>\n",
              "      <td>3.33</td>\n",
              "      <td>0.39</td>\n",
              "      <td>12.8</td>\n",
              "      <td>2</td>\n",
              "    </tr>\n",
              "    <tr>\n",
              "      <th>18</th>\n",
              "      <td>7.4</td>\n",
              "      <td>0.34</td>\n",
              "      <td>0.42</td>\n",
              "      <td>1.10</td>\n",
              "      <td>0.033</td>\n",
              "      <td>17.0</td>\n",
              "      <td>171.0</td>\n",
              "      <td>0.9917</td>\n",
              "      <td>3.12</td>\n",
              "      <td>0.53</td>\n",
              "      <td>11.3</td>\n",
              "      <td>1</td>\n",
              "    </tr>\n",
              "    <tr>\n",
              "      <th>19</th>\n",
              "      <td>6.5</td>\n",
              "      <td>0.31</td>\n",
              "      <td>0.14</td>\n",
              "      <td>7.50</td>\n",
              "      <td>0.044</td>\n",
              "      <td>34.0</td>\n",
              "      <td>133.0</td>\n",
              "      <td>0.9955</td>\n",
              "      <td>3.22</td>\n",
              "      <td>0.50</td>\n",
              "      <td>9.5</td>\n",
              "      <td>1</td>\n",
              "    </tr>\n",
              "  </tbody>\n",
              "</table>\n",
              "</div>"
            ],
            "text/plain": [
              "    fixed acidity  volatile acidity  citric acid  ...  sulphates  alcohol  quality\n",
              "0             7.0              0.27         0.36  ...       0.45      8.8        1\n",
              "1             6.3              0.30         0.34  ...       0.49      9.5        1\n",
              "2             8.1              0.28         0.40  ...       0.44     10.1        1\n",
              "3             7.2              0.23         0.32  ...       0.40      9.9        1\n",
              "4             7.2              0.23         0.32  ...       0.40      9.9        1\n",
              "5             8.1              0.28         0.40  ...       0.44     10.1        1\n",
              "6             6.2              0.32         0.16  ...       0.47      9.6        1\n",
              "7             7.0              0.27         0.36  ...       0.45      8.8        1\n",
              "8             6.3              0.30         0.34  ...       0.49      9.5        1\n",
              "9             8.1              0.22         0.43  ...       0.45     11.0        1\n",
              "10            8.1              0.27         0.41  ...       0.56     12.0        1\n",
              "11            8.6              0.23         0.40  ...       0.53      9.7        1\n",
              "12            7.9              0.18         0.37  ...       0.63     10.8        1\n",
              "13            6.6              0.16         0.40  ...       0.52     12.4        2\n",
              "14            8.3              0.42         0.62  ...       0.67      9.7        1\n",
              "15            6.6              0.17         0.38  ...       0.55     11.4        2\n",
              "16            6.3              0.48         0.04  ...       0.36      9.6        1\n",
              "17            6.2              0.66         0.48  ...       0.39     12.8        2\n",
              "18            7.4              0.34         0.42  ...       0.53     11.3        1\n",
              "19            6.5              0.31         0.14  ...       0.50      9.5        1\n",
              "\n",
              "[20 rows x 12 columns]"
            ]
          },
          "metadata": {},
          "execution_count": 52
        }
      ]
    },
    {
      "cell_type": "markdown",
      "metadata": {
        "id": "x7MY-W9VHpVx"
      },
      "source": [
        "##**Build the ML model**"
      ]
    },
    {
      "cell_type": "markdown",
      "metadata": {
        "id": "zjV8Yp8YH5A2"
      },
      "source": [
        "At the begining I split data into features and target label:"
      ]
    },
    {
      "cell_type": "code",
      "metadata": {
        "id": "gGdgm_GhHtKy"
      },
      "source": [
        "X=good_wine_white.drop('quality', axis=1)\n",
        "y=good_wine_white['quality']"
      ],
      "execution_count": null,
      "outputs": []
    },
    {
      "cell_type": "markdown",
      "metadata": {
        "id": "-kYrI5e8H8R2"
      },
      "source": [
        "I standarize our X variable:"
      ]
    },
    {
      "cell_type": "code",
      "metadata": {
        "id": "HAkVRz-tH860"
      },
      "source": [
        "X=StandardScaler().fit_transform(X)"
      ],
      "execution_count": null,
      "outputs": []
    },
    {
      "cell_type": "markdown",
      "metadata": {
        "id": "aAZ6CpyzIDYg"
      },
      "source": [
        "Next I split data into training and testing sets and show the result of the splitting:"
      ]
    },
    {
      "cell_type": "code",
      "metadata": {
        "id": "tjgz-UhmIEHO",
        "colab": {
          "base_uri": "https://localhost:8080/"
        },
        "outputId": "7f0d3a6e-03c9-422e-aec9-46626387d631"
      },
      "source": [
        "X_train, X_test, y_train, y_test=train_test_split(X, y, test_size=0.2, random_state=42)\n",
        "\n",
        "print(\"Training set:\", X_train.shape, y_train.shape)\n",
        "print(\"Test set:\", X_test.shape, y_test.shape)"
      ],
      "execution_count": null,
      "outputs": [
        {
          "output_type": "stream",
          "name": "stdout",
          "text": [
            "Training set: (3918, 11) (3918,)\n",
            "Test set: (980, 11) (980,)\n"
          ]
        }
      ]
    },
    {
      "cell_type": "markdown",
      "metadata": {
        "id": "qGOCWjvBujW_"
      },
      "source": [
        "**Logistic regression model**\n"
      ]
    },
    {
      "cell_type": "code",
      "metadata": {
        "colab": {
          "base_uri": "https://localhost:8080/"
        },
        "id": "JWJIPJyMwtEx",
        "outputId": "065232dd-f140-41f1-fb64-59fef15bad7b"
      },
      "source": [
        "lreg_model = LogisticRegression()\n",
        "\n",
        "lreg_model.fit(X_train, y_train)"
      ],
      "execution_count": null,
      "outputs": [
        {
          "output_type": "execute_result",
          "data": {
            "text/plain": [
              "LogisticRegression(C=1.0, class_weight=None, dual=False, fit_intercept=True,\n",
              "                   intercept_scaling=1, l1_ratio=None, max_iter=100,\n",
              "                   multi_class='auto', n_jobs=None, penalty='l2',\n",
              "                   random_state=None, solver='lbfgs', tol=0.0001, verbose=0,\n",
              "                   warm_start=False)"
            ]
          },
          "metadata": {},
          "execution_count": 56
        }
      ]
    },
    {
      "cell_type": "code",
      "metadata": {
        "colab": {
          "base_uri": "https://localhost:8080/"
        },
        "id": "E5VS_ChRwwUq",
        "outputId": "32eb22aa-7bb4-452f-f2f8-0e80e2a85055"
      },
      "source": [
        "y_pred = lreg_model.predict(X_test)\n",
        "lreg_score = accuracy_score(y_test, y_pred)\n",
        "lreg_score"
      ],
      "execution_count": null,
      "outputs": [
        {
          "output_type": "execute_result",
          "data": {
            "text/plain": [
              "0.7561224489795918"
            ]
          },
          "metadata": {},
          "execution_count": 57
        }
      ]
    },
    {
      "cell_type": "code",
      "metadata": {
        "colab": {
          "base_uri": "https://localhost:8080/"
        },
        "id": "kc6oSI6LwzvE",
        "outputId": "3618d26a-162d-4478-9a65-6534798575d3"
      },
      "source": [
        "print(classification_report(y_test, y_pred))"
      ],
      "execution_count": null,
      "outputs": [
        {
          "output_type": "stream",
          "name": "stdout",
          "text": [
            "              precision    recall  f1-score   support\n",
            "\n",
            "           0       0.33      0.03      0.06        30\n",
            "           1       0.78      0.93      0.85       723\n",
            "           2       0.58      0.29      0.38       227\n",
            "\n",
            "    accuracy                           0.76       980\n",
            "   macro avg       0.56      0.42      0.43       980\n",
            "weighted avg       0.72      0.76      0.72       980\n",
            "\n"
          ]
        }
      ]
    },
    {
      "cell_type": "markdown",
      "metadata": {
        "id": "xmv2b-0yuo_X"
      },
      "source": [
        "**SVM model**"
      ]
    },
    {
      "cell_type": "code",
      "metadata": {
        "id": "rHnAC8jrxA8G"
      },
      "source": [
        "svm_model = SVC(kernel='linear')\n",
        "\n",
        "svm_model.fit(X_train, y_train)\n",
        "y_pred = svm_model.predict(X_test)"
      ],
      "execution_count": null,
      "outputs": []
    },
    {
      "cell_type": "code",
      "metadata": {
        "colab": {
          "base_uri": "https://localhost:8080/"
        },
        "id": "PXFQD6l5xDgP",
        "outputId": "43d4a0ff-423a-4b54-b71d-0233318314eb"
      },
      "source": [
        "svm_score = accuracy_score(y_test, y_pred)\n",
        "svm_score"
      ],
      "execution_count": null,
      "outputs": [
        {
          "output_type": "execute_result",
          "data": {
            "text/plain": [
              "0.7377551020408163"
            ]
          },
          "metadata": {},
          "execution_count": 60
        }
      ]
    },
    {
      "cell_type": "code",
      "metadata": {
        "colab": {
          "base_uri": "https://localhost:8080/"
        },
        "id": "7KfkF4szxGjX",
        "outputId": "f360b222-4a31-4c40-dc53-7825ed26c09c"
      },
      "source": [
        "print(classification_report(y_test, y_pred))"
      ],
      "execution_count": null,
      "outputs": [
        {
          "output_type": "stream",
          "name": "stdout",
          "text": [
            "              precision    recall  f1-score   support\n",
            "\n",
            "           0       0.00      0.00      0.00        30\n",
            "           1       0.74      1.00      0.85       723\n",
            "           2       0.00      0.00      0.00       227\n",
            "\n",
            "    accuracy                           0.74       980\n",
            "   macro avg       0.25      0.33      0.28       980\n",
            "weighted avg       0.54      0.74      0.63       980\n",
            "\n"
          ]
        }
      ]
    },
    {
      "cell_type": "markdown",
      "metadata": {
        "id": "zPIn_zIwuu2y"
      },
      "source": [
        "**Gaussian Naive Bayes model**"
      ]
    },
    {
      "cell_type": "code",
      "metadata": {
        "id": "vKGXfyuWxKTb"
      },
      "source": [
        "gaussianNB_model = GaussianNB()\n",
        "\n",
        "gaussianNB_model.fit(X_train, y_train)\n",
        "y_pred = gaussianNB_model.predict(X_test)"
      ],
      "execution_count": null,
      "outputs": []
    },
    {
      "cell_type": "code",
      "metadata": {
        "colab": {
          "base_uri": "https://localhost:8080/"
        },
        "id": "aV2nB9odxNAY",
        "outputId": "74af2c00-a8b4-4ff6-d079-3fcfeeedd562"
      },
      "source": [
        "acc_gaussianNB = accuracy_score(y_test, y_pred)\n",
        "acc_gaussianNB"
      ],
      "execution_count": null,
      "outputs": [
        {
          "output_type": "execute_result",
          "data": {
            "text/plain": [
              "0.6632653061224489"
            ]
          },
          "metadata": {},
          "execution_count": 63
        }
      ]
    },
    {
      "cell_type": "code",
      "metadata": {
        "colab": {
          "base_uri": "https://localhost:8080/"
        },
        "id": "403K_qNxxQF5",
        "outputId": "3b4cdea4-0b23-448f-e2c7-f0fea11a4cb3"
      },
      "source": [
        "print(classification_report(y_test, y_pred))"
      ],
      "execution_count": null,
      "outputs": [
        {
          "output_type": "stream",
          "name": "stdout",
          "text": [
            "              precision    recall  f1-score   support\n",
            "\n",
            "           0       0.22      0.30      0.25        30\n",
            "           1       0.85      0.67      0.75       723\n",
            "           2       0.42      0.70      0.53       227\n",
            "\n",
            "    accuracy                           0.66       980\n",
            "   macro avg       0.50      0.55      0.51       980\n",
            "weighted avg       0.73      0.66      0.68       980\n",
            "\n"
          ]
        }
      ]
    },
    {
      "cell_type": "markdown",
      "metadata": {
        "id": "B50Y-Xi3uyDj"
      },
      "source": [
        "**KNN model**"
      ]
    },
    {
      "cell_type": "code",
      "metadata": {
        "id": "vjNPD0UExTFR"
      },
      "source": [
        "Knn = KNeighborsClassifier(n_neighbors = 3)\n",
        "\n",
        "Knn.fit(X_train, y_train)\n",
        "knn_pred = Knn.predict(X_test)"
      ],
      "execution_count": null,
      "outputs": []
    },
    {
      "cell_type": "code",
      "metadata": {
        "colab": {
          "base_uri": "https://localhost:8080/"
        },
        "id": "gCRK3sQ2xVRl",
        "outputId": "2d37ad3c-33d9-4cfe-a827-2401a364d7b2"
      },
      "source": [
        "acc_knn = accuracy_score(y_test, knn_pred)\n",
        "acc_knn"
      ],
      "execution_count": null,
      "outputs": [
        {
          "output_type": "execute_result",
          "data": {
            "text/plain": [
              "0.7959183673469388"
            ]
          },
          "metadata": {},
          "execution_count": 66
        }
      ]
    },
    {
      "cell_type": "code",
      "metadata": {
        "colab": {
          "base_uri": "https://localhost:8080/"
        },
        "id": "wZtr53WuxX_m",
        "outputId": "5316a490-5990-411f-f08e-b08136f39076"
      },
      "source": [
        "print(classification_report(y_test, knn_pred))"
      ],
      "execution_count": null,
      "outputs": [
        {
          "output_type": "stream",
          "name": "stdout",
          "text": [
            "              precision    recall  f1-score   support\n",
            "\n",
            "           0       0.30      0.30      0.30        30\n",
            "           1       0.85      0.89      0.87       723\n",
            "           2       0.67      0.58      0.62       227\n",
            "\n",
            "    accuracy                           0.80       980\n",
            "   macro avg       0.61      0.59      0.60       980\n",
            "weighted avg       0.79      0.80      0.79       980\n",
            "\n"
          ]
        }
      ]
    },
    {
      "cell_type": "markdown",
      "metadata": {
        "id": "vxy8TPnYu2KL"
      },
      "source": [
        "**Random Forest model**"
      ]
    },
    {
      "cell_type": "code",
      "metadata": {
        "id": "2WFrAAwLxbUA"
      },
      "source": [
        "RF_model = RandomForestClassifier(n_estimators=100)\n",
        "\n",
        "RF_model.fit(X_train, y_train)\n",
        "RF_pred = RF_model.predict(X_test)"
      ],
      "execution_count": null,
      "outputs": []
    },
    {
      "cell_type": "code",
      "metadata": {
        "colab": {
          "base_uri": "https://localhost:8080/"
        },
        "id": "kqtHSgs-xd3x",
        "outputId": "bf70dba1-e3a9-4a3b-b6af-27ac5c0964c5"
      },
      "source": [
        "acc_RF = accuracy_score(y_test, RF_pred)\n",
        "acc_RF"
      ],
      "execution_count": null,
      "outputs": [
        {
          "output_type": "execute_result",
          "data": {
            "text/plain": [
              "0.8653061224489796"
            ]
          },
          "metadata": {},
          "execution_count": 69
        }
      ]
    },
    {
      "cell_type": "code",
      "metadata": {
        "colab": {
          "base_uri": "https://localhost:8080/"
        },
        "id": "pN2Pbfsexhey",
        "outputId": "6b3ebac4-0d4f-4e50-d929-18c985eab656"
      },
      "source": [
        "print(classification_report(y_test, RF_pred))"
      ],
      "execution_count": null,
      "outputs": [
        {
          "output_type": "stream",
          "name": "stdout",
          "text": [
            "              precision    recall  f1-score   support\n",
            "\n",
            "           0       0.57      0.13      0.22        30\n",
            "           1       0.87      0.96      0.91       723\n",
            "           2       0.84      0.67      0.75       227\n",
            "\n",
            "    accuracy                           0.87       980\n",
            "   macro avg       0.76      0.59      0.63       980\n",
            "weighted avg       0.86      0.87      0.85       980\n",
            "\n"
          ]
        }
      ]
    },
    {
      "cell_type": "markdown",
      "metadata": {
        "id": "6hMRwN2fu6rd"
      },
      "source": [
        "**XGBoost model**"
      ]
    },
    {
      "cell_type": "code",
      "metadata": {
        "colab": {
          "base_uri": "https://localhost:8080/"
        },
        "id": "AuqM2LWnuJiU",
        "outputId": "5107ade1-c128-4fa2-fa1d-6db9ad99c7da"
      },
      "source": [
        "xgb_model = XGBClassifier(objective=\"binary:logistic\", n_estimators=10, seed=123)\n",
        "xgb_model.fit(X_train, y_train)\n",
        "pred_xg = xgb_model.predict(X_test)\n",
        "acc_xg = accuracy_score(y_test, pred_xg)\n",
        "acc_xg"
      ],
      "execution_count": null,
      "outputs": [
        {
          "output_type": "execute_result",
          "data": {
            "text/plain": [
              "0.7653061224489796"
            ]
          },
          "metadata": {},
          "execution_count": 71
        }
      ]
    },
    {
      "cell_type": "code",
      "metadata": {
        "colab": {
          "base_uri": "https://localhost:8080/"
        },
        "id": "dv7FA4TtytNB",
        "outputId": "af739039-135e-4883-b6f1-7568a6f727ce"
      },
      "source": [
        "print(classification_report(y_test, pred_xg))"
      ],
      "execution_count": null,
      "outputs": [
        {
          "output_type": "stream",
          "name": "stdout",
          "text": [
            "              precision    recall  f1-score   support\n",
            "\n",
            "           0       0.50      0.03      0.06        30\n",
            "           1       0.78      0.96      0.86       723\n",
            "           2       0.65      0.26      0.37       227\n",
            "\n",
            "    accuracy                           0.77       980\n",
            "   macro avg       0.64      0.41      0.43       980\n",
            "weighted avg       0.74      0.77      0.72       980\n",
            "\n"
          ]
        }
      ]
    },
    {
      "cell_type": "markdown",
      "metadata": {
        "id": "ZjUQAvTjvSgK"
      },
      "source": [
        "**DecisionTree Model**"
      ]
    },
    {
      "cell_type": "code",
      "metadata": {
        "colab": {
          "base_uri": "https://localhost:8080/"
        },
        "id": "qywwErc8vUKr",
        "outputId": "27e2f9d9-4b61-46e7-be31-7dea00e3d47b"
      },
      "source": [
        "dt_model = DecisionTreeClassifier()\n",
        "dt_model.fit(X_train, y_train)\n",
        "pred_dt = dt_model.predict(X_test)\n",
        "acc_dt = accuracy_score(y_test, pred_dt)\n",
        "acc_dt"
      ],
      "execution_count": null,
      "outputs": [
        {
          "output_type": "execute_result",
          "data": {
            "text/plain": [
              "0.7744897959183673"
            ]
          },
          "metadata": {},
          "execution_count": 73
        }
      ]
    },
    {
      "cell_type": "code",
      "metadata": {
        "colab": {
          "base_uri": "https://localhost:8080/"
        },
        "id": "hWkQLEVYyzPg",
        "outputId": "65c3e8aa-6d16-4928-af17-1e47b1d9e3c2"
      },
      "source": [
        "print(classification_report(y_test, pred_dt))"
      ],
      "execution_count": null,
      "outputs": [
        {
          "output_type": "stream",
          "name": "stdout",
          "text": [
            "              precision    recall  f1-score   support\n",
            "\n",
            "           0       0.22      0.33      0.27        30\n",
            "           1       0.87      0.82      0.84       723\n",
            "           2       0.61      0.69      0.65       227\n",
            "\n",
            "    accuracy                           0.77       980\n",
            "   macro avg       0.57      0.61      0.59       980\n",
            "weighted avg       0.79      0.77      0.78       980\n",
            "\n"
          ]
        }
      ]
    },
    {
      "cell_type": "markdown",
      "metadata": {
        "id": "d-ZGRVmFvyTb"
      },
      "source": [
        "\n",
        "**Evaluation of the model**\n",
        "\n",
        "Now I test which model gives the best score:\n"
      ]
    },
    {
      "cell_type": "code",
      "metadata": {
        "colab": {
          "base_uri": "https://localhost:8080/",
          "height": 269
        },
        "id": "aHQg3GsFv1Kc",
        "outputId": "325d63a8-06e0-4bf8-b7fc-a974ed53c4ea"
      },
      "source": [
        "models = pd.DataFrame({\n",
        "                      'Model': ['Logistic Regression', 'SVM','Gaussian Naive Bayes', 'KNN', 'Random Forest', 'XGBoost Classifier', 'Decision Tree',],\n",
        "                      'Score': [lreg_score, svm_score, acc_gaussianNB, acc_knn, acc_RF, acc_xg, acc_dt]})\n",
        "models.sort_values(by='Score', ascending=False)"
      ],
      "execution_count": null,
      "outputs": [
        {
          "output_type": "execute_result",
          "data": {
            "text/html": [
              "<div>\n",
              "<style scoped>\n",
              "    .dataframe tbody tr th:only-of-type {\n",
              "        vertical-align: middle;\n",
              "    }\n",
              "\n",
              "    .dataframe tbody tr th {\n",
              "        vertical-align: top;\n",
              "    }\n",
              "\n",
              "    .dataframe thead th {\n",
              "        text-align: right;\n",
              "    }\n",
              "</style>\n",
              "<table border=\"1\" class=\"dataframe\">\n",
              "  <thead>\n",
              "    <tr style=\"text-align: right;\">\n",
              "      <th></th>\n",
              "      <th>Model</th>\n",
              "      <th>Score</th>\n",
              "    </tr>\n",
              "  </thead>\n",
              "  <tbody>\n",
              "    <tr>\n",
              "      <th>4</th>\n",
              "      <td>Random Forest</td>\n",
              "      <td>0.865306</td>\n",
              "    </tr>\n",
              "    <tr>\n",
              "      <th>3</th>\n",
              "      <td>KNN</td>\n",
              "      <td>0.795918</td>\n",
              "    </tr>\n",
              "    <tr>\n",
              "      <th>6</th>\n",
              "      <td>Decision Tree</td>\n",
              "      <td>0.774490</td>\n",
              "    </tr>\n",
              "    <tr>\n",
              "      <th>5</th>\n",
              "      <td>XGBoost Classifier</td>\n",
              "      <td>0.765306</td>\n",
              "    </tr>\n",
              "    <tr>\n",
              "      <th>0</th>\n",
              "      <td>Logistic Regression</td>\n",
              "      <td>0.756122</td>\n",
              "    </tr>\n",
              "    <tr>\n",
              "      <th>1</th>\n",
              "      <td>SVM</td>\n",
              "      <td>0.737755</td>\n",
              "    </tr>\n",
              "    <tr>\n",
              "      <th>2</th>\n",
              "      <td>Gaussian Naive Bayes</td>\n",
              "      <td>0.663265</td>\n",
              "    </tr>\n",
              "  </tbody>\n",
              "</table>\n",
              "</div>"
            ],
            "text/plain": [
              "                  Model     Score\n",
              "4         Random Forest  0.865306\n",
              "3                   KNN  0.795918\n",
              "6         Decision Tree  0.774490\n",
              "5    XGBoost Classifier  0.765306\n",
              "0   Logistic Regression  0.756122\n",
              "1                   SVM  0.737755\n",
              "2  Gaussian Naive Bayes  0.663265"
            ]
          },
          "metadata": {},
          "execution_count": 75
        }
      ]
    },
    {
      "cell_type": "markdown",
      "metadata": {
        "id": "EXqIk87uwfym"
      },
      "source": [
        "\n",
        "##**Tuning Parameters with GridSearchCV**\n",
        "\n",
        "Since the Random Forest model gives the best accuracy I may improve it by turning the hyperparameters. In this regards I will use a GridSearchCV method to find the best parameters for my model and use it to train and test data.\n"
      ]
    },
    {
      "cell_type": "code",
      "metadata": {
        "colab": {
          "base_uri": "https://localhost:8080/"
        },
        "id": "Xm5-rcHKwjw-",
        "outputId": "7dc13cea-06ca-4eb6-d129-65f974360591"
      },
      "source": [
        "RF_model = RandomForestClassifier()\n",
        "\n",
        "parameters = {\"n_estimators\": [4, 5, 6, 7, 8, 9, 10, 15],\n",
        "              \"criterion\": [\"gini\", \"entropy\"],\n",
        "              \"max_features\": [\"auto\", \"sqrt\", \"log2\"],\n",
        "              \"max_depth\": [2, 3, 5, 10],\n",
        "              \"min_samples_split\": [2, 3, 5, 10],\n",
        "              \"min_samples_leaf\": [1, 5, 8, 10]\n",
        "             }\n",
        "\n",
        "grid_cv = GridSearchCV(RF_model, parameters, scoring = make_scorer(accuracy_score))\n",
        "grid_cv = grid_cv.fit(X_train, y_train)\n",
        "\n",
        "print(\"Our optimized Random Forest model is:\")\n",
        "grid_cv.best_estimator_"
      ],
      "execution_count": null,
      "outputs": [
        {
          "output_type": "stream",
          "name": "stdout",
          "text": [
            "Our optimized Random Forest model is:\n"
          ]
        },
        {
          "output_type": "execute_result",
          "data": {
            "text/plain": [
              "RandomForestClassifier(bootstrap=True, ccp_alpha=0.0, class_weight=None,\n",
              "                       criterion='entropy', max_depth=10, max_features='log2',\n",
              "                       max_leaf_nodes=None, max_samples=None,\n",
              "                       min_impurity_decrease=0.0, min_impurity_split=None,\n",
              "                       min_samples_leaf=1, min_samples_split=3,\n",
              "                       min_weight_fraction_leaf=0.0, n_estimators=15,\n",
              "                       n_jobs=None, oob_score=False, random_state=None,\n",
              "                       verbose=0, warm_start=False)"
            ]
          },
          "metadata": {},
          "execution_count": 76
        }
      ]
    },
    {
      "cell_type": "markdown",
      "metadata": {
        "id": "Aq_fpvx_iUaZ"
      },
      "source": [
        "Now I build the final model with received parameters:"
      ]
    },
    {
      "cell_type": "code",
      "metadata": {
        "colab": {
          "base_uri": "https://localhost:8080/"
        },
        "id": "6xpZuP07iVSI",
        "outputId": "bb4cd9e3-e033-49ba-c99c-cd5fe2a8d74b"
      },
      "source": [
        "rf_grid = RandomForestClassifier(max_depth=10, max_features = 'log2', min_samples_leaf=1, min_samples_split=3, n_estimators=15, random_state=None)\n",
        "rf_grid.fit(X_train,y_train)\n",
        "\n",
        "predict_y = rf_grid.predict(X_test)\n",
        "acc_rf = accuracy_score(y_test, predict_y)\n",
        "acc_rf"
      ],
      "execution_count": null,
      "outputs": [
        {
          "output_type": "execute_result",
          "data": {
            "text/plain": [
              "0.826530612244898"
            ]
          },
          "metadata": {},
          "execution_count": 81
        }
      ]
    },
    {
      "cell_type": "code",
      "metadata": {
        "colab": {
          "base_uri": "https://localhost:8080/"
        },
        "id": "khA9EzR_l7wH",
        "outputId": "8dc6d0be-aa96-4b33-f4b3-91d9435f53cd"
      },
      "source": [
        "print(classification_report(y_test, predict_y))"
      ],
      "execution_count": null,
      "outputs": [
        {
          "output_type": "stream",
          "name": "stdout",
          "text": [
            "              precision    recall  f1-score   support\n",
            "\n",
            "           0       0.83      0.17      0.28        30\n",
            "           1       0.83      0.95      0.89       723\n",
            "           2       0.78      0.51      0.61       227\n",
            "\n",
            "    accuracy                           0.83       980\n",
            "   macro avg       0.82      0.54      0.59       980\n",
            "weighted avg       0.82      0.83      0.81       980\n",
            "\n"
          ]
        }
      ]
    },
    {
      "cell_type": "markdown",
      "metadata": {
        "id": "wlZOS3ahm1hL"
      },
      "source": [
        "##**Conclusions**\n",
        "\n",
        "In this study I have investigated the white wine data to check which features are of great importance and contribute to its taste the most. After examination if analyzed dataset has any missing values and checking the features within it and their data types, I begin with the EDA analysis. One can see that boxplots show many outliers for quite a few variables. By virtue 'Describe' function I got a better idea on what's happening. To remove outliers the Tukey's Method has been used. This way an outlier is calculated as 1.5 times the interquartile range (IQR). I have also plotted a heatmap of co-relations between features (after outliers extraction), which will help me to get more insights.Next I have explored these co-relationships in more detail. Firstly to better visualize relationships of discrete values I have used a bar plots while to visualize continuous ones I have used a scatter plots.\n",
        "\n",
        "I have apllied ML models to make a predictions of wine quality and performed analysis showed that the best prediction is given by Random Forest model with the accuracy score equal to 86 % while the poorest one is given by Naive Bayes model with the accuracy score equal to 66 %. I have also used GridSearch to find the best hyperparameters of Random Forest model and to check if that result can be improved. By virtue of the GridSearch method I did not manage to improve the result since I got slightly worse one, with the accuracy score equal to 83%."
      ]
    }
  ]
}